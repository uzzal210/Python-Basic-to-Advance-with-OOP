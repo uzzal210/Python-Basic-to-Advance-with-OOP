{
 "cells": [
  {
   "cell_type": "markdown",
   "id": "7573f667",
   "metadata": {},
   "source": [
    "# Creating a list in Python"
   ]
  },
  {
   "cell_type": "code",
   "execution_count": 1,
   "id": "0b856f6d",
   "metadata": {},
   "outputs": [
    {
     "name": "stdout",
     "output_type": "stream",
     "text": [
      "Blank List: \n",
      "[]\n",
      "\n",
      "List of numbers: \n",
      "[10, 20, 14]\n",
      "\n",
      "List Items: \n",
      "Geeks\n",
      "Geeks\n"
     ]
    }
   ],
   "source": [
    "# Python program to demonstrate\n",
    "# Creation of List\n",
    "\n",
    "# Creating a List\n",
    "List = []\n",
    "print(\"Blank List: \")\n",
    "print(List)\n",
    "\n",
    "# Creating a List of numbers\n",
    "List = [10, 20, 14]\n",
    "print(\"\\nList of numbers: \")\n",
    "print(List)\n",
    "\n",
    "# Creating a List of strings and accessing\n",
    "# using index\n",
    "List = [\"Geeks\", \"For\", \"Geeks\"]\n",
    "print(\"\\nList Items: \")\n",
    "print(List[0])\n",
    "print(List[2])\n",
    "\n",
    "\n",
    "'''Complexities for Creating Lists\n",
    "Time Complexity: O(1)\n",
    "\n",
    "Space Complexity: O(n)'''"
   ]
  },
  {
   "cell_type": "markdown",
   "id": "9d6e2422",
   "metadata": {},
   "source": [
    "# Creating a list with multiple distinct or duplicate elements"
   ]
  },
  {
   "cell_type": "code",
   "execution_count": 2,
   "id": "e57b28ca",
   "metadata": {},
   "outputs": [
    {
     "name": "stdout",
     "output_type": "stream",
     "text": [
      "\n",
      "List with the use of Numbers: \n",
      "[1, 2, 4, 4, 3, 3, 3, 6, 5]\n",
      "\n",
      "List with the use of Mixed Values: \n",
      "[1, 2, 'Geeks', 4, 'For', 6, 'Geeks']\n"
     ]
    }
   ],
   "source": [
    "# Creating a List with\n",
    "# the use of Numbers\n",
    "# (Having duplicate values)\n",
    "List = [1, 2, 4, 4, 3, 3, 3, 6, 5]\n",
    "print(\"\\nList with the use of Numbers: \")\n",
    "print(List)\n",
    "\n",
    "# Creating a List with\n",
    "# mixed type of values\n",
    "# (Having numbers and strings)\n",
    "List = [1, 2, 'Geeks', 4, 'For', 6, 'Geeks']\n",
    "print(\"\\nList with the use of Mixed Values: \")\n",
    "print(List)\n"
   ]
  },
  {
   "cell_type": "markdown",
   "id": "6de77f09",
   "metadata": {},
   "source": [
    "# Accessing elements from list"
   ]
  },
  {
   "cell_type": "code",
   "execution_count": 3,
   "id": "c95b09be",
   "metadata": {},
   "outputs": [
    {
     "name": "stdout",
     "output_type": "stream",
     "text": [
      "Accessing a element from the list\n",
      "Geeks\n",
      "Geeks\n"
     ]
    }
   ],
   "source": [
    "# Python program to demonstrate\n",
    "# accessing of element from list\n",
    "\n",
    "# Creating a List with\n",
    "# the use of multiple values\n",
    "List = [\"Geeks\", \"For\", \"Geeks\"]\n",
    "\n",
    "# accessing a element from the\n",
    "# list using index number\n",
    "print(\"Accessing a element from the list\")\n",
    "print(List[0])\n",
    "print(List[2])\n"
   ]
  },
  {
   "cell_type": "markdown",
   "id": "0c5e3e7d",
   "metadata": {},
   "source": [
    "# Accessing elements from a multi-dimensional list"
   ]
  },
  {
   "cell_type": "code",
   "execution_count": 4,
   "id": "2e854398",
   "metadata": {},
   "outputs": [
    {
     "name": "stdout",
     "output_type": "stream",
     "text": [
      "Accessing a element from a Multi-Dimensional list\n",
      "For\n",
      "Geeks\n"
     ]
    }
   ],
   "source": [
    "# Creating a Multi-Dimensional List\n",
    "# (By Nesting a list inside a List)\n",
    "List = [['Geeks', 'For'], ['Geeks']]\n",
    "\n",
    "# accessing an element from the\n",
    "# Multi-Dimensional List using\n",
    "# index number\n",
    "print(\"Accessing a element from a Multi-Dimensional list\")\n",
    "print(List[0][1])\n",
    "print(List[1][0])\n"
   ]
  },
  {
   "cell_type": "code",
   "execution_count": 5,
   "id": "7142fc9c",
   "metadata": {},
   "outputs": [
    {
     "name": "stdout",
     "output_type": "stream",
     "text": [
      "F\n",
      "G\n"
     ]
    }
   ],
   "source": [
    "print(List[0][1][0])\n",
    "print(List[1][0][0])\n"
   ]
  },
  {
   "cell_type": "markdown",
   "id": "bec9778c",
   "metadata": {},
   "source": [
    "# Negative indexing"
   ]
  },
  {
   "cell_type": "code",
   "execution_count": 7,
   "id": "20a6badf",
   "metadata": {},
   "outputs": [
    {
     "name": "stdout",
     "output_type": "stream",
     "text": [
      "Accessing element using negative indexing\n",
      "Geeks\n",
      "For\n"
     ]
    },
    {
     "data": {
      "text/plain": [
       "'Complexities for Accessing elements in a Lists:\\nTime Complexity: O(1)\\n\\nSpace Complexity: O(1)'"
      ]
     },
     "execution_count": 7,
     "metadata": {},
     "output_type": "execute_result"
    }
   ],
   "source": [
    "List = [1, 2, 'Geeks', 4, 'For', 6, 'Geeks']\n",
    "\n",
    "# accessing an element using\n",
    "# negative indexing\n",
    "print(\"Accessing element using negative indexing\")\n",
    "\n",
    "# print the last element of list\n",
    "print(List[-1])\n",
    "\n",
    "# print the third last element of list\n",
    "print(List[-3])\n",
    "'''Complexities for Accessing elements in a Lists:\n",
    "Time Complexity: O(1)\n",
    "\n",
    "Space Complexity: O(1)'''"
   ]
  },
  {
   "cell_type": "markdown",
   "id": "aeae3c45",
   "metadata": {},
   "source": [
    "# Taking Input of a Python List"
   ]
  },
  {
   "cell_type": "code",
   "execution_count": 9,
   "id": "a9e527e6",
   "metadata": {},
   "outputs": [
    {
     "name": "stdout",
     "output_type": "stream",
     "text": [
      "Enter elements (Space-Separated): Uzzal Kumar ratul\n",
      "The list is: ['Uzzal', 'Kumar', 'ratul']\n"
     ]
    },
    {
     "data": {
      "text/plain": [
       "['Uzzal', 'Kumar', 'Ratul']"
      ]
     },
     "execution_count": 9,
     "metadata": {},
     "output_type": "execute_result"
    }
   ],
   "source": [
    "# Python program to take space\n",
    "# separated input as a string\n",
    "# split and store it to a list\n",
    "# and print the string list\n",
    "\n",
    "# input the list as string\n",
    "string = input(\"Enter elements (Space-Separated): \")\n",
    "\n",
    "# split the strings and store it to a list\n",
    "lst = string.split()\n",
    "print('The list is:', lst) # printing the list\n",
    "'Uzzal Kumar Ratul'.split()"
   ]
  },
  {
   "cell_type": "code",
   "execution_count": 11,
   "id": "d247dbcb",
   "metadata": {},
   "outputs": [
    {
     "name": "stdout",
     "output_type": "stream",
     "text": [
      "Enter the size of list : 4\n",
      "Enter the integer elements:1 2 3 4\n",
      "The list is: [1, 2, 3, 4]\n"
     ]
    }
   ],
   "source": [
    "# input size of the list\n",
    "n = int(input(\"Enter the size of list : \"))\n",
    "# store integers in a list using map,\n",
    "# split and strip functions\n",
    "lst = list(map(int, input(\"Enter the integer elements:\").strip().split()))[:n]\n",
    "\n",
    "# printing the list\n",
    "print('The list is:', lst)\n"
   ]
  },
  {
   "cell_type": "code",
   "execution_count": 15,
   "id": "a65d6625",
   "metadata": {},
   "outputs": [
    {
     "name": "stdout",
     "output_type": "stream",
     "text": [
      "Enter the integer elements:1 2\n"
     ]
    }
   ],
   "source": [
    "a,b = map(int, input(\"Enter the integer elements:\").split())"
   ]
  },
  {
   "cell_type": "code",
   "execution_count": 16,
   "id": "da2b51da",
   "metadata": {},
   "outputs": [
    {
     "data": {
      "text/plain": [
       "1"
      ]
     },
     "execution_count": 16,
     "metadata": {},
     "output_type": "execute_result"
    }
   ],
   "source": [
    "a"
   ]
  },
  {
   "cell_type": "code",
   "execution_count": 21,
   "id": "66c5225b",
   "metadata": {},
   "outputs": [
    {
     "name": "stdout",
     "output_type": "stream",
     "text": [
      "Enter the number at position 1::1\n",
      "Enter the number at position 2::2\n",
      "Enter the number at position 3::3\n",
      "Enter the number at position 4::4\n",
      "Enter the number at position 5::5\n",
      "['1', '2', '3', '4', '5']\n"
     ]
    }
   ],
   "source": [
    "a=[]\n",
    "for i in range(5):\n",
    "    a.append(input(\"Enter the number at position %d::\" %(i+1)))\n",
    "print(a)"
   ]
  },
  {
   "cell_type": "markdown",
   "id": "c1ee7a22",
   "metadata": {},
   "source": [
    "# Adding elements to a python list\n",
    "\n",
    " Using append() method\n",
    "Elements can be added to the List by using the built-in append() function. Only one element at a time can be added to the list by using the append() method, for the addition of multiple elements with the append() method, loops are used. Tuples can also be added to the list with the use of the append method because tuples are immutable. Unlike Sets, Lists can also be added to the existing list with the use of the append() method."
   ]
  },
  {
   "cell_type": "code",
   "execution_count": 22,
   "id": "85948eb3",
   "metadata": {},
   "outputs": [
    {
     "name": "stdout",
     "output_type": "stream",
     "text": [
      "Initial blank List: \n",
      "[]\n",
      "\n",
      "List after Addition of Three elements: \n",
      "[1, 2, 4]\n",
      "\n",
      "List after Addition of elements from 1-3: \n",
      "[1, 2, 4, 1, 2, 3]\n",
      "\n",
      "List after Addition of a Tuple: \n",
      "[1, 2, 4, 1, 2, 3, (5, 6)]\n",
      "\n",
      "List after Addition of a List: \n",
      "[1, 2, 4, 1, 2, 3, (5, 6), ['For', 'Geeks']]\n"
     ]
    }
   ],
   "source": [
    "# Python program to demonstrate\n",
    "# Addition of elements in a List\n",
    "\n",
    "# Creating a List\n",
    "List = []\n",
    "print(\"Initial blank List: \")\n",
    "print(List)\n",
    "\n",
    "# Addition of Elements\n",
    "# in the List\n",
    "List.append(1)\n",
    "List.append(2)\n",
    "List.append(4)\n",
    "print(\"\\nList after Addition of Three elements: \")\n",
    "print(List)\n",
    "\n",
    "# Adding elements to the List\n",
    "# using Iterator\n",
    "for i in range(1, 4):\n",
    "\tList.append(i)\n",
    "print(\"\\nList after Addition of elements from 1-3: \")\n",
    "print(List)\n",
    "\n",
    "# Adding Tuples to the List\n",
    "List.append((5, 6))\n",
    "print(\"\\nList after Addition of a Tuple: \")\n",
    "print(List)\n",
    "\n",
    "# Addition of List to a List\n",
    "List2 = ['For', 'Geeks']\n",
    "List.append(List2)\n",
    "print(\"\\nList after Addition of a List: \")\n",
    "print(List)\n",
    "\n",
    "\n",
    "'''Complexities for Adding elements in a Lists(append() method):\n",
    "Time Complexity: O(1)\n",
    "\n",
    "Space Complexity: O(1)'''"
   ]
  },
  {
   "cell_type": "markdown",
   "id": "44c6a406",
   "metadata": {},
   "source": [
    "# Using insert() method\n",
    "append() method only works for the addition of elements at the end of the List, for the addition of elements at the desired position, insert() method is used. Unlike append() which takes only one argument, the insert() method requires two arguments(position, value). "
   ]
  },
  {
   "cell_type": "code",
   "execution_count": 23,
   "id": "60dccd68",
   "metadata": {},
   "outputs": [
    {
     "name": "stdout",
     "output_type": "stream",
     "text": [
      "Initial List: \n",
      "[1, 2, 3, 4]\n",
      "\n",
      "List after performing Insert Operation: \n",
      "['Geeks', 1, 2, 3, 12, 4]\n"
     ]
    }
   ],
   "source": [
    "# Python program to demonstrate\n",
    "# Addition of elements in a List\n",
    "\n",
    "# Creating a List\n",
    "List = [1,2,3,4]\n",
    "print(\"Initial List: \")\n",
    "print(List)\n",
    "\n",
    "# Addition of Element at\n",
    "# specific Position\n",
    "# (using Insert Method)\n",
    "List.insert(3, 12)\n",
    "List.insert(0, 'Geeks')\n",
    "print(\"\\nList after performing Insert Operation: \")\n",
    "print(List)\n",
    "\n",
    "'''Complexities for Adding elements in a Lists(insert() method):\n",
    "Time Complexity: O(n)\n",
    "\n",
    "Space Complexity: O(1)'''\n"
   ]
  },
  {
   "cell_type": "markdown",
   "id": "9c50b6a2",
   "metadata": {},
   "source": [
    "# Using extend() method\n",
    "Other than append() and insert() methods, there’s one more method for the Addition of elements, extend(), this method is used to add multiple elements at the same time at the end of the list."
   ]
  },
  {
   "cell_type": "code",
   "execution_count": 24,
   "id": "63ed0a9e",
   "metadata": {},
   "outputs": [
    {
     "name": "stdout",
     "output_type": "stream",
     "text": [
      "Initial List: \n",
      "[1, 2, 3, 4]\n",
      "\n",
      "List after performing Extend Operation: \n",
      "[1, 2, 3, 4, 8, 'Geeks', 'Always']\n"
     ]
    }
   ],
   "source": [
    "# Python program to demonstrate\n",
    "# Addition of elements in a List\n",
    "\n",
    "# Creating a List\n",
    "List = [1, 2, 3, 4]\n",
    "print(\"Initial List: \")\n",
    "print(List)\n",
    "\n",
    "# Addition of multiple elements\n",
    "# to the List at the end\n",
    "# (using Extend Method)\n",
    "List.extend([8, 'Geeks', 'Always'])\n",
    "print(\"\\nList after performing Extend Operation: \")\n",
    "print(List)\n",
    "'''Complexities for Adding elements in a Lists(extend() method):\n",
    "Time Complexity: O(n)\n",
    "\n",
    "Space Complexity: O(1)'''"
   ]
  },
  {
   "cell_type": "markdown",
   "id": "715d1997",
   "metadata": {},
   "source": [
    "#  Using remove() method\n",
    "Elements can be removed from the List by using the built-in remove() function but an Error arises if the element doesn’t exist in the list. Remove() method only removes one element at a time, to remove a range of elements, the iterator is used. The remove() method removes the specified item."
   ]
  },
  {
   "cell_type": "code",
   "execution_count": 26,
   "id": "3371ea55",
   "metadata": {},
   "outputs": [
    {
     "name": "stdout",
     "output_type": "stream",
     "text": [
      "Initial List: \n",
      "[1, 2, 3, 4, 5, 6, 7, 8, 9, 10, 11, 12]\n",
      "\n",
      "List after Removal of two elements: \n",
      "[1, 2, 3, 4, 7, 8, 9, 10, 11, 12]\n"
     ]
    }
   ],
   "source": [
    "# Python program to demonstrate\n",
    "# Removal of elements in a List\n",
    "\n",
    "# Creating a List\n",
    "List = [1, 2, 3, 4, 5, 6,\n",
    "\t\t7, 8, 9, 10, 11, 12]\n",
    "print(\"Initial List: \")\n",
    "print(List)\n",
    "\n",
    "# Removing elements from List\n",
    "# using Remove() method\n",
    "List.remove(5)\n",
    "List.remove(6)\n",
    "print(\"\\nList after Removal of two elements: \")\n",
    "print(List)\n"
   ]
  },
  {
   "cell_type": "code",
   "execution_count": 25,
   "id": "997fc8df",
   "metadata": {},
   "outputs": [
    {
     "name": "stdout",
     "output_type": "stream",
     "text": [
      "\n",
      "List after Removing a range of elements: \n",
      "[5, 6, 7, 8, 9, 10, 11, 12]\n"
     ]
    }
   ],
   "source": [
    "# Creating a List\n",
    "List = [1, 2, 3, 4, 5, 6,\n",
    "\t\t7, 8, 9, 10, 11, 12]\n",
    "# Removing elements from List\n",
    "# using iterator method\n",
    "for i in range(1, 5):\n",
    "\tList.remove(i)\n",
    "print(\"\\nList after Removing a range of elements: \")\n",
    "print(List)\n",
    "\n",
    "'''Complexities for Deleting elements in a Lists(remove() method):\n",
    "Time Complexity: O(n)\n",
    "\n",
    "Space Complexity: O(1)'''\n"
   ]
  },
  {
   "cell_type": "markdown",
   "id": "9672f253",
   "metadata": {},
   "source": [
    "# Using pop() method\n",
    "pop() function can also be used to remove and return an element from the list, but by default it removes only the last element of the list, to remove an element from a specific position of the List, the index of the element is passed as an argument to the pop() method.\n",
    "\n",
    "\n"
   ]
  },
  {
   "cell_type": "code",
   "execution_count": 27,
   "id": "d5d9bdd8",
   "metadata": {},
   "outputs": [
    {
     "name": "stdout",
     "output_type": "stream",
     "text": [
      "\n",
      "List after popping an element: \n",
      "[1, 2, 3, 4]\n",
      "\n",
      "List after popping a specific element: \n",
      "[1, 2, 4]\n"
     ]
    }
   ],
   "source": [
    "List = [1, 2, 3, 4, 5]\n",
    "\n",
    "# Removing element from the\n",
    "# Set using the pop() method\n",
    "List.pop()\n",
    "print(\"\\nList after popping an element: \")\n",
    "print(List)\n",
    "\n",
    "# Removing element at a\n",
    "# specific location from the\n",
    "# Set using the pop() method\n",
    "List.pop(2)\n",
    "print(\"\\nList after popping a specific element: \")\n",
    "print(List)\n",
    "'''Complexities for Deleting elements in a Lists(pop() method):\n",
    "Time Complexity: O(1)/O(n) (O(1) for removing the last element, O(n) for removing the first and middle elements)\n",
    "\n",
    "Space Complexity: O(1)\n",
    "\n",
    "'''"
   ]
  },
  {
   "cell_type": "markdown",
   "id": "6f5a7394",
   "metadata": {},
   "source": [
    "# Slicing"
   ]
  },
  {
   "cell_type": "code",
   "execution_count": 28,
   "id": "4a7178b6",
   "metadata": {},
   "outputs": [
    {
     "name": "stdout",
     "output_type": "stream",
     "text": [
      "Initial List: \n",
      "['G', 'E', 'E', 'K', 'S', 'F', 'O', 'R', 'G', 'E', 'E', 'K', 'S']\n",
      "\n",
      "Slicing elements in a range 3-8: \n",
      "['K', 'S', 'F', 'O', 'R']\n",
      "\n",
      "Elements sliced from 5th element till the end: \n",
      "['F', 'O', 'R', 'G', 'E', 'E', 'K', 'S']\n",
      "\n",
      "Printing all elements using slice operation: \n",
      "['G', 'E', 'E', 'K', 'S', 'F', 'O', 'R', 'G', 'E', 'E', 'K', 'S']\n"
     ]
    }
   ],
   "source": [
    "# Python program to demonstrate\n",
    "# Removal of elements in a List\n",
    "\n",
    "# Creating a List\n",
    "List = ['G', 'E', 'E', 'K', 'S', 'F',\n",
    "\t\t'O', 'R', 'G', 'E', 'E', 'K', 'S']\n",
    "print(\"Initial List: \")\n",
    "print(List)\n",
    "\n",
    "# Print elements of a range\n",
    "# using Slice operation\n",
    "Sliced_List = List[3:8]\n",
    "print(\"\\nSlicing elements in a range 3-8: \")\n",
    "print(Sliced_List)\n",
    "\n",
    "# Print elements from a\n",
    "# pre-defined point to end\n",
    "Sliced_List = List[5:]\n",
    "print(\"\\nElements sliced from 5th \"\n",
    "\t\"element till the end: \")\n",
    "print(Sliced_List)\n",
    "\n",
    "# Printing elements from\n",
    "# beginning till end\n",
    "Sliced_List = List[:]\n",
    "print(\"\\nPrinting all elements using slice operation: \")\n",
    "print(Sliced_List)\n"
   ]
  },
  {
   "cell_type": "markdown",
   "id": "8c50df23",
   "metadata": {},
   "source": [
    "# Negative Index slicing"
   ]
  },
  {
   "cell_type": "code",
   "execution_count": 29,
   "id": "b0d0849e",
   "metadata": {},
   "outputs": [
    {
     "name": "stdout",
     "output_type": "stream",
     "text": [
      "Initial List: \n",
      "['G', 'E', 'E', 'K', 'S', 'F', 'O', 'R', 'G', 'E', 'E', 'K', 'S']\n",
      "\n",
      "Elements sliced till 6th element from last: \n",
      "['G', 'E', 'E', 'K', 'S', 'F', 'O']\n",
      "\n",
      "Elements sliced from index -6 to -1\n",
      "['R', 'G', 'E', 'E', 'K']\n",
      "\n",
      "Printing List in reverse: \n",
      "['S', 'K', 'E', 'E', 'G', 'R', 'O', 'F', 'S', 'K', 'E', 'E', 'G']\n"
     ]
    }
   ],
   "source": [
    "# Creating a List\n",
    "List = ['G', 'E', 'E', 'K', 'S', 'F',\n",
    "\t\t'O', 'R', 'G', 'E', 'E', 'K', 'S']\n",
    "print(\"Initial List: \")\n",
    "print(List)\n",
    "\n",
    "# Print elements from beginning\n",
    "# to a pre-defined point using Slice\n",
    "Sliced_List = List[:-6]\n",
    "print(\"\\nElements sliced till 6th element from last: \")\n",
    "print(Sliced_List)\n",
    "\n",
    "# Print elements of a range\n",
    "# using negative index List slicing\n",
    "Sliced_List = List[-6:-1]\n",
    "print(\"\\nElements sliced from index -6 to -1\")\n",
    "print(Sliced_List)\n",
    "\n",
    "# Printing elements in reverse\n",
    "# using Slice operation\n",
    "Sliced_List = List[::-1]\n",
    "print(\"\\nPrinting List in reverse: \")\n",
    "print(Sliced_List)\n"
   ]
  },
  {
   "cell_type": "code",
   "execution_count": null,
   "id": "7b22c726",
   "metadata": {},
   "outputs": [],
   "source": [
    "\n"
   ]
  }
 ],
 "metadata": {
  "kernelspec": {
   "display_name": "Python 3 (ipykernel)",
   "language": "python",
   "name": "python3"
  },
  "language_info": {
   "codemirror_mode": {
    "name": "ipython",
    "version": 3
   },
   "file_extension": ".py",
   "mimetype": "text/x-python",
   "name": "python",
   "nbconvert_exporter": "python",
   "pygments_lexer": "ipython3",
   "version": "3.9.7"
  }
 },
 "nbformat": 4,
 "nbformat_minor": 5
}
