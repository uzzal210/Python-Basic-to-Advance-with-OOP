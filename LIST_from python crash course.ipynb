{
 "cells": [
  {
   "cell_type": "code",
   "execution_count": 2,
   "id": "9d2cf834",
   "metadata": {},
   "outputs": [
    {
     "data": {
      "text/plain": [
       "'Trek'"
      ]
     },
     "execution_count": 2,
     "metadata": {},
     "output_type": "execute_result"
    }
   ],
   "source": [
    "bicycles=['trek','cannondale','redline','specialized']\n",
    "bicycles[0].title()"
   ]
  },
  {
   "cell_type": "code",
   "execution_count": 3,
   "id": "47bbdf35",
   "metadata": {},
   "outputs": [
    {
     "name": "stdout",
     "output_type": "stream",
     "text": [
      "My first bicycles was Trek.\n"
     ]
    }
   ],
   "source": [
    "message=f\"My first bicycles was {bicycles[0].title()}.\"\n",
    "print(message)"
   ]
  },
  {
   "cell_type": "code",
   "execution_count": 4,
   "id": "7ae1ad48",
   "metadata": {},
   "outputs": [
    {
     "name": "stdout",
     "output_type": "stream",
     "text": [
      "Hi, U\n",
      "Hi, K\n",
      "Hi, R\n",
      "Hi, Uzzal\n",
      "Hi, Kumar\n",
      "Hi, Ratul\n"
     ]
    }
   ],
   "source": [
    "names=['U','K','R','Uzzal','Kumar','Ratul']\n",
    "for i in names:\n",
    "    print(\"Hi,\",i )"
   ]
  },
  {
   "cell_type": "code",
   "execution_count": 6,
   "id": "9ae2d613",
   "metadata": {},
   "outputs": [
    {
     "name": "stdout",
     "output_type": "stream",
     "text": [
      "The last name is Ratul.\n"
     ]
    }
   ],
   "source": [
    "names=['U','K','R','Uzzal','Kumar','Ratul']\n",
    "named_pop=names.pop()\n",
    "print(f\"The last name is {named_pop.title()}.\")"
   ]
  },
  {
   "cell_type": "code",
   "execution_count": 7,
   "id": "c7d5662b",
   "metadata": {},
   "outputs": [],
   "source": [
    "names=['U','K','R','Uzzal','Kumar','Ratul','K','y6re57','rtyyy','K']\n",
    "names.remove('K')"
   ]
  },
  {
   "cell_type": "code",
   "execution_count": 8,
   "id": "443e1de0",
   "metadata": {},
   "outputs": [
    {
     "data": {
      "text/plain": [
       "['U', 'R', 'Uzzal', 'Kumar', 'Ratul', 'K', 'y6re57', 'rtyyy', 'K']"
      ]
     },
     "execution_count": 8,
     "metadata": {},
     "output_type": "execute_result"
    }
   ],
   "source": [
    "names"
   ]
  },
  {
   "cell_type": "code",
   "execution_count": 14,
   "id": "3b91fef8",
   "metadata": {},
   "outputs": [
    {
     "name": "stdout",
     "output_type": "stream",
     "text": [
      "['U', 'R', 'Uzzal', 'Kumar', 'Ratul', 'y6re57', 'rtyyy']\n"
     ]
    }
   ],
   "source": [
    "names=['U','K','R','Uzzal','Kumar','Ratul','K','y6re57','rtyyy','K']\n",
    "for i in names:\n",
    "    if i=='K':\n",
    "        names.remove(i)\n",
    "print(names)"
   ]
  },
  {
   "cell_type": "code",
   "execution_count": 15,
   "id": "b8b76471",
   "metadata": {},
   "outputs": [
    {
     "data": {
      "text/plain": [
       "['U', 'R', 'Uzzal', 'Kumar', 'Ratul', 'y6re57', 'rtyyy']"
      ]
     },
     "execution_count": 15,
     "metadata": {},
     "output_type": "execute_result"
    }
   ],
   "source": [
    "names"
   ]
  },
  {
   "cell_type": "code",
   "execution_count": 18,
   "id": "565dac8a",
   "metadata": {},
   "outputs": [
    {
     "name": "stdout",
     "output_type": "stream",
     "text": [
      "you are invited to my house for dinner tonight, Mr. john\n",
      "you are invited to my house for dinner tonight, Mr. mark\n",
      "you are invited to my house for dinner tonight, Mr. ela\n"
     ]
    }
   ],
   "source": [
    "names=['john','mark','ela']\n",
    "print(\"you are invited to my house for dinner tonight, Mr.\",names[0])\n",
    "print(\"you are invited to my house for dinner tonight, Mr.\",names[1])\n",
    "print(\"you are invited to my house for dinner tonight, Mr.\",names[2])"
   ]
  },
  {
   "cell_type": "code",
   "execution_count": 22,
   "id": "7d9e5dfa",
   "metadata": {},
   "outputs": [
    {
     "name": "stdout",
     "output_type": "stream",
     "text": [
      "Mr. ela.Ok, thanks for knowing me to your not coming possibility \n"
     ]
    }
   ],
   "source": [
    "print(\"Mr.\",names[2] + \".\" + \"Ok, thanks for knowing me to your not coming possibility \")"
   ]
  },
  {
   "cell_type": "code",
   "execution_count": 23,
   "id": "80264043",
   "metadata": {},
   "outputs": [
    {
     "name": "stdout",
     "output_type": "stream",
     "text": [
      "you are invited to my house for dinner tonight, Mr. john\n",
      "you are invited to my house for dinner tonight, Mr. mark\n",
      "you are invited to my house for dinner tonight, Mr. Reddy\n"
     ]
    }
   ],
   "source": [
    "names[2]=\"Reddy\"\n",
    "print(\"you are invited to my house for dinner tonight, Mr.\",names[0])\n",
    "print(\"you are invited to my house for dinner tonight, Mr.\",names[1])\n",
    "print(\"you are invited to my house for dinner tonight, Mr.\",names[2])"
   ]
  },
  {
   "cell_type": "code",
   "execution_count": 24,
   "id": "93a61ff7",
   "metadata": {},
   "outputs": [],
   "source": [
    "names.insert(0,\"Kalu\")\n",
    "names.insert(2,\"Bulu\")\n",
    "names.insert(5,\"hari\")"
   ]
  },
  {
   "cell_type": "code",
   "execution_count": 26,
   "id": "7dc5f6fc",
   "metadata": {},
   "outputs": [
    {
     "name": "stdout",
     "output_type": "stream",
     "text": [
      "you are invited to my house for dinner tonight, Mr. Kalu\n",
      "you are invited to my house for dinner tonight, Mr. john\n",
      "you are invited to my house for dinner tonight, Mr. Bulu\n",
      "you are invited to my house for dinner tonight, Mr. mark\n",
      "you are invited to my house for dinner tonight, Mr. Reddy\n",
      "you are invited to my house for dinner tonight, Mr. hari\n",
      "\n",
      " You can invite only two people for dinner\n"
     ]
    }
   ],
   "source": [
    "for i in names:\n",
    "    print(\"you are invited to my house for dinner tonight, Mr.\",i)\n",
    "print(\"\\n You can invite only two people for dinner\")"
   ]
  },
  {
   "cell_type": "code",
   "execution_count": 27,
   "id": "cd245461",
   "metadata": {},
   "outputs": [
    {
     "name": "stdout",
     "output_type": "stream",
     "text": [
      "I am sorr, I can't invite you to dinner. hari\n",
      "I am sorr, I can't invite you to dinner. Reddy\n",
      "I am sorr, I can't invite you to dinner. mark\n",
      "I am sorr, I can't invite you to dinner. Bulu\n"
     ]
    }
   ],
   "source": [
    "name_pop=names.pop()\n",
    "print(\"I am sorr, I can't invite you to dinner.\",name_pop)\n",
    "name_pop=names.pop()\n",
    "print(\"I am sorr, I can't invite you to dinner.\",name_pop)\n",
    "name_pop=names.pop()\n",
    "print(\"I am sorr, I can't invite you to dinner.\",name_pop)\n",
    "name_pop=names.pop()\n",
    "print(\"I am sorr, I can't invite you to dinner.\",name_pop)"
   ]
  },
  {
   "cell_type": "code",
   "execution_count": 30,
   "id": "e6c1ef68",
   "metadata": {},
   "outputs": [],
   "source": [
    "del names[1]\n",
    "del names[0]"
   ]
  },
  {
   "cell_type": "code",
   "execution_count": 31,
   "id": "c7a18089",
   "metadata": {},
   "outputs": [
    {
     "data": {
      "text/plain": [
       "[]"
      ]
     },
     "execution_count": 31,
     "metadata": {},
     "output_type": "execute_result"
    }
   ],
   "source": [
    "names"
   ]
  },
  {
   "cell_type": "code",
   "execution_count": 32,
   "id": "b3c5f248",
   "metadata": {},
   "outputs": [],
   "source": [
    "names=['U','K','R','Uzzal','Kumar','Ratul','K','y6re57','rtyyy','K']\n",
    "names.sort()"
   ]
  },
  {
   "cell_type": "code",
   "execution_count": 33,
   "id": "86be5ab4",
   "metadata": {},
   "outputs": [
    {
     "data": {
      "text/plain": [
       "['K', 'K', 'K', 'Kumar', 'R', 'Ratul', 'U', 'Uzzal', 'rtyyy', 'y6re57']"
      ]
     },
     "execution_count": 33,
     "metadata": {},
     "output_type": "execute_result"
    }
   ],
   "source": [
    "names"
   ]
  },
  {
   "cell_type": "code",
   "execution_count": 35,
   "id": "78d3796e",
   "metadata": {},
   "outputs": [
    {
     "data": {
      "text/plain": [
       "['rishikesh', 'tajmohol', 'usa', 'singapore', 'dubai']"
      ]
     },
     "execution_count": 35,
     "metadata": {},
     "output_type": "execute_result"
    }
   ],
   "source": [
    "places=['rishikesh','tajmohol','usa','singapore','dubai']\n",
    "places"
   ]
  },
  {
   "cell_type": "code",
   "execution_count": 36,
   "id": "84ea3999",
   "metadata": {},
   "outputs": [
    {
     "data": {
      "text/plain": [
       "['dubai', 'rishikesh', 'singapore', 'tajmohol', 'usa']"
      ]
     },
     "execution_count": 36,
     "metadata": {},
     "output_type": "execute_result"
    }
   ],
   "source": [
    "sorted(places)"
   ]
  },
  {
   "cell_type": "code",
   "execution_count": 37,
   "id": "dfc2f284",
   "metadata": {},
   "outputs": [
    {
     "data": {
      "text/plain": [
       "['rishikesh', 'tajmohol', 'usa', 'singapore', 'dubai']"
      ]
     },
     "execution_count": 37,
     "metadata": {},
     "output_type": "execute_result"
    }
   ],
   "source": [
    "places"
   ]
  },
  {
   "cell_type": "code",
   "execution_count": 38,
   "id": "7fdd7fa4",
   "metadata": {},
   "outputs": [
    {
     "data": {
      "text/plain": [
       "['usa', 'tajmohol', 'singapore', 'rishikesh', 'dubai']"
      ]
     },
     "execution_count": 38,
     "metadata": {},
     "output_type": "execute_result"
    }
   ],
   "source": [
    "sorted(places,reverse=True)"
   ]
  },
  {
   "cell_type": "code",
   "execution_count": 39,
   "id": "712aad35",
   "metadata": {},
   "outputs": [
    {
     "data": {
      "text/plain": [
       "['rishikesh', 'tajmohol', 'usa', 'singapore', 'dubai']"
      ]
     },
     "execution_count": 39,
     "metadata": {},
     "output_type": "execute_result"
    }
   ],
   "source": [
    "places"
   ]
  },
  {
   "cell_type": "code",
   "execution_count": 40,
   "id": "55248b8b",
   "metadata": {},
   "outputs": [],
   "source": [
    "places.reverse()"
   ]
  },
  {
   "cell_type": "code",
   "execution_count": 41,
   "id": "f4b075cc",
   "metadata": {},
   "outputs": [
    {
     "data": {
      "text/plain": [
       "['dubai', 'singapore', 'usa', 'tajmohol', 'rishikesh']"
      ]
     },
     "execution_count": 41,
     "metadata": {},
     "output_type": "execute_result"
    }
   ],
   "source": [
    "places"
   ]
  },
  {
   "cell_type": "code",
   "execution_count": 42,
   "id": "72a27200",
   "metadata": {},
   "outputs": [
    {
     "data": {
      "text/plain": [
       "['rishikesh', 'tajmohol', 'usa', 'singapore', 'dubai']"
      ]
     },
     "execution_count": 42,
     "metadata": {},
     "output_type": "execute_result"
    }
   ],
   "source": [
    "places.reverse()\n",
    "places"
   ]
  },
  {
   "cell_type": "code",
   "execution_count": 43,
   "id": "eb6aa125",
   "metadata": {},
   "outputs": [],
   "source": [
    "places.sort()"
   ]
  },
  {
   "cell_type": "code",
   "execution_count": 44,
   "id": "dc0977cd",
   "metadata": {},
   "outputs": [
    {
     "data": {
      "text/plain": [
       "['dubai', 'rishikesh', 'singapore', 'tajmohol', 'usa']"
      ]
     },
     "execution_count": 44,
     "metadata": {},
     "output_type": "execute_result"
    }
   ],
   "source": [
    "places"
   ]
  },
  {
   "cell_type": "code",
   "execution_count": 45,
   "id": "5f8a1877",
   "metadata": {},
   "outputs": [],
   "source": [
    "places.sort(reverse=True)"
   ]
  },
  {
   "cell_type": "code",
   "execution_count": 46,
   "id": "90566421",
   "metadata": {},
   "outputs": [
    {
     "data": {
      "text/plain": [
       "['usa', 'tajmohol', 'singapore', 'rishikesh', 'dubai']"
      ]
     },
     "execution_count": 46,
     "metadata": {},
     "output_type": "execute_result"
    }
   ],
   "source": [
    "z"
   ]
  },
  {
   "cell_type": "code",
   "execution_count": null,
   "id": "e35d0f74",
   "metadata": {},
   "outputs": [],
   "source": []
  }
 ],
 "metadata": {
  "kernelspec": {
   "display_name": "Python 3 (ipykernel)",
   "language": "python",
   "name": "python3"
  },
  "language_info": {
   "codemirror_mode": {
    "name": "ipython",
    "version": 3
   },
   "file_extension": ".py",
   "mimetype": "text/x-python",
   "name": "python",
   "nbconvert_exporter": "python",
   "pygments_lexer": "ipython3",
   "version": "3.9.7"
  }
 },
 "nbformat": 4,
 "nbformat_minor": 5
}
