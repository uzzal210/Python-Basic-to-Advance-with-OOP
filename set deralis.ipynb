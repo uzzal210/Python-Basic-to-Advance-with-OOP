{
 "cells": [
  {
   "cell_type": "code",
   "execution_count": null,
   "id": "ee9583d1",
   "metadata": {},
   "outputs": [],
   "source": [
    "A set is a collection which is unordered, unchangeable*, and unindexed.\n",
    "\n",
    "* Note: Set items are unchangeable, but you can remove items and add new items.\n",
    "Set items are unordered, unchangeable, and do not allow duplicate values.\n",
    "\n",
    "Unordered\n",
    "Unordered means that the items in a set do not have a defined order.\n",
    "\n",
    "Set items can appear in a different order every time you use them, and cannot be referred to by index or key.\n",
    "\n",
    "Unchangeable\n",
    "Set items are unchangeable, meaning that we cannot change the items after the set has been created.\n",
    "\n",
    "Once a set is created, you cannot change its items, but you can remove items and add new items.\n",
    "A Set in Python programming is an unordered collection data type that is iterable, mutable and has no duplicate elements. "
   ]
  },
  {
   "cell_type": "markdown",
   "id": "406343ab",
   "metadata": {},
   "source": [
    "# Method\tDescription\n",
    "add()\tAdds an element to the set\n",
    "clear()\tRemoves all the elements from the set\n",
    "copy()\tReturns a copy of the set\n",
    "difference()\tReturns a set containing the difference between two or more sets\n",
    "difference_update()\tRemoves the items in this set that are also included in another, specified set\n",
    "discard()\tRemove the specified item\n",
    "intersection()\tReturns a set, that is the intersection of two or more sets\n",
    "intersection_update()\tRemoves the items in this set that are not present in other, specified set(s)\n",
    "isdisjoint()\tReturns whether two sets have a intersection or not\n",
    "issubset()\tReturns whether another set contains this set or not\n",
    "issuperset()\tReturns whether this set contains another set or not\n",
    "pop()\tRemoves an element from the set\n",
    "remove()\tRemoves the specified element\n",
    "symmetric_difference()\tReturns a set with the symmetric differences of two sets\n",
    "symmetric_difference_update()\tinserts the symmetric differences from this set and another\n",
    "union()\tReturn a set containing the union of sets\n",
    "update()\tUpdate the set with another set, or any other iterable"
   ]
  },
  {
   "cell_type": "code",
   "execution_count": null,
   "id": "b6a55b13",
   "metadata": {},
   "outputs": [],
   "source": []
  },
  {
   "cell_type": "code",
   "execution_count": null,
   "id": "4baa72f6",
   "metadata": {},
   "outputs": [],
   "source": []
  },
  {
   "cell_type": "code",
   "execution_count": null,
   "id": "8c050ffa",
   "metadata": {},
   "outputs": [],
   "source": []
  },
  {
   "cell_type": "code",
   "execution_count": 1,
   "id": "36fe71f3",
   "metadata": {},
   "outputs": [],
   "source": [
    "A=set()"
   ]
  },
  {
   "cell_type": "code",
   "execution_count": 2,
   "id": "9e38649a",
   "metadata": {},
   "outputs": [
    {
     "data": {
      "text/plain": [
       "set()"
      ]
     },
     "execution_count": 2,
     "metadata": {},
     "output_type": "execute_result"
    }
   ],
   "source": [
    "A"
   ]
  },
  {
   "cell_type": "code",
   "execution_count": 6,
   "id": "a9cd79ca",
   "metadata": {},
   "outputs": [
    {
     "data": {
      "text/plain": [
       "{}"
      ]
     },
     "execution_count": 6,
     "metadata": {},
     "output_type": "execute_result"
    }
   ],
   "source": [
    "B={}\n",
    "B\n"
   ]
  },
  {
   "cell_type": "code",
   "execution_count": 5,
   "id": "772c53d3",
   "metadata": {},
   "outputs": [
    {
     "data": {
      "text/plain": [
       "dict"
      ]
     },
     "execution_count": 5,
     "metadata": {},
     "output_type": "execute_result"
    }
   ],
   "source": [
    "type(B)"
   ]
  },
  {
   "cell_type": "code",
   "execution_count": 7,
   "id": "3d848e35",
   "metadata": {},
   "outputs": [
    {
     "data": {
      "text/plain": [
       "{'apple', 'banana', 'orange', 'pear'}"
      ]
     },
     "execution_count": 7,
     "metadata": {},
     "output_type": "execute_result"
    }
   ],
   "source": [
    "A = {'orange', 'banana', 'pear', 'apple'}\n",
    "A"
   ]
  },
  {
   "cell_type": "code",
   "execution_count": 8,
   "id": "83e95878",
   "metadata": {},
   "outputs": [
    {
     "ename": "TypeError",
     "evalue": "set expected at most 1 argument, got 4",
     "output_type": "error",
     "traceback": [
      "\u001b[1;31m---------------------------------------------------------------------------\u001b[0m",
      "\u001b[1;31mTypeError\u001b[0m                                 Traceback (most recent call last)",
      "\u001b[1;32m~\\AppData\\Local\\Temp/ipykernel_13752/234933035.py\u001b[0m in \u001b[0;36m<module>\u001b[1;34m\u001b[0m\n\u001b[1;32m----> 1\u001b[1;33m \u001b[0mA\u001b[0m \u001b[1;33m=\u001b[0m \u001b[0mset\u001b[0m\u001b[1;33m(\u001b[0m\u001b[1;34m'orange'\u001b[0m\u001b[1;33m,\u001b[0m \u001b[1;34m'banana'\u001b[0m\u001b[1;33m,\u001b[0m \u001b[1;34m'pear'\u001b[0m\u001b[1;33m,\u001b[0m \u001b[1;34m'apple'\u001b[0m\u001b[1;33m)\u001b[0m\u001b[1;33m\u001b[0m\u001b[1;33m\u001b[0m\u001b[0m\n\u001b[0m",
      "\u001b[1;31mTypeError\u001b[0m: set expected at most 1 argument, got 4"
     ]
    }
   ],
   "source": [
    "A = set('orange', 'banana', 'pear', 'apple')"
   ]
  },
  {
   "cell_type": "code",
   "execution_count": 9,
   "id": "4b661b06",
   "metadata": {},
   "outputs": [
    {
     "data": {
      "text/plain": [
       "{'a', 'b', 'c', 'd', 'r'}"
      ]
     },
     "execution_count": 9,
     "metadata": {},
     "output_type": "execute_result"
    }
   ],
   "source": [
    "A = set('abracadabra')\n",
    "A"
   ]
  },
  {
   "cell_type": "code",
   "execution_count": 10,
   "id": "4e6e0219",
   "metadata": {},
   "outputs": [
    {
     "data": {
      "text/plain": [
       "{'apple', 'banana', 'orange', 'pear'}"
      ]
     },
     "execution_count": 10,
     "metadata": {},
     "output_type": "execute_result"
    }
   ],
   "source": [
    " A = {'apple', 'orange', 'apple', 'pear', 'orange', 'banana'}\n",
    "A"
   ]
  },
  {
   "cell_type": "code",
   "execution_count": 37,
   "id": "01e883fe",
   "metadata": {},
   "outputs": [
    {
     "name": "stdout",
     "output_type": "stream",
     "text": [
      "{'Physics', 'Math', 'Bangla', 'English'}\n"
     ]
    }
   ],
   "source": [
    "book_set = {\"Bangla\", \"English\", \"Math\", \"Physics\"}\n",
    "print(book_set)"
   ]
  },
  {
   "cell_type": "code",
   "execution_count": 61,
   "id": "9b27e8d9",
   "metadata": {},
   "outputs": [
    {
     "name": "stdout",
     "output_type": "stream",
     "text": [
      "{'c', 'a', 'b'}\n",
      "{'d', 'c', 'a', 'b'}\n"
     ]
    }
   ],
   "source": [
    "# typecasting list to set\n",
    "myset = set([\"a\", \"b\", \"c\"])\n",
    "print(myset)\n",
    "\n",
    "# Adding element to the set\n",
    "myset.add(\"d\")\n",
    "print(myset)\n"
   ]
  },
  {
   "cell_type": "code",
   "execution_count": 63,
   "id": "d2e989fe",
   "metadata": {},
   "outputs": [
    {
     "name": "stdout",
     "output_type": "stream",
     "text": [
      "{'c', 'a', 'b'}\n"
     ]
    }
   ],
   "source": [
    "myset = set({\"a\", \"b\", \"c\"})\n",
    "print(myset)"
   ]
  },
  {
   "cell_type": "code",
   "execution_count": null,
   "id": "b1374ac5",
   "metadata": {},
   "outputs": [],
   "source": []
  },
  {
   "cell_type": "code",
   "execution_count": null,
   "id": "c0cde023",
   "metadata": {},
   "outputs": [],
   "source": []
  },
  {
   "cell_type": "markdown",
   "id": "bef02f0b",
   "metadata": {},
   "source": [
    "# The set() constructor"
   ]
  },
  {
   "cell_type": "code",
   "execution_count": 41,
   "id": "1107b21f",
   "metadata": {},
   "outputs": [
    {
     "name": "stdout",
     "output_type": "stream",
     "text": [
      "{'cherry', 'banana', 'apple'}\n"
     ]
    }
   ],
   "source": [
    "thisset = set((\"apple\", \"banana\", \"cherry\")) # note the double round-brackets\n",
    "print(thisset)"
   ]
  },
  {
   "cell_type": "code",
   "execution_count": 42,
   "id": "a5d2cec0",
   "metadata": {},
   "outputs": [
    {
     "ename": "TypeError",
     "evalue": "set expected at most 1 argument, got 3",
     "output_type": "error",
     "traceback": [
      "\u001b[1;31m---------------------------------------------------------------------------\u001b[0m",
      "\u001b[1;31mTypeError\u001b[0m                                 Traceback (most recent call last)",
      "\u001b[1;32m~\\AppData\\Local\\Temp/ipykernel_13752/3898728095.py\u001b[0m in \u001b[0;36m<module>\u001b[1;34m\u001b[0m\n\u001b[1;32m----> 1\u001b[1;33m \u001b[0mthisset\u001b[0m \u001b[1;33m=\u001b[0m \u001b[0mset\u001b[0m\u001b[1;33m(\u001b[0m\u001b[1;34m\"apple\"\u001b[0m\u001b[1;33m,\u001b[0m \u001b[1;34m\"banana\"\u001b[0m\u001b[1;33m,\u001b[0m \u001b[1;34m\"cherry\"\u001b[0m\u001b[1;33m)\u001b[0m \u001b[1;31m# note the double round-brackets\u001b[0m\u001b[1;33m\u001b[0m\u001b[1;33m\u001b[0m\u001b[0m\n\u001b[0m\u001b[0;32m      2\u001b[0m \u001b[0mprint\u001b[0m\u001b[1;33m(\u001b[0m\u001b[0mthisset\u001b[0m\u001b[1;33m)\u001b[0m\u001b[1;33m\u001b[0m\u001b[1;33m\u001b[0m\u001b[0m\n",
      "\u001b[1;31mTypeError\u001b[0m: set expected at most 1 argument, got 3"
     ]
    }
   ],
   "source": [
    "thisset = set(\"apple\", \"banana\", \"cherry\") # note the double round-brackets\n",
    "print(thisset)"
   ]
  },
  {
   "cell_type": "code",
   "execution_count": 11,
   "id": "6ae17f7f",
   "metadata": {},
   "outputs": [
    {
     "ename": "TypeError",
     "evalue": "'set' object is not subscriptable",
     "output_type": "error",
     "traceback": [
      "\u001b[1;31m---------------------------------------------------------------------------\u001b[0m",
      "\u001b[1;31mTypeError\u001b[0m                                 Traceback (most recent call last)",
      "\u001b[1;32m~\\AppData\\Local\\Temp/ipykernel_13752/3886325526.py\u001b[0m in \u001b[0;36m<module>\u001b[1;34m\u001b[0m\n\u001b[0;32m      1\u001b[0m \u001b[0mA\u001b[0m \u001b[1;33m=\u001b[0m \u001b[1;33m{\u001b[0m\u001b[1;34m'apple'\u001b[0m\u001b[1;33m,\u001b[0m \u001b[1;34m'orange'\u001b[0m\u001b[1;33m,\u001b[0m \u001b[1;34m'apple'\u001b[0m\u001b[1;33m,\u001b[0m \u001b[1;34m'pear'\u001b[0m\u001b[1;33m,\u001b[0m \u001b[1;34m'orange'\u001b[0m\u001b[1;33m,\u001b[0m \u001b[1;34m'banana'\u001b[0m\u001b[1;33m}\u001b[0m\u001b[1;33m\u001b[0m\u001b[1;33m\u001b[0m\u001b[0m\n\u001b[1;32m----> 2\u001b[1;33m \u001b[0mA\u001b[0m\u001b[1;33m[\u001b[0m\u001b[1;36m0\u001b[0m\u001b[1;33m]\u001b[0m\u001b[1;33m\u001b[0m\u001b[1;33m\u001b[0m\u001b[0m\n\u001b[0m",
      "\u001b[1;31mTypeError\u001b[0m: 'set' object is not subscriptable"
     ]
    }
   ],
   "source": [
    "A = {'apple', 'orange', 'apple', 'pear', 'orange', 'banana'}\n",
    "A[0]"
   ]
  },
  {
   "cell_type": "markdown",
   "id": "612b54fd",
   "metadata": {},
   "source": [
    "# Access Item"
   ]
  },
  {
   "cell_type": "markdown",
   "id": "9511e625",
   "metadata": {},
   "source": [
    "You cannot access items in a set by referring to an index or a key.\n",
    "\n",
    "But you can loop through the set items using a for loop, \n",
    "or ask if a specified value is present in a set, by using the in keyword."
   ]
  },
  {
   "cell_type": "code",
   "execution_count": 43,
   "id": "cc8270b5",
   "metadata": {},
   "outputs": [
    {
     "name": "stdout",
     "output_type": "stream",
     "text": [
      "cherry\n",
      "banana\n",
      "apple\n"
     ]
    }
   ],
   "source": [
    "thisset = {\"apple\", \"banana\", \"cherry\"}\n",
    "\n",
    "for x in thisset:\n",
    "  print(x)"
   ]
  },
  {
   "cell_type": "code",
   "execution_count": 44,
   "id": "fd76910c",
   "metadata": {},
   "outputs": [
    {
     "name": "stdout",
     "output_type": "stream",
     "text": [
      "True\n"
     ]
    }
   ],
   "source": [
    "thisset = {\"apple\", \"banana\", \"cherry\"}\n",
    "\n",
    "print(\"banana\" in thisset)"
   ]
  },
  {
   "cell_type": "code",
   "execution_count": null,
   "id": "37c09897",
   "metadata": {},
   "outputs": [],
   "source": []
  },
  {
   "cell_type": "code",
   "execution_count": null,
   "id": "1349fd86",
   "metadata": {},
   "outputs": [],
   "source": []
  },
  {
   "cell_type": "markdown",
   "id": "23269872",
   "metadata": {},
   "source": [
    "# Add()"
   ]
  },
  {
   "cell_type": "code",
   "execution_count": 12,
   "id": "310d1343",
   "metadata": {},
   "outputs": [
    {
     "data": {
      "text/plain": [
       "{'apple', 'banana', 'orange', 'pear', 'pineapple'}"
      ]
     },
     "execution_count": 12,
     "metadata": {},
     "output_type": "execute_result"
    }
   ],
   "source": [
    "A = {'apple', 'orange', 'apple', 'pear', 'orange', 'banana'}\n",
    "A.add('pineapple')\n",
    "A"
   ]
  },
  {
   "cell_type": "code",
   "execution_count": 39,
   "id": "215432f1",
   "metadata": {},
   "outputs": [
    {
     "name": "stdout",
     "output_type": "stream",
     "text": [
      "{'Math', 'Physics', 'English', 'Bangla', 'Chemistry'}\n"
     ]
    }
   ],
   "source": [
    "book_set = {\"Bangla\", \"English\", \"Math\", \"Physics\"}\n",
    "book_set.add(\"Chemistry\")\n",
    "print(book_set)"
   ]
  },
  {
   "cell_type": "code",
   "execution_count": 66,
   "id": "2efeda84",
   "metadata": {},
   "outputs": [
    {
     "name": "stdout",
     "output_type": "stream",
     "text": [
      "People: {'Jay', 'Archi', 'Idrish'}\n",
      "\n",
      "Set after adding element: {1, 2, 3, 4, 5, 'Idrish', 'Archi', 'Daxit', 'Jay'}\n"
     ]
    }
   ],
   "source": [
    "# A Python program to\n",
    "# demonstrate adding elements\n",
    "# in a set\n",
    "\n",
    "# Creating a Set\n",
    "people = {\"Jay\", \"Idrish\", \"Archi\"}\n",
    "\n",
    "print(\"People:\",end = \" \" )\n",
    "print(people)\n",
    "\n",
    "# This will add Daxit\n",
    "# in the set\n",
    "people.add(\"Daxit\")\n",
    "\n",
    "# Adding elements to the\n",
    "# set using iterator\n",
    "for i in range(1, 6):\n",
    "\tpeople.add(i)\n",
    "\n",
    "print(\"\\nSet after adding element:\", end = \" \")\n",
    "print(people)\n"
   ]
  },
  {
   "cell_type": "code",
   "execution_count": 72,
   "id": "e83edeb7",
   "metadata": {},
   "outputs": [
    {
     "name": "stdout",
     "output_type": "stream",
     "text": [
      "\n",
      "printing the original set ... \n",
      "{'April', 'February', 'May', 'January', 'March', 'June'}\n",
      "\n",
      "Adding other months to the set...\n",
      "\n",
      "Printing the modified set...\n",
      "{'April', 'February', 'May', 'August', 'July', 'January', 'March', 'June'}\n",
      "\n",
      "looping through the set elements ... \n",
      "April\n",
      "February\n",
      "May\n",
      "August\n",
      "July\n",
      "January\n",
      "March\n",
      "June\n"
     ]
    }
   ],
   "source": [
    "Months = set([\"January\",\"February\", \"March\", \"April\", \"May\", \"June\"])    \n",
    "print(\"\\nprinting the original set ... \")    \n",
    "print(Months)    \n",
    "print(\"\\nAdding other months to the set...\");    \n",
    "Months.add(\"July\");    \n",
    "Months.add (\"August\");    \n",
    "print(\"\\nPrinting the modified set...\");    \n",
    "print(Months)    \n",
    "print(\"\\nlooping through the set elements ... \")    \n",
    "for i in Months:    \n",
    "    print(i)    "
   ]
  },
  {
   "cell_type": "code",
   "execution_count": null,
   "id": "fa90600f",
   "metadata": {},
   "outputs": [],
   "source": []
  },
  {
   "cell_type": "markdown",
   "id": "e6f481ff",
   "metadata": {},
   "source": [
    "# update()"
   ]
  },
  {
   "cell_type": "code",
   "execution_count": 13,
   "id": "1bd0e219",
   "metadata": {},
   "outputs": [
    {
     "data": {
      "text/plain": [
       "{'apple', 'banana', 'orange', 'pear', 'pineapple'}"
      ]
     },
     "execution_count": 13,
     "metadata": {},
     "output_type": "execute_result"
    }
   ],
   "source": [
    "A"
   ]
  },
  {
   "cell_type": "code",
   "execution_count": 14,
   "id": "41c36e66",
   "metadata": {},
   "outputs": [],
   "source": [
    "A.update('berry', 'grape')"
   ]
  },
  {
   "cell_type": "code",
   "execution_count": 15,
   "id": "0b8cd6e1",
   "metadata": {},
   "outputs": [
    {
     "data": {
      "text/plain": [
       "{'a',\n",
       " 'apple',\n",
       " 'b',\n",
       " 'banana',\n",
       " 'e',\n",
       " 'g',\n",
       " 'orange',\n",
       " 'p',\n",
       " 'pear',\n",
       " 'pineapple',\n",
       " 'r',\n",
       " 'y'}"
      ]
     },
     "execution_count": 15,
     "metadata": {},
     "output_type": "execute_result"
    }
   ],
   "source": [
    "A"
   ]
  },
  {
   "cell_type": "code",
   "execution_count": 16,
   "id": "f60bf75a",
   "metadata": {},
   "outputs": [
    {
     "data": {
      "text/plain": [
       "{'apple', 'banana', 'orange', 'pear', 'pineapple'}"
      ]
     },
     "execution_count": 16,
     "metadata": {},
     "output_type": "execute_result"
    }
   ],
   "source": [
    "A = {'apple', 'orange', 'apple', 'pear', 'orange', 'banana'}\n",
    "A.add('pineapple')\n",
    "A"
   ]
  },
  {
   "cell_type": "code",
   "execution_count": 17,
   "id": "5e11c353",
   "metadata": {},
   "outputs": [
    {
     "data": {
      "text/plain": [
       "{'apple', 'banana', 'berry', 'grape', 'orange', 'pear', 'pineapple'}"
      ]
     },
     "execution_count": 17,
     "metadata": {},
     "output_type": "execute_result"
    }
   ],
   "source": [
    "A.update({'berry', 'grape'})\n",
    "A"
   ]
  },
  {
   "cell_type": "code",
   "execution_count": 45,
   "id": "ba1f7eab",
   "metadata": {},
   "outputs": [
    {
     "name": "stdout",
     "output_type": "stream",
     "text": [
      "{'cherry', 'pineapple', 'papaya', 'mango', 'banana', 'apple'}\n"
     ]
    }
   ],
   "source": [
    "thisset = {\"apple\", \"banana\", \"cherry\"}\n",
    "tropical = {\"pineapple\", \"mango\", \"papaya\"}\n",
    "\n",
    "thisset.update(tropical)\n",
    "\n",
    "print(thisset)"
   ]
  },
  {
   "cell_type": "code",
   "execution_count": null,
   "id": "df40233e",
   "metadata": {},
   "outputs": [],
   "source": []
  },
  {
   "cell_type": "code",
   "execution_count": 46,
   "id": "3cacbd1b",
   "metadata": {},
   "outputs": [
    {
     "name": "stdout",
     "output_type": "stream",
     "text": [
      "{'cherry', 'orange', 'apple', 'kiwi', 'banana'}\n"
     ]
    }
   ],
   "source": [
    "##The object in the update() method does not have to be a set, it can be any iterable object (tuples, lists, dictionaries etc.).\n",
    "\n",
    "thisset = {\"apple\", \"banana\", \"cherry\"}\n",
    "mylist = [\"kiwi\", \"orange\"]\n",
    "\n",
    "thisset.update(mylist)\n",
    "\n",
    "print(thisset)\n"
   ]
  },
  {
   "cell_type": "code",
   "execution_count": 49,
   "id": "34b08715",
   "metadata": {},
   "outputs": [
    {
     "name": "stdout",
     "output_type": "stream",
     "text": [
      "{1, 2, 'c', 'a', 'b', 3}\n"
     ]
    }
   ],
   "source": [
    "set1 = {\"a\", \"b\" , \"c\"}\n",
    "set2 = {1, 2, 3}\n",
    "\n",
    "set1.update(set2)\n",
    "print(set1)"
   ]
  },
  {
   "cell_type": "code",
   "execution_count": 73,
   "id": "f655bc55",
   "metadata": {},
   "outputs": [
    {
     "name": "stdout",
     "output_type": "stream",
     "text": [
      "\n",
      "printing the original set ... \n",
      "{'April', 'February', 'May', 'January', 'March', 'June'}\n",
      "\n",
      "updating the original set ... \n",
      "\n",
      "printing the modified set ... \n",
      "{'October', 'April', 'February', 'May', 'August', 'September', 'July', 'January', 'March', 'June'}\n"
     ]
    }
   ],
   "source": [
    "Months = set([\"January\",\"February\", \"March\", \"April\", \"May\", \"June\"])    \n",
    "print(\"\\nprinting the original set ... \")    \n",
    "print(Months)    \n",
    "print(\"\\nupdating the original set ... \")    \n",
    "Months.update([\"July\",\"August\",\"September\",\"October\"]);    \n",
    "print(\"\\nprinting the modified set ... \")     \n",
    "print(Months); "
   ]
  },
  {
   "cell_type": "code",
   "execution_count": null,
   "id": "76db6ba8",
   "metadata": {},
   "outputs": [],
   "source": []
  },
  {
   "cell_type": "markdown",
   "id": "fbc9ac3d",
   "metadata": {},
   "source": [
    "# remove()"
   ]
  },
  {
   "cell_type": "code",
   "execution_count": 18,
   "id": "c265b43c",
   "metadata": {},
   "outputs": [],
   "source": [
    "A = {'apple', 'orange', 'apple', 'pear', 'orange', 'banana'}\n",
    "A.remove('apple')"
   ]
  },
  {
   "cell_type": "code",
   "execution_count": 19,
   "id": "38ab3436",
   "metadata": {},
   "outputs": [
    {
     "data": {
      "text/plain": [
       "{'banana', 'orange', 'pear'}"
      ]
     },
     "execution_count": 19,
     "metadata": {},
     "output_type": "execute_result"
    }
   ],
   "source": [
    "A"
   ]
  },
  {
   "cell_type": "code",
   "execution_count": 20,
   "id": "318b6b58",
   "metadata": {},
   "outputs": [
    {
     "ename": "KeyError",
     "evalue": "'berry'",
     "output_type": "error",
     "traceback": [
      "\u001b[1;31m---------------------------------------------------------------------------\u001b[0m",
      "\u001b[1;31mKeyError\u001b[0m                                  Traceback (most recent call last)",
      "\u001b[1;32m~\\AppData\\Local\\Temp/ipykernel_13752/1385702687.py\u001b[0m in \u001b[0;36m<module>\u001b[1;34m\u001b[0m\n\u001b[1;32m----> 1\u001b[1;33m \u001b[0mA\u001b[0m\u001b[1;33m.\u001b[0m\u001b[0mremove\u001b[0m\u001b[1;33m(\u001b[0m\u001b[1;34m'berry'\u001b[0m\u001b[1;33m)\u001b[0m\u001b[1;33m\u001b[0m\u001b[1;33m\u001b[0m\u001b[0m\n\u001b[0m\u001b[0;32m      2\u001b[0m \u001b[0mA\u001b[0m\u001b[1;33m\u001b[0m\u001b[1;33m\u001b[0m\u001b[0m\n",
      "\u001b[1;31mKeyError\u001b[0m: 'berry'"
     ]
    }
   ],
   "source": [
    "A.remove('berry')\n",
    "A"
   ]
  },
  {
   "cell_type": "code",
   "execution_count": 40,
   "id": "5f0dbeb2",
   "metadata": {},
   "outputs": [
    {
     "name": "stdout",
     "output_type": "stream",
     "text": [
      "{'Physics', 'Math', 'Bangla'}\n"
     ]
    }
   ],
   "source": [
    "book_set = {\"Bangla\", \"English\", \"Math\", \"Physics\"}\n",
    "book_set.remove(\"English\")\n",
    "print(book_set)"
   ]
  },
  {
   "cell_type": "code",
   "execution_count": 75,
   "id": "110489bc",
   "metadata": {},
   "outputs": [
    {
     "name": "stdout",
     "output_type": "stream",
     "text": [
      "\n",
      "printing the original set ... \n",
      "{'April', 'February', 'May', 'January', 'March', 'June'}\n",
      "\n",
      "Removing some months from the set...\n",
      "\n",
      "Printing the modified set...\n",
      "{'April', 'February', 'March', 'June'}\n"
     ]
    }
   ],
   "source": [
    "months = set([\"January\",\"February\", \"March\", \"April\", \"May\", \"June\"])    \n",
    "print(\"\\nprinting the original set ... \")    \n",
    "print(months)    \n",
    "print(\"\\nRemoving some months from the set...\");    \n",
    "months.remove(\"January\");    \n",
    "months.remove(\"May\");    \n",
    "print(\"\\nPrinting the modified set...\");    \n",
    "print(months)    "
   ]
  },
  {
   "cell_type": "markdown",
   "id": "20e25652",
   "metadata": {},
   "source": [
    "# discard()"
   ]
  },
  {
   "cell_type": "code",
   "execution_count": 21,
   "id": "6e26aac5",
   "metadata": {},
   "outputs": [],
   "source": [
    "A = {'apple', 'orange', 'apple', 'pear', 'orange', 'banana'}\n",
    "A.discard('apple')"
   ]
  },
  {
   "cell_type": "code",
   "execution_count": 22,
   "id": "eb47560c",
   "metadata": {},
   "outputs": [
    {
     "data": {
      "text/plain": [
       "{'banana', 'orange', 'pear'}"
      ]
     },
     "execution_count": 22,
     "metadata": {},
     "output_type": "execute_result"
    }
   ],
   "source": [
    "A"
   ]
  },
  {
   "cell_type": "code",
   "execution_count": 23,
   "id": "a08c391e",
   "metadata": {},
   "outputs": [
    {
     "data": {
      "text/plain": [
       "{'banana', 'orange', 'pear'}"
      ]
     },
     "execution_count": 23,
     "metadata": {},
     "output_type": "execute_result"
    }
   ],
   "source": [
    "A.discard('cherry')\n",
    "A"
   ]
  },
  {
   "cell_type": "code",
   "execution_count": 74,
   "id": "89fc750f",
   "metadata": {},
   "outputs": [
    {
     "name": "stdout",
     "output_type": "stream",
     "text": [
      "\n",
      "printing the original set ... \n",
      "{'April', 'February', 'May', 'January', 'March', 'June'}\n",
      "\n",
      "Removing some months from the set...\n",
      "\n",
      "Printing the modified set...\n",
      "{'April', 'February', 'March', 'June'}\n",
      "\n",
      "looping through the set elements ... \n",
      "April\n",
      "February\n",
      "March\n",
      "June\n"
     ]
    }
   ],
   "source": [
    "months = set([\"January\",\"February\", \"March\", \"April\", \"May\", \"June\"])    \n",
    "print(\"\\nprinting the original set ... \")    \n",
    "print(months)    \n",
    "print(\"\\nRemoving some months from the set...\");    \n",
    "months.discard(\"January\");    \n",
    "months.discard(\"May\");    \n",
    "print(\"\\nPrinting the modified set...\");    \n",
    "print(months)    \n",
    "print(\"\\nlooping through the set elements ... \")    \n",
    "for i in months:    \n",
    "    print(i)    "
   ]
  },
  {
   "cell_type": "code",
   "execution_count": 76,
   "id": "87382fdb",
   "metadata": {},
   "outputs": [
    {
     "name": "stdout",
     "output_type": "stream",
     "text": [
      "\n",
      "printing the original set ... \n",
      "{'April', 'February', 'May', 'January', 'March', 'June'}\n",
      "\n",
      "Removing items through discard() method...\n",
      "\n",
      "printing the modified set...\n",
      "{'April', 'February', 'May', 'January', 'March', 'June'}\n",
      "\n",
      "Removing items through remove() method...\n"
     ]
    },
    {
     "ename": "KeyError",
     "evalue": "'Jan'",
     "output_type": "error",
     "traceback": [
      "\u001b[1;31m---------------------------------------------------------------------------\u001b[0m",
      "\u001b[1;31mKeyError\u001b[0m                                  Traceback (most recent call last)",
      "\u001b[1;32m~\\AppData\\Local\\Temp/ipykernel_13752/3298213445.py\u001b[0m in \u001b[0;36m<module>\u001b[1;34m\u001b[0m\n\u001b[0;32m      7\u001b[0m \u001b[0mprint\u001b[0m\u001b[1;33m(\u001b[0m\u001b[0mMonths\u001b[0m\u001b[1;33m)\u001b[0m\u001b[1;33m\u001b[0m\u001b[1;33m\u001b[0m\u001b[0m\n\u001b[0;32m      8\u001b[0m \u001b[0mprint\u001b[0m\u001b[1;33m(\u001b[0m\u001b[1;34m\"\\nRemoving items through remove() method...\"\u001b[0m\u001b[1;33m)\u001b[0m\u001b[1;33m;\u001b[0m\u001b[1;33m\u001b[0m\u001b[1;33m\u001b[0m\u001b[0m\n\u001b[1;32m----> 9\u001b[1;33m \u001b[0mMonths\u001b[0m\u001b[1;33m.\u001b[0m\u001b[0mremove\u001b[0m\u001b[1;33m(\u001b[0m\u001b[1;34m\"Jan\"\u001b[0m\u001b[1;33m)\u001b[0m \u001b[1;31m#will give an error as the key jan is not available in the set.\u001b[0m\u001b[1;33m\u001b[0m\u001b[1;33m\u001b[0m\u001b[0m\n\u001b[0m\u001b[0;32m     10\u001b[0m \u001b[0mprint\u001b[0m\u001b[1;33m(\u001b[0m\u001b[1;34m\"\\nPrinting the modified set...\"\u001b[0m\u001b[1;33m)\u001b[0m\u001b[1;33m\u001b[0m\u001b[1;33m\u001b[0m\u001b[0m\n\u001b[0;32m     11\u001b[0m \u001b[0mprint\u001b[0m\u001b[1;33m(\u001b[0m\u001b[0mMonths\u001b[0m\u001b[1;33m)\u001b[0m\u001b[1;33m\u001b[0m\u001b[1;33m\u001b[0m\u001b[0m\n",
      "\u001b[1;31mKeyError\u001b[0m: 'Jan'"
     ]
    }
   ],
   "source": [
    "Months = set([\"January\",\"February\", \"March\", \"April\", \"May\", \"June\"])    \n",
    "print(\"\\nprinting the original set ... \")    \n",
    "print(Months)    \n",
    "print(\"\\nRemoving items through discard() method...\");    \n",
    "Months.discard(\"Feb\"); #will not give an error although the key feb is not available in the set    \n",
    "print(\"\\nprinting the modified set...\")    \n",
    "print(Months)    \n",
    "print(\"\\nRemoving items through remove() method...\");    \n",
    "Months.remove(\"Jan\") #will give an error as the key jan is not available in the set.     \n",
    "print(\"\\nPrinting the modified set...\")    \n",
    "print(Months) "
   ]
  },
  {
   "cell_type": "markdown",
   "id": "a5f605c3",
   "metadata": {},
   "source": [
    "# pop()"
   ]
  },
  {
   "cell_type": "code",
   "execution_count": 25,
   "id": "102737a9",
   "metadata": {},
   "outputs": [],
   "source": [
    " A = {'apple', 'orange', 'apple', 'pear', 'orange', 'banana'}\n",
    "B=A.pop()\n"
   ]
  },
  {
   "cell_type": "code",
   "execution_count": 26,
   "id": "dabc58dc",
   "metadata": {},
   "outputs": [
    {
     "data": {
      "text/plain": [
       "'orange'"
      ]
     },
     "execution_count": 26,
     "metadata": {},
     "output_type": "execute_result"
    }
   ],
   "source": [
    "B"
   ]
  },
  {
   "cell_type": "code",
   "execution_count": 27,
   "id": "b4257b60",
   "metadata": {},
   "outputs": [
    {
     "data": {
      "text/plain": [
       "{'apple', 'banana', 'pear'}"
      ]
     },
     "execution_count": 27,
     "metadata": {},
     "output_type": "execute_result"
    }
   ],
   "source": [
    "A"
   ]
  },
  {
   "cell_type": "code",
   "execution_count": 47,
   "id": "5f134f43",
   "metadata": {},
   "outputs": [
    {
     "name": "stdout",
     "output_type": "stream",
     "text": [
      "cherry\n",
      "{'banana', 'apple'}\n"
     ]
    }
   ],
   "source": [
    "thisset = {\"apple\", \"banana\", \"cherry\"}\n",
    "\n",
    "x = thisset.pop()\n",
    "\n",
    "print(x)\n",
    "\n",
    "print(thisset)"
   ]
  },
  {
   "cell_type": "code",
   "execution_count": null,
   "id": "0139f0b9",
   "metadata": {},
   "outputs": [],
   "source": []
  },
  {
   "cell_type": "code",
   "execution_count": null,
   "id": "0523ee2c",
   "metadata": {},
   "outputs": [],
   "source": []
  },
  {
   "cell_type": "markdown",
   "id": "de39c177",
   "metadata": {},
   "source": [
    "# clear()"
   ]
  },
  {
   "cell_type": "code",
   "execution_count": 28,
   "id": "221eb324",
   "metadata": {},
   "outputs": [],
   "source": [
    "A = {'apple', 'orange', 'apple', 'pear', 'orange', 'banana'}\n",
    "A.clear()\n"
   ]
  },
  {
   "cell_type": "code",
   "execution_count": 29,
   "id": "b296e476",
   "metadata": {},
   "outputs": [
    {
     "data": {
      "text/plain": [
       "set()"
      ]
     },
     "execution_count": 29,
     "metadata": {},
     "output_type": "execute_result"
    }
   ],
   "source": [
    "A"
   ]
  },
  {
   "cell_type": "markdown",
   "id": "779414ad",
   "metadata": {},
   "source": [
    "# del()\n",
    "The del keyword will delete the set completely:\n",
    "\n"
   ]
  },
  {
   "cell_type": "code",
   "execution_count": 48,
   "id": "6bc7dca8",
   "metadata": {},
   "outputs": [
    {
     "ename": "NameError",
     "evalue": "name 'thisset' is not defined",
     "output_type": "error",
     "traceback": [
      "\u001b[1;31m---------------------------------------------------------------------------\u001b[0m",
      "\u001b[1;31mNameError\u001b[0m                                 Traceback (most recent call last)",
      "\u001b[1;32m~\\AppData\\Local\\Temp/ipykernel_13752/3077915618.py\u001b[0m in \u001b[0;36m<module>\u001b[1;34m\u001b[0m\n\u001b[0;32m      3\u001b[0m \u001b[1;32mdel\u001b[0m \u001b[0mthisset\u001b[0m\u001b[1;33m\u001b[0m\u001b[1;33m\u001b[0m\u001b[0m\n\u001b[0;32m      4\u001b[0m \u001b[1;33m\u001b[0m\u001b[0m\n\u001b[1;32m----> 5\u001b[1;33m \u001b[0mprint\u001b[0m\u001b[1;33m(\u001b[0m\u001b[0mthisset\u001b[0m\u001b[1;33m)\u001b[0m\u001b[1;33m\u001b[0m\u001b[1;33m\u001b[0m\u001b[0m\n\u001b[0m",
      "\u001b[1;31mNameError\u001b[0m: name 'thisset' is not defined"
     ]
    }
   ],
   "source": [
    "thisset = {\"apple\", \"banana\", \"cherry\"}\n",
    "\n",
    "del thisset\n",
    "\n",
    "print(thisset)"
   ]
  },
  {
   "cell_type": "code",
   "execution_count": null,
   "id": "3785d0be",
   "metadata": {},
   "outputs": [],
   "source": []
  },
  {
   "cell_type": "markdown",
   "id": "0f07d217",
   "metadata": {},
   "source": [
    "# union()"
   ]
  },
  {
   "cell_type": "code",
   "execution_count": 31,
   "id": "a7b45a9a",
   "metadata": {},
   "outputs": [
    {
     "data": {
      "text/plain": [
       "{1, 2, 3, 4, 5, 6, 7, 8}"
      ]
     },
     "execution_count": 31,
     "metadata": {},
     "output_type": "execute_result"
    }
   ],
   "source": [
    "A = {1, 2, 3, 4, 5}\n",
    "B = {5,6, 7, 8}\n",
    "U=A.union(B)\n",
    "U"
   ]
  },
  {
   "cell_type": "code",
   "execution_count": 55,
   "id": "d28a0b0b",
   "metadata": {},
   "outputs": [
    {
     "name": "stdout",
     "output_type": "stream",
     "text": [
      "Union using |: {0, 1, 2, 3, 4, 5}\n",
      "Union using union(): {0, 1, 2, 3, 4, 5}\n"
     ]
    }
   ],
   "source": [
    "# first set\n",
    "A = {1, 3, 5}\n",
    "\n",
    "# second set\n",
    "B = {0, 2, 4}\n",
    "\n",
    "# perform union operation using |\n",
    "print('Union using |:', A | B)\n",
    "\n",
    "# perform union operation using union()\n",
    "print('Union using union():', A.union(B)) "
   ]
  },
  {
   "cell_type": "code",
   "execution_count": 67,
   "id": "3cbc94e4",
   "metadata": {},
   "outputs": [
    {
     "name": "stdout",
     "output_type": "stream",
     "text": [
      "Union using union() function\n",
      "{'Archil', 'Arjun', 'Jay', 'Karan', 'Idrish'}\n",
      "\n",
      "Union using '|' operator\n",
      "{'Archil', 'Raju', 'Deepanshu', 'Jay', 'Idrish'}\n"
     ]
    }
   ],
   "source": [
    "# Python Program to\n",
    "# demonstrate union of\n",
    "# two sets\n",
    "\n",
    "people = {\"Jay\", \"Idrish\", \"Archil\"}\n",
    "vampires = {\"Karan\", \"Arjun\"}\n",
    "dracula = {\"Deepanshu\", \"Raju\"}\n",
    "\n",
    "# Union using union()\n",
    "# function\n",
    "population = people.union(vampires)\n",
    "\n",
    "print(\"Union using union() function\")\n",
    "print(population)\n",
    "\n",
    "# Union using \"|\"\n",
    "# operator\n",
    "population = people|dracula\n",
    "\n",
    "print(\"\\nUnion using '|' operator\")\n",
    "print(population)\n"
   ]
  },
  {
   "cell_type": "code",
   "execution_count": 77,
   "id": "14c844cf",
   "metadata": {},
   "outputs": [
    {
     "name": "stdout",
     "output_type": "stream",
     "text": [
      "{1, 2, 3, 4, 5}\n"
     ]
    }
   ],
   "source": [
    "# Create three sets  \n",
    "set1 = {1, 2, 3}  \n",
    "set2 = {2, 3, 4}  \n",
    "set3 = {3, 4, 5}  \n",
    "  \n",
    "# Find the common elements between the three sets  \n",
    "common_elements = set1.union(set2, set3)  \n",
    "  \n",
    "# Print the common elements  \n",
    "print(common_elements)  "
   ]
  },
  {
   "cell_type": "markdown",
   "id": "15191745",
   "metadata": {},
   "source": [
    "# intersection"
   ]
  },
  {
   "cell_type": "code",
   "execution_count": 32,
   "id": "c224d238",
   "metadata": {},
   "outputs": [
    {
     "data": {
      "text/plain": [
       "{5}"
      ]
     },
     "execution_count": 32,
     "metadata": {},
     "output_type": "execute_result"
    }
   ],
   "source": [
    "A = {1, 2, 3, 4, 5}\n",
    "B = {5,6, 7, 8}\n",
    "I=A.intersection(B)\n",
    "I"
   ]
  },
  {
   "cell_type": "code",
   "execution_count": 57,
   "id": "846dbd8c",
   "metadata": {},
   "outputs": [
    {
     "name": "stdout",
     "output_type": "stream",
     "text": [
      "Intersection using &: {1, 3}\n",
      "Intersection using intersection(): {1, 3}\n"
     ]
    }
   ],
   "source": [
    "# first set\n",
    "A = {1, 3, 5}\n",
    "\n",
    "# second set\n",
    "B = {1, 2, 3}\n",
    "\n",
    "# perform intersection operation using &\n",
    "print('Intersection using &:', A & B)\n",
    "\n",
    "# perform intersection operation using intersection()\n",
    "print('Intersection using intersection():', A.intersection(B)) "
   ]
  },
  {
   "cell_type": "code",
   "execution_count": 69,
   "id": "358d05de",
   "metadata": {},
   "outputs": [
    {
     "name": "stdout",
     "output_type": "stream",
     "text": [
      "{0, 1, 2, 3, 4}\n",
      "{3, 4, 5, 6, 7, 8}\n",
      "Intersection using intersection() function\n",
      "{3, 4}\n",
      "\n",
      "Intersection using '&' operator\n",
      "{3, 4}\n"
     ]
    }
   ],
   "source": [
    "# Python program to\n",
    "# demonstrate intersection\n",
    "# of two sets\n",
    "\n",
    "set1 = set()\n",
    "set2 = set()\n",
    "\n",
    "for i in range(5):\n",
    "\tset1.add(i)\n",
    "\n",
    "for i in range(3,9):\n",
    "\tset2.add(i)\n",
    "\n",
    "# Intersection using\n",
    "# intersection() function\n",
    "print(set1)\n",
    "print(set2)\n",
    "set3 = set1.intersection(set2)\n",
    "\n",
    "print(\"Intersection using intersection() function\")\n",
    "print(set3)\n",
    "\n",
    "# Intersection using\n",
    "# \"&\" operator\n",
    "set3 = set1 & set2\n",
    "\n",
    "print(\"\\nIntersection using '&' operator\")\n",
    "print(set3)\n"
   ]
  },
  {
   "cell_type": "code",
   "execution_count": 78,
   "id": "30fc287a",
   "metadata": {},
   "outputs": [],
   "source": [
    "# Create three sets  \n",
    "set1 = {1, 2, 3}  \n",
    "set2 = {2, 3, 4}  \n",
    "set3 = {3, 4, 5}  \n",
    "  \n",
    "# Find the common elements between the three sets  \n",
    "common_elements = set1.intersection(set2, set3)  \n",
    "  "
   ]
  },
  {
   "cell_type": "markdown",
   "id": "5fe17250",
   "metadata": {},
   "source": [
    "# The intersection_update() method\n",
    "The intersection_update() method removes the items from the original set that are not present in both the sets (all the sets if more than one are specified).\n",
    "\n",
    "The intersection_update() method is different from the intersection() method since it modifies the original set by removing the unwanted items, on the other hand, the intersection() method returns a new set."
   ]
  },
  {
   "cell_type": "code",
   "execution_count": 85,
   "id": "c213eb0b",
   "metadata": {},
   "outputs": [
    {
     "name": "stdout",
     "output_type": "stream",
     "text": [
      "{'bob', 'castle', 'Devansh'}\n",
      "{'castle'}\n"
     ]
    }
   ],
   "source": [
    "a = {\"Devansh\", \"bob\", \"castle\"}    \n",
    "b = {\"castle\", \"dude\", \"emyway\"}    \n",
    "c = {\"fuson\", \"gaurav\", \"castle\"} \n",
    "a1 = {\"Devansh\", \"bob\", \"castle\"}   \n",
    "d=set()   \n",
    "a.intersection_update(b, c)    \n",
    "a1.intersection(b, c)    \n",
    "    \n",
    "print(a1)\n",
    "print(a)"
   ]
  },
  {
   "cell_type": "code",
   "execution_count": null,
   "id": "e9e69b02",
   "metadata": {},
   "outputs": [],
   "source": []
  },
  {
   "cell_type": "code",
   "execution_count": null,
   "id": "66e164c7",
   "metadata": {},
   "outputs": [],
   "source": []
  },
  {
   "cell_type": "markdown",
   "id": "b1b0ce9c",
   "metadata": {},
   "source": [
    "# difference()"
   ]
  },
  {
   "cell_type": "code",
   "execution_count": 33,
   "id": "6426c8e0",
   "metadata": {},
   "outputs": [
    {
     "data": {
      "text/plain": [
       "{1, 2, 3, 4}"
      ]
     },
     "execution_count": 33,
     "metadata": {},
     "output_type": "execute_result"
    }
   ],
   "source": [
    "A = {1, 2, 3, 4, 5}\n",
    "B = {5,6, 7, 8}\n",
    "D=A.difference(B)\n",
    "D"
   ]
  },
  {
   "cell_type": "code",
   "execution_count": 58,
   "id": "ac8258ea",
   "metadata": {},
   "outputs": [
    {
     "name": "stdout",
     "output_type": "stream",
     "text": [
      "Difference using &: {3, 5}\n",
      "Difference using difference(): {3, 5}\n"
     ]
    }
   ],
   "source": [
    "# first set\n",
    "A = {2, 3, 5}\n",
    "\n",
    "# second set\n",
    "B = {1, 2, 6}\n",
    "\n",
    "# perform difference operation using &\n",
    "print('Difference using &:', A - B)\n",
    "\n",
    "# perform difference operation using difference()\n",
    "print('Difference using difference():', A.difference(B)) "
   ]
  },
  {
   "cell_type": "code",
   "execution_count": 79,
   "id": "9f8dbe54",
   "metadata": {},
   "outputs": [
    {
     "name": "stdout",
     "output_type": "stream",
     "text": [
      " Difference of two sets using difference() function\n",
      "{0, 1, 2}\n",
      "\n",
      "Difference of two sets using '-' operator\n",
      "{0, 1, 2}\n",
      "{3}\n"
     ]
    }
   ],
   "source": [
    "# Python program to\n",
    "# demonstrate difference\n",
    "# of two sets\n",
    "\n",
    "set1 = set()\n",
    "set2 = set()\n",
    "\n",
    "for i in range(5):\n",
    "\tset1.add(i)\n",
    "\n",
    "for i in range(3,9):\n",
    "\tset2.add(i)\n",
    "\n",
    "# Difference of two sets\n",
    "# using difference() function\n",
    "set3 = set1.difference(set2)\n",
    "\n",
    "print(\" Difference of two sets using difference() function\")\n",
    "print(set3)\n",
    "\n",
    "# Difference of two sets\n",
    "# using '-' operator\n",
    "set3 = set1 - set2\n",
    "\n",
    "print(\"\\nDifference of two sets using '-' operator\")\n",
    "print(set3)\n",
    "# Print the common elements  \n",
    "print(common_elements)  \n"
   ]
  },
  {
   "cell_type": "code",
   "execution_count": 80,
   "id": "6d38ea83",
   "metadata": {},
   "outputs": [
    {
     "name": "stdout",
     "output_type": "stream",
     "text": [
      "{3}\n"
     ]
    }
   ],
   "source": [
    "# Create three sets  \n",
    "set1 = {1, 2, 3}  \n",
    "set2 = {2, 3, 4}  \n",
    "set3 = {3, 4, 5}  \n",
    "  \n",
    "# Find the common elements between the three sets  \n",
    "common_elements = set1.intersection(set2, set3)  \n",
    "  \n",
    "# Print the common elements  \n",
    "print(common_elements) "
   ]
  },
  {
   "cell_type": "code",
   "execution_count": null,
   "id": "8dd5af87",
   "metadata": {},
   "outputs": [],
   "source": []
  },
  {
   "cell_type": "code",
   "execution_count": null,
   "id": "f0ccb610",
   "metadata": {},
   "outputs": [],
   "source": []
  },
  {
   "cell_type": "code",
   "execution_count": null,
   "id": "8e49a8db",
   "metadata": {},
   "outputs": [],
   "source": []
  },
  {
   "cell_type": "markdown",
   "id": "32b67955",
   "metadata": {},
   "source": [
    "# The symmetric_difference_update() method\n",
    "will keep only the elements that are NOT present in both sets.\n",
    "\n",
    "Keep the items that are not present in both sets:\n",
    "\n"
   ]
  },
  {
   "cell_type": "code",
   "execution_count": 50,
   "id": "1725c3f7",
   "metadata": {},
   "outputs": [
    {
     "name": "stdout",
     "output_type": "stream",
     "text": [
      "{'cherry', 'microsoft', 'google', 'banana'}\n"
     ]
    }
   ],
   "source": [
    "x = {\"apple\", \"banana\", \"cherry\"}\n",
    "y = {\"google\", \"microsoft\", \"apple\"}\n",
    "\n",
    "x.symmetric_difference_update(y)\n",
    "\n",
    "print(x)"
   ]
  },
  {
   "cell_type": "markdown",
   "id": "4186739c",
   "metadata": {},
   "source": [
    "# The symmetric_difference() \n",
    "method will return a new set, that contains only the elements that are NOT present in both sets.\n",
    "Return a set that contains all items from both sets, except items that are present in both:\n"
   ]
  },
  {
   "cell_type": "code",
   "execution_count": 52,
   "id": "1fd71ca6",
   "metadata": {},
   "outputs": [
    {
     "data": {
      "text/plain": [
       "{'banana', 'cherry', 'google', 'microsoft'}"
      ]
     },
     "execution_count": 52,
     "metadata": {},
     "output_type": "execute_result"
    }
   ],
   "source": [
    "\n",
    "x = {\"apple\", \"banana\", \"cherry\"}\n",
    "y = {\"google\", \"microsoft\", \"apple\"}\n",
    "\n",
    "z = x.symmetric_difference(y)\n",
    "z\n"
   ]
  },
  {
   "cell_type": "code",
   "execution_count": 54,
   "id": "16ee162d",
   "metadata": {},
   "outputs": [
    {
     "data": {
      "text/plain": [
       "{2, 'banana', 'cherry', 'google'}"
      ]
     },
     "execution_count": 54,
     "metadata": {},
     "output_type": "execute_result"
    }
   ],
   "source": [
    "x = {\"apple\", \"banana\", \"cherry\", True}\n",
    "y = {\"google\", 1, \"apple\", 2}\n",
    "\n",
    "z = x.symmetric_difference(y)\n",
    "z"
   ]
  },
  {
   "cell_type": "code",
   "execution_count": 59,
   "id": "53b43115",
   "metadata": {},
   "outputs": [
    {
     "name": "stdout",
     "output_type": "stream",
     "text": [
      "using ^: {1, 3, 5, 6}\n",
      "using symmetric_difference(): {1, 3, 5, 6}\n"
     ]
    }
   ],
   "source": [
    "# first set\n",
    "A = {2, 3, 5}\n",
    "\n",
    "# second set\n",
    "B = {1, 2, 6}\n",
    "\n",
    "# perform difference operation using &\n",
    "print('using ^:', A ^ B)\n",
    "\n",
    "# using symmetric_difference()\n",
    "print('using symmetric_difference():', A.symmetric_difference(B)) "
   ]
  },
  {
   "cell_type": "code",
   "execution_count": 60,
   "id": "2a3f0582",
   "metadata": {},
   "outputs": [
    {
     "name": "stdout",
     "output_type": "stream",
     "text": [
      "Set A and Set B are equal\n"
     ]
    }
   ],
   "source": [
    "# first set\n",
    "A = {1, 3, 5}\n",
    "\n",
    "# second set\n",
    "B = {3, 5, 1}\n",
    "\n",
    "# perform difference operation using &\n",
    "if A == B:\n",
    "    print('Set A and Set B are equal')\n",
    "else:\n",
    "    print('Set A and Set B are not equal')"
   ]
  },
  {
   "cell_type": "markdown",
   "id": "2c2d9356",
   "metadata": {},
   "source": [
    "# Method\tDescription\n",
    "set.add()\tAdds an element to the set. If an element is already exist in the set, then it does not add that element.\n",
    "set.clear()\tRemoves all the elements from the set.\n",
    "set.copy()\tReturns a shallow copy of the set.\n",
    "set.difference()\tReturns the new set with the unique elements that are not in the another set passed as a parameter.\n",
    "set.difference_update()\tUpdates the set on which the method is called with the elements that are common in another set passed as an argument.\n",
    "set.discard()\tRemoves a specific element from the set.\n",
    "set.intersection()\tReturns a new set with the elements that are common in the given sets.\n",
    "set.intersection_update()\tUpdates the set on which the instersection_update() method is called, with common elements among the specified sets.\n",
    "set.isdisjoint()\tReturns true if the given sets have no common elements. Sets are disjoint if and only if their intersection is the empty set.\n",
    "set.issubset()\tReturns true if the set (on which the issubset() is called) contains every element of the other set passed as an argument.\n",
    "set.pop()\tRemoves and returns a random element from the set.\n",
    "set.remove()\tRemoves the specified element from the set. If the specified element not found, raise an error.\n",
    "set.symmetric_difference()\tReturns a new set with the distinct elements found in both the sets.\n",
    "set.symmetric_difference_update()\tUpdates the set on which the instersection_update() method called, with the elements that are common among the specified sets.\n",
    "set.union()\tReturns a new set with distinct elements from all the given sets.\n",
    "set.update()\tUpdates the set by adding distinct elements from the passed one or more iterables."
   ]
  },
  {
   "cell_type": "markdown",
   "id": "919a5c44",
   "metadata": {},
   "source": [
    "# Operators for Sets\n",
    "Sets and frozen sets support the following operators:\n",
    "\n",
    "Operators\tNotes\n",
    "key in s\tcontainment check\n",
    "key not in s\tnon-containment check\n",
    "s1 == s2\ts1 is equivalent to s2\n",
    "s1 != s2\ts1 is not equivalent to s2\n",
    "s1 <= s2\ts1 is subset of s2\n",
    "s1 < s2\ts1 is proper subset of s2\n",
    "s1 >= s2\ts1 is superset of s2\n",
    "s1 > s2\ts1 is proper superset of s2\n",
    "s1 | s2\tthe union of s1 and s2\n",
    "s1 & s2\tthe intersection of s1 and s2\n",
    "s1 – s2\tthe set of elements in s1 but not s2\n",
    "s1 ˆ s2\tthe set of elements in precisely one of s1 or s2"
   ]
  },
  {
   "cell_type": "code",
   "execution_count": 86,
   "id": "58a3635c",
   "metadata": {},
   "outputs": [
    {
     "name": "stdout",
     "output_type": "stream",
     "text": [
      "True\n",
      "False\n",
      "False\n"
     ]
    }
   ],
   "source": [
    "Days1 = {\"Monday\",  \"Tuesday\", \"Wednesday\", \"Thursday\"}    \n",
    "Days2 = {\"Monday\", \"Tuesday\"}    \n",
    "Days3 = {\"Monday\", \"Tuesday\", \"Friday\"}    \n",
    "    \n",
    "#Days1 is the superset of Days2 hence it will print true.     \n",
    "print (Days1>Days2)     \n",
    "    \n",
    "#prints false since Days1 is not the subset of Days2     \n",
    "print (Days1<Days2)    \n",
    "    \n",
    "#prints false since Days2 and Days3 are not equivalent     \n",
    "print (Days2 == Days3)    "
   ]
  },
  {
   "cell_type": "code",
   "execution_count": 87,
   "id": "71b01629",
   "metadata": {},
   "outputs": [
    {
     "name": "stdout",
     "output_type": "stream",
     "text": [
      "Enter the number you want to remove2\n",
      "After Removing: {1, 3, 4, 5, 6, 12, 24}\n"
     ]
    }
   ],
   "source": [
    "# 1: Write a program to remove the given number from the set.\n",
    "\n",
    "my_set = {1,2,3,4,5,6,12,24}  \n",
    "n = int(input(\"Enter the number you want to remove\"))  \n",
    "my_set.discard(n)  \n",
    "print(\"After Removing:\",my_set)  "
   ]
  },
  {
   "cell_type": "code",
   "execution_count": 88,
   "id": "a63a8bb7",
   "metadata": {},
   "outputs": [
    {
     "name": "stdout",
     "output_type": "stream",
     "text": [
      "{1, 2, 4, 'Apple', 'Mango', 'Grapes', 'John', 'CS'}\n"
     ]
    }
   ],
   "source": [
    "#### to add multiple elements to the set\n",
    "set1 = set([1,2,4,\"John\",\"CS\"])  \n",
    "set1.update([\"Apple\",\"Mango\",\"Grapes\"])  \n",
    "print(set1)  "
   ]
  },
  {
   "cell_type": "code",
   "execution_count": null,
   "id": "7cb847e9",
   "metadata": {},
   "outputs": [],
   "source": []
  },
  {
   "cell_type": "code",
   "execution_count": 89,
   "id": "b68e5f32",
   "metadata": {},
   "outputs": [
    {
     "name": "stdout",
     "output_type": "stream",
     "text": [
      "False\n",
      "False\n",
      "True\n",
      "True\n"
     ]
    }
   ],
   "source": [
    "##### : Write the program to find the issuperset, issubset and superset.\n",
    "\n",
    "set1 = set([\"Peter\",\"James\",\"Camroon\",\"Ricky\",\"Donald\"])  \n",
    "set2 = set([\"Camroon\",\"Washington\",\"Peter\"])  \n",
    "set3 = set([\"Peter\"])  \n",
    "  \n",
    "issubset = set1 >= set2  \n",
    "print(issubset)  \n",
    "issuperset = set1 <= set2  \n",
    "print(issuperset)  \n",
    "issubset = set3 <= set2  \n",
    "print(issubset)  \n",
    "issuperset = set2 >= set3  \n",
    "print(issuperset)  "
   ]
  },
  {
   "cell_type": "markdown",
   "id": "2273024a",
   "metadata": {},
   "source": [
    "# \n",
    "SN\tMethod\tDescription\n",
    "1\tadd(item)\tIt adds an item to the set. It has no effect if the item is already present in the set.\n",
    "2\tclear()\tIt deletes all the items from the set.\n",
    "3\tcopy()\tIt returns a shallow copy of the set.\n",
    "4\tdifference_update(....)\tIt modifies this set by removing all the items that are also present in the specified sets.\n",
    "5\tdiscard(item)\tIt removes the specified item from the set.\n",
    "6\tintersection()\tIt returns a new set that contains only the common elements of both the sets. (all the sets if more than two are specified).\n",
    "7\tintersection_update(....)\tIt removes the items from the original set that are not present in both the sets (all the sets if more than one are specified).\n",
    "8\tIsdisjoint(....)\tReturn True if two sets have a null intersection.\n",
    "9\tIssubset(....)\tReport whether another set contains this set.\n",
    "10\tIssuperset(....)\tReport whether this set contains another set.\n",
    "11\tpop()\tRemove and return an arbitrary set element that is the last element of the set. Raises KeyError if the set is empty.\n",
    "12\tremove(item)\tRemove an element from a set; it must be a member. If the element is not a member, raise a KeyError.\n",
    "13\tsymmetric_difference(....)\tRemove an element from a set; it must be a member. If the element is not a member, raise a KeyError.\n",
    "14\tsymmetric_difference_update(....)\tUpdate a set with the symmetric difference of itself and another.\n",
    "15\tunion(....)\tReturn the union of sets as a new set.\n",
    "(i.e. all elements that are in either set.)\n",
    "16\tupdate()\tUpdate a set with the union of itself and others."
   ]
  },
  {
   "cell_type": "code",
   "execution_count": null,
   "id": "6928a3f7",
   "metadata": {},
   "outputs": [],
   "source": []
  },
  {
   "cell_type": "code",
   "execution_count": null,
   "id": "a5be98af",
   "metadata": {},
   "outputs": [],
   "source": []
  }
 ],
 "metadata": {
  "kernelspec": {
   "display_name": "Python 3 (ipykernel)",
   "language": "python",
   "name": "python3"
  },
  "language_info": {
   "codemirror_mode": {
    "name": "ipython",
    "version": 3
   },
   "file_extension": ".py",
   "mimetype": "text/x-python",
   "name": "python",
   "nbconvert_exporter": "python",
   "pygments_lexer": "ipython3",
   "version": "3.9.7"
  }
 },
 "nbformat": 4,
 "nbformat_minor": 5
}
