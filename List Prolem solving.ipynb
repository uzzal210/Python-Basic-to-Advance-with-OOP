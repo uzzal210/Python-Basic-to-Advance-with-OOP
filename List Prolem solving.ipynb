{
 "cells": [
  {
   "cell_type": "markdown",
   "id": "8f3e72c1",
   "metadata": {},
   "source": [
    "# Create a program to eliminate the List's duplicate items."
   ]
  },
  {
   "cell_type": "code",
   "execution_count": 3,
   "id": "2cac441f",
   "metadata": {},
   "outputs": [
    {
     "name": "stdout",
     "output_type": "stream",
     "text": [
      "[1, 2, 3, 55, 98, 65, 13, 29]\n",
      "266\n"
     ]
    }
   ],
   "source": [
    "list1 = [1,2,2,3,55,98,65,65,13,29]    \n",
    "# Declare an empty list that will store unique values  \n",
    "sum=0\n",
    "list2 = []    \n",
    "for i in list1:    \n",
    "    if i not in list2:    \n",
    "        list2.append(i)    \n",
    "        sum=sum+i\n",
    "print(list2)   \n",
    "print(sum)"
   ]
  },
  {
   "cell_type": "markdown",
   "id": "09c61e8e",
   "metadata": {},
   "source": [
    "# Compose a program to track down the amount of the component in the rundown."
   ]
  },
  {
   "cell_type": "code",
   "execution_count": 2,
   "id": "51486252",
   "metadata": {},
   "outputs": [
    {
     "name": "stdout",
     "output_type": "stream",
     "text": [
      "The sum is: 67\n"
     ]
    }
   ],
   "source": [
    "list1 = [3,4,5,9,10,12,24]    \n",
    "sum = 0    \n",
    "for i in list1:    \n",
    "    sum = sum+i        \n",
    "print(\"The sum is:\",sum)  "
   ]
  },
  {
   "cell_type": "markdown",
   "id": "05d7ca5e",
   "metadata": {},
   "source": [
    "# Compose the program to find the rundowns comprise of somewhere around one normal component."
   ]
  },
  {
   "cell_type": "code",
   "execution_count": 4,
   "id": "24fa6949",
   "metadata": {},
   "outputs": [
    {
     "name": "stdout",
     "output_type": "stream",
     "text": [
      "The common element is: 2\n"
     ]
    }
   ],
   "source": [
    "list1 = [1,2,3,4,5,6]    \n",
    "list2 = [7,8,9,2,10]    \n",
    "for x in list1:    \n",
    "    for y in list2:    \n",
    "        if x == y:    \n",
    "            print(\"The common element is:\",x)    "
   ]
  },
  {
   "cell_type": "markdown",
   "id": "efa0d37e",
   "metadata": {},
   "source": [
    "# Program to check if the Given List is in Ascending Order or Not"
   ]
  },
  {
   "cell_type": "code",
   "execution_count": 1,
   "id": "fe14ad2b",
   "metadata": {},
   "outputs": [
    {
     "name": "stdout",
     "output_type": "stream",
     "text": [
      "Given List is not in Ascending Order\n"
     ]
    }
   ],
   "source": [
    "list1 = [1, 2, 3, 5, 4, 8, 7, 9]\n",
    "temp_list = list1[:]\n",
    "list1.sort()\n",
    "if temp_list == list1:\n",
    "    print(\"Given List is in Ascending Order\")\n",
    "else:\n",
    "    print(\"Given List is not in Ascending Order\")"
   ]
  },
  {
   "cell_type": "markdown",
   "id": "ec9d50cc",
   "metadata": {},
   "source": [
    "# . Program to Find Even Numbers From a List\n"
   ]
  },
  {
   "cell_type": "code",
   "execution_count": 2,
   "id": "6fa15367",
   "metadata": {},
   "outputs": [
    {
     "name": "stdout",
     "output_type": "stream",
     "text": [
      "2\n",
      "10\n",
      "12\n",
      "4\n"
     ]
    }
   ],
   "source": [
    "list2 = [2, 3, 7, 5, 10, 17, 12, 4, 1, 13]\n",
    "for i in list2:\n",
    "    if i % 2 == 0:\n",
    "        print(i)"
   ]
  },
  {
   "cell_type": "code",
   "execution_count": 7,
   "id": "31a8e8bf",
   "metadata": {},
   "outputs": [
    {
     "name": "stdout",
     "output_type": "stream",
     "text": [
      "2\n",
      "10\n",
      "12\n",
      "4\n",
      "[2, 10, 12, 4]\n"
     ]
    }
   ],
   "source": [
    "list2 = [2, 3, 7, 5, 10, 17, 12, 4, 1, 13]\n",
    "l1=[]\n",
    "for i in list2:\n",
    "    if i % 2 == 0:\n",
    "        print(i)\n",
    "        l1.append(i)\n",
    "print(l1)"
   ]
  },
  {
   "cell_type": "markdown",
   "id": "74097479",
   "metadata": {},
   "source": [
    "# Interchange First and Last Element of a List\n"
   ]
  },
  {
   "cell_type": "code",
   "execution_count": 3,
   "id": "61eb09cb",
   "metadata": {},
   "outputs": [
    {
     "name": "stdout",
     "output_type": "stream",
     "text": [
      "[23, 29, 51, 9, 17, 6, 7, 1]\n"
     ]
    }
   ],
   "source": [
    "list5 = [1, 29, 51, 9, 17, 6, 7, 23]\n",
    "list5[0], list5[-1] = list5[-1], list5[0]\n",
    "print(list5)"
   ]
  },
  {
   "cell_type": "markdown",
   "id": "b6d59134",
   "metadata": {},
   "source": [
    "# Program to Subtract a List from Another List\n"
   ]
  },
  {
   "cell_type": "code",
   "execution_count": 4,
   "id": "dbb4d3ae",
   "metadata": {},
   "outputs": [
    {
     "name": "stdout",
     "output_type": "stream",
     "text": [
      "[3, 5]\n"
     ]
    }
   ],
   "source": [
    "a = [1, 2, 3, 5]\n",
    "b = [1, 2]\n",
    "l1 = []\n",
    "for i in a:\n",
    "    if i not in b:\n",
    "        l1.append(i)\n",
    "print(l1)"
   ]
  },
  {
   "cell_type": "markdown",
   "id": "e3b9473f",
   "metadata": {},
   "source": [
    "# Program to Get Data Items From a List Appearing Odd Number of Times\n"
   ]
  },
  {
   "cell_type": "code",
   "execution_count": 6,
   "id": "8b9edba3",
   "metadata": {},
   "outputs": [
    {
     "name": "stdout",
     "output_type": "stream",
     "text": [
      "[2, 3, 5]\n"
     ]
    }
   ],
   "source": [
    "x = [1,2,3,4,5,1,3,3,4]\n",
    "l1 = []\n",
    "for i in x:\n",
    "    if x.count(i) % 2 != 0:\n",
    "        if i not in l1:\n",
    "            l1.append(i)\n",
    "print(l1)"
   ]
  },
  {
   "cell_type": "code",
   "execution_count": 9,
   "id": "47e9d221",
   "metadata": {},
   "outputs": [
    {
     "name": "stdout",
     "output_type": "stream",
     "text": [
      "[1, 3, 5]\n"
     ]
    }
   ],
   "source": [
    "x = [1,2,3,4,5,1,3,3,4]\n",
    "l1 = []\n",
    "for i in x:\n",
    "    if i % 2 != 0:\n",
    "        if i not in l1:\n",
    "            l1.append(i)\n",
    "print(l1)"
   ]
  },
  {
   "cell_type": "markdown",
   "id": "8ebddf91",
   "metadata": {},
   "source": [
    "# Program to Check if List is Empty\n"
   ]
  },
  {
   "cell_type": "code",
   "execution_count": 10,
   "id": "1837b1a6",
   "metadata": {},
   "outputs": [
    {
     "name": "stdout",
     "output_type": "stream",
     "text": [
      "List is not empty\n"
     ]
    }
   ],
   "source": [
    "b = [1, 65, 23, 'Hello', 3.23]\n",
    "if len(b) == 0:\n",
    "    print(\"Given List is Empty\")\n",
    "else:\n",
    "    print(\"List is not empty\")"
   ]
  },
  {
   "cell_type": "markdown",
   "id": "917b6fd3",
   "metadata": {},
   "source": [
    "# Program to Find 2nd Smallest Element of a List\n"
   ]
  },
  {
   "cell_type": "code",
   "execution_count": 12,
   "id": "cca2d11b",
   "metadata": {},
   "outputs": [
    {
     "name": "stdout",
     "output_type": "stream",
     "text": [
      "14\n"
     ]
    },
    {
     "data": {
      "text/plain": [
       "[2, 14, 29, 43, 57]"
      ]
     },
     "execution_count": 12,
     "metadata": {},
     "output_type": "execute_result"
    }
   ],
   "source": [
    "e = [14, 57, 2, 43, 29]\n",
    "e.sort()\n",
    "print(e[1])\n",
    "e"
   ]
  },
  {
   "cell_type": "code",
   "execution_count": null,
   "id": "a0ef95b3",
   "metadata": {},
   "outputs": [],
   "source": []
  }
 ],
 "metadata": {
  "kernelspec": {
   "display_name": "Python 3 (ipykernel)",
   "language": "python",
   "name": "python3"
  },
  "language_info": {
   "codemirror_mode": {
    "name": "ipython",
    "version": 3
   },
   "file_extension": ".py",
   "mimetype": "text/x-python",
   "name": "python",
   "nbconvert_exporter": "python",
   "pygments_lexer": "ipython3",
   "version": "3.9.7"
  }
 },
 "nbformat": 4,
 "nbformat_minor": 5
}
