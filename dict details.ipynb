{
 "cells": [
  {
   "cell_type": "code",
   "execution_count": null,
   "id": "92deb7de",
   "metadata": {},
   "outputs": [],
   "source": [
    "List is a collection which is ordered and changeable. Allows duplicate members.\n",
    "Tuple is a collection which is ordered and unchangeable. Allows duplicate members.\n",
    "Set is a collection which is unordered, unchangeable*, and unindexed. No duplicate members.\n",
    "Dictionary is a collection which is ordered** and changeable. No duplicate members.\n",
    "\n",
    "Dictionaries are used to store data values in key:value pairs.\n",
    "A dictionary is a collection which is ordered*, changeable and do not allow duplicates.\n",
    "Dictionary items are ordered, changeable, and does not allow duplicates.\n",
    "Dictionary items are presented in key:value pairs, and can be referred to by using the key name.\n",
    "Ordered or Unordered?\n",
    "As of Python version 3.7, dictionaries are ordered. In Python 3.6 and earlier, dictionaries are unordered.\n",
    "\n",
    "When we say that dictionaries are ordered, it means that the items have a defined order, and that order will not change.\n",
    "\n",
    "Unordered means that the items does not have a defined order, you cannot refer to an item by using an index.\n",
    "\n",
    "Changeable\n",
    "Dictionaries are changeable, meaning that we can change, add or remove items after the dictionary has been created.\n",
    "\n",
    "Duplicates Not Allowed\n",
    "Dictionaries cannot have two items with the same key:\n",
    "\n",
    "Example\n",
    "Duplicate values will overwrite existing values.\n",
    "\n",
    "The data is stored as key-value pairs using a Python dictionary.\n",
    "\n",
    "This data structure is mutable\n",
    "The components of dictionary were made using keys and values.\n",
    "Keys must only have one component.\n",
    "Values can be of any type, including integer, list, and tuple.\n",
    "A dictionary is, in other words, a group of key-value pairs, where the values can be any Python object. \n",
    "The keys, in contrast, are immutable Python objects, such as strings, tuples, or numbers. \n",
    "Dictionary entries are ordered as of Python version 3.7. In Python 3.6 and before, dictionaries are generally unordered."
   ]
  },
  {
   "cell_type": "code",
   "execution_count": 1,
   "id": "6dcd6a24",
   "metadata": {},
   "outputs": [
    {
     "data": {
      "text/plain": [
       "dict"
      ]
     },
     "execution_count": 1,
     "metadata": {},
     "output_type": "execute_result"
    }
   ],
   "source": [
    "a = {}\n",
    "type(a)"
   ]
  },
  {
   "cell_type": "code",
   "execution_count": 6,
   "id": "b72bdb64",
   "metadata": {},
   "outputs": [
    {
     "name": "stdout",
     "output_type": "stream",
     "text": [
      "{}\n"
     ]
    },
    {
     "data": {
      "text/plain": [
       "dict"
      ]
     },
     "execution_count": 6,
     "metadata": {},
     "output_type": "execute_result"
    }
   ],
   "source": [
    "a = dict()\n",
    "print(a)\n",
    "type(a)"
   ]
  },
  {
   "cell_type": "code",
   "execution_count": 65,
   "id": "8b69a823",
   "metadata": {},
   "outputs": [
    {
     "name": "stdout",
     "output_type": "stream",
     "text": [
      "\n",
      "Dictionary with the use of Integer Keys: \n",
      "{1: 'Uzzal', 2: 'Kumar', 3: 'Ratul'}\n",
      "\n",
      "Dictionary with the use of Mixed Keys: \n",
      "{'Name': 'Ratul', 1: [1, 2, 3, 4]}\n"
     ]
    }
   ],
   "source": [
    "# Creating a Dictionary\n",
    "# with Integer Keys\n",
    "Dict = {1: 'Uzzal', 2: 'Kumar', 3: 'Ratul'}\n",
    "print(\"\\nDictionary with the use of Integer Keys: \")\n",
    "print(Dict)\n",
    "\n",
    "# Creating a Dictionary\n",
    "# with Mixed keys\n",
    "Dict = {'Name': 'Ratul', 1: [1, 2, 3, 4]}\n",
    "print(\"\\nDictionary with the use of Mixed Keys: \")\n",
    "print(Dict)\n"
   ]
  },
  {
   "cell_type": "code",
   "execution_count": 70,
   "id": "cdb29980",
   "metadata": {},
   "outputs": [
    {
     "name": "stdout",
     "output_type": "stream",
     "text": [
      "Empty Dictionary: \n",
      "{}\n",
      "\n",
      "Dictionary with the use of dict(): \n",
      "{}\n"
     ]
    },
    {
     "ename": "TypeError",
     "evalue": "'dict' object is not callable",
     "output_type": "error",
     "traceback": [
      "\u001b[1;31m---------------------------------------------------------------------------\u001b[0m",
      "\u001b[1;31mTypeError\u001b[0m                                 Traceback (most recent call last)",
      "\u001b[1;32m~\\AppData\\Local\\Temp/ipykernel_9612/1081389417.py\u001b[0m in \u001b[0;36m<module>\u001b[1;34m\u001b[0m\n\u001b[0;32m     12\u001b[0m \u001b[1;31m# Creating a Dictionary\u001b[0m\u001b[1;33m\u001b[0m\u001b[1;33m\u001b[0m\u001b[0m\n\u001b[0;32m     13\u001b[0m \u001b[1;31m# with each item as a Pair\u001b[0m\u001b[1;33m\u001b[0m\u001b[1;33m\u001b[0m\u001b[0m\n\u001b[1;32m---> 14\u001b[1;33m \u001b[0mDict\u001b[0m \u001b[1;33m=\u001b[0m \u001b[0mdict\u001b[0m\u001b[1;33m(\u001b[0m\u001b[1;33m[\u001b[0m\u001b[1;33m(\u001b[0m\u001b[1;36m1\u001b[0m\u001b[1;33m,\u001b[0m \u001b[1;34m'Uzzal'\u001b[0m\u001b[1;33m)\u001b[0m\u001b[1;33m,\u001b[0m \u001b[1;33m(\u001b[0m\u001b[1;36m2\u001b[0m\u001b[1;33m,\u001b[0m \u001b[1;34m'Kumar'\u001b[0m\u001b[1;33m)\u001b[0m\u001b[1;33m]\u001b[0m\u001b[1;33m)\u001b[0m\u001b[1;33m\u001b[0m\u001b[1;33m\u001b[0m\u001b[0m\n\u001b[0m\u001b[0;32m     15\u001b[0m \u001b[0mprint\u001b[0m\u001b[1;33m(\u001b[0m\u001b[1;34m\"\\nDictionary with each item as a pair: \"\u001b[0m\u001b[1;33m)\u001b[0m\u001b[1;33m\u001b[0m\u001b[1;33m\u001b[0m\u001b[0m\n\u001b[0;32m     16\u001b[0m \u001b[0mprint\u001b[0m\u001b[1;33m(\u001b[0m\u001b[0mDict\u001b[0m\u001b[1;33m)\u001b[0m\u001b[1;33m\u001b[0m\u001b[1;33m\u001b[0m\u001b[0m\n",
      "\u001b[1;31mTypeError\u001b[0m: 'dict' object is not callable"
     ]
    }
   ],
   "source": [
    "# Creating an empty Dictionary\n",
    "Dict = {}\n",
    "print(\"Empty Dictionary: \")\n",
    "print(Dict)\n",
    "\n",
    "# Creating a Dictionary\n",
    "# with dict() method\n",
    "#Dict = dict({1:'Uzzal', 2:'Kumar', 3:'Ratul'})\n",
    "print(\"\\nDictionary with the use of dict(): \")\n",
    "print(Dict)\n",
    "\n",
    "# Creating a Dictionary\n",
    "# with each item as a Pair\n",
    "Dict = dict([(1, 'Uzzal'), (2, 'Kumar')])\n",
    "print(\"\\nDictionary with each item as a pair: \")\n",
    "print(Dict)\n"
   ]
  },
  {
   "cell_type": "markdown",
   "id": "017123bf",
   "metadata": {},
   "source": [
    "# Accessing Item"
   ]
  },
  {
   "cell_type": "code",
   "execution_count": 4,
   "id": "5621fbc0",
   "metadata": {},
   "outputs": [
    {
     "data": {
      "text/plain": [
       "{'name': 'Uzza Kumar Ratul',\n",
       " 'nickname': 'Ratul',\n",
       " 'email': 'uzzalkumar210@gmail.com',\n",
       " 'phone': '0171178265'}"
      ]
     },
     "execution_count": 4,
     "metadata": {},
     "output_type": "execute_result"
    }
   ],
   "source": [
    "a = dict({'name' : 'Uzza Kumar Ratul', 'nickname' : 'Ratul', 'email' : 'uzzalkumar210@gmail.com', 'phone' : '0171178265'})\n",
    "a"
   ]
  },
  {
   "cell_type": "code",
   "execution_count": 10,
   "id": "9163443e",
   "metadata": {},
   "outputs": [
    {
     "data": {
      "text/plain": [
       "{'name': 'Uzza Kumar Ratul',\n",
       " 'nickname': 'Ratul',\n",
       " 'email': 'uzzalkumar210@gmail.com',\n",
       " 'phone': '0171178265'}"
      ]
     },
     "execution_count": 10,
     "metadata": {},
     "output_type": "execute_result"
    }
   ],
   "source": [
    "a = {'name' : 'Uzza Kumar Ratul', 'nickname' : 'Ratul', 'email' : 'uzzalkumar210@gmail.com', 'phone' : '0171178265'}\n",
    "a"
   ]
  },
  {
   "cell_type": "code",
   "execution_count": 13,
   "id": "2c7d8cd8",
   "metadata": {},
   "outputs": [
    {
     "name": "stdout",
     "output_type": "stream",
     "text": [
      "Uzza Kumar Ratul\n",
      "Ratul\n",
      "uzzalkumar210@gmail.com\n"
     ]
    }
   ],
   "source": [
    "print(a['name'])\n",
    "print(a['nickname'])\n",
    "print(a['email'])"
   ]
  },
  {
   "cell_type": "code",
   "execution_count": null,
   "id": "f1e10a93",
   "metadata": {},
   "outputs": [],
   "source": []
  },
  {
   "cell_type": "code",
   "execution_count": 14,
   "id": "6408cf45",
   "metadata": {},
   "outputs": [
    {
     "data": {
      "text/plain": [
       "{'name': 'Uzza Kumar Ratul',\n",
       " 'nickname': 'Ratul',\n",
       " 'email': 'uzzalkumar210@gmail.com',\n",
       " 'phone': '0171178265'}"
      ]
     },
     "execution_count": 14,
     "metadata": {},
     "output_type": "execute_result"
    }
   ],
   "source": [
    "a"
   ]
  },
  {
   "cell_type": "code",
   "execution_count": 44,
   "id": "42a051c5",
   "metadata": {},
   "outputs": [
    {
     "name": "stdout",
     "output_type": "stream",
     "text": [
      "{1: 'Hello', (1, 2): 'Hello Hi', 3: [1, 2, 3]}\n"
     ]
    },
    {
     "ename": "TypeError",
     "evalue": "unhashable type: 'list'",
     "output_type": "error",
     "traceback": [
      "\u001b[1;31m---------------------------------------------------------------------------\u001b[0m",
      "\u001b[1;31mTypeError\u001b[0m                                 Traceback (most recent call last)",
      "\u001b[1;32m~\\AppData\\Local\\Temp/ipykernel_9612/3100665963.py\u001b[0m in \u001b[0;36m<module>\u001b[1;34m\u001b[0m\n\u001b[0;32m     15\u001b[0m \u001b[1;31m# Error: using a list as a key is not allowed\u001b[0m\u001b[1;33m\u001b[0m\u001b[1;33m\u001b[0m\u001b[0m\n\u001b[0;32m     16\u001b[0m \u001b[1;33m\u001b[0m\u001b[0m\n\u001b[1;32m---> 17\u001b[1;33m my_dict = {\n\u001b[0m\u001b[0;32m     18\u001b[0m   \u001b[1;36m1\u001b[0m\u001b[1;33m:\u001b[0m \u001b[1;34m\"Hello\"\u001b[0m\u001b[1;33m,\u001b[0m\u001b[1;33m\u001b[0m\u001b[1;33m\u001b[0m\u001b[0m\n\u001b[0;32m     19\u001b[0m   \u001b[1;33m[\u001b[0m\u001b[1;36m1\u001b[0m\u001b[1;33m,\u001b[0m \u001b[1;36m2\u001b[0m\u001b[1;33m]\u001b[0m\u001b[1;33m:\u001b[0m \u001b[1;34m\"Hello Hi\"\u001b[0m\u001b[1;33m,\u001b[0m\u001b[1;33m\u001b[0m\u001b[1;33m\u001b[0m\u001b[0m\n",
      "\u001b[1;31mTypeError\u001b[0m: unhashable type: 'list'"
     ]
    }
   ],
   "source": [
    "### Note: Dictionary keys must be immutable, such as tuples, strings, integers, etc.\n",
    "### We cannot use mutable (changeable) objects such as lists as keys.\n",
    "\n",
    "# Valid dictionary\n",
    "\n",
    "my_dict = {\n",
    "  1: \"Hello\", \n",
    "  (1, 2): \"Hello Hi\", \n",
    "  3: [1, 2, 3]\n",
    "}\n",
    "\n",
    "print(my_dict)\n",
    "\n",
    "# Invalid dictionary\n",
    "# Error: using a list as a key is not allowed\n",
    "\n",
    "my_dict = {\n",
    "  1: \"Hello\", \n",
    "  [1, 2]: \"Hello Hi\", \n",
    "}\n",
    "\n",
    "print(my_dict)"
   ]
  },
  {
   "cell_type": "code",
   "execution_count": 47,
   "id": "740b140c",
   "metadata": {},
   "outputs": [
    {
     "name": "stdout",
     "output_type": "stream",
     "text": [
      "<class 'dict'>\n",
      "printing Employee data .... \n",
      "Name : Dev\n",
      "Age : 20\n",
      "Salary : 45000\n",
      "Company : WIPRO\n"
     ]
    }
   ],
   "source": [
    "Employee = {\"Name\": \"Dev\", \"Age\": 20, \"salary\":45000,\"Company\":\"WIPRO\"}      \n",
    "print(type(Employee))      \n",
    "print(\"printing Employee data .... \")      \n",
    "print(\"Name : %s\" %Employee[\"Name\"])      \n",
    "print(\"Age : %d\" %Employee[\"Age\"])      \n",
    "print(\"Salary : %d\" %Employee[\"salary\"])      \n",
    "print(\"Company : %s\" %Employee[\"Company\"])  "
   ]
  },
  {
   "cell_type": "code",
   "execution_count": 49,
   "id": "48eb02cf",
   "metadata": {},
   "outputs": [
    {
     "name": "stdout",
     "output_type": "stream",
     "text": [
      "<class 'dict'>\n",
      "printing Employee data .... \n",
      "{'Name': 'Dev', 'Age': 20, 'salary': 45000, 'Company': 'WIPRO'}\n",
      "Enter the details of the new employee....\n",
      "Name: uzzal\n",
      "Age: 25\n",
      "Salary: 100000000\n",
      "Company:BD\n",
      "printing the new data\n",
      "{'Name': 'uzzal', 'Age': 25, 'salary': 100000000, 'Company': 'BD'}\n"
     ]
    }
   ],
   "source": [
    "Employee = {\"Name\": \"Dev\", \"Age\": 20, \"salary\":45000,\"Company\":\"WIPRO\"}         \n",
    "print(type(Employee))        \n",
    "print(\"printing Employee data .... \")        \n",
    "print(Employee)        \n",
    "print(\"Enter the details of the new employee....\");        \n",
    "Employee[\"Name\"] = input(\"Name: \");        \n",
    "Employee[\"Age\"] = int(input(\"Age: \"));        \n",
    "Employee[\"salary\"] = int(input(\"Salary: \"));        \n",
    "Employee[\"Company\"] = input(\"Company:\");        \n",
    "print(\"printing the new data\");        \n",
    "print(Employee)     "
   ]
  },
  {
   "cell_type": "code",
   "execution_count": null,
   "id": "1f2a9759",
   "metadata": {},
   "outputs": [],
   "source": []
  },
  {
   "cell_type": "code",
   "execution_count": null,
   "id": "5dca5d16",
   "metadata": {},
   "outputs": [],
   "source": []
  },
  {
   "cell_type": "markdown",
   "id": "32f87493",
   "metadata": {},
   "source": [
    "# dict constructor"
   ]
  },
  {
   "cell_type": "code",
   "execution_count": null,
   "id": "d9f26533",
   "metadata": {},
   "outputs": [],
   "source": []
  },
  {
   "cell_type": "code",
   "execution_count": 40,
   "id": "d0103073",
   "metadata": {},
   "outputs": [
    {
     "data": {
      "text/plain": [
       "{'Shuvo': 15, 'Tuhin': 13, 'Tanvir': 14, 'Dipu': 13, 'Siyam': 14}"
      ]
     },
     "execution_count": 40,
     "metadata": {},
     "output_type": "execute_result"
    }
   ],
   "source": [
    "friends = dict(Shuvo = 15, Tuhin = 13, Tanvir = 14, Dipu = 13, Siyam = 14)\n",
    "friends"
   ]
  },
  {
   "cell_type": "code",
   "execution_count": 41,
   "id": "10468e56",
   "metadata": {},
   "outputs": [
    {
     "ename": "SyntaxError",
     "evalue": "invalid syntax (Temp/ipykernel_7568/2591374361.py, line 1)",
     "output_type": "error",
     "traceback": [
      "\u001b[1;36m  File \u001b[1;32m\"C:\\Users\\WIN\\AppData\\Local\\Temp/ipykernel_7568/2591374361.py\"\u001b[1;36m, line \u001b[1;32m1\u001b[0m\n\u001b[1;33m    a = dict('name' : 'Uzza Kumar Ratul', 'nickname' : 'Ratul', 'email' : 'uzzalkumar210@gmail.com', 'phone' : '0171178265')\u001b[0m\n\u001b[1;37m                    ^\u001b[0m\n\u001b[1;31mSyntaxError\u001b[0m\u001b[1;31m:\u001b[0m invalid syntax\n"
     ]
    }
   ],
   "source": [
    "a = dict('name' : 'Uzza Kumar Ratul', 'nickname' : 'Ratul', 'email' : 'uzzalkumar210@gmail.com', 'phone' : '0171178265')\n",
    "a"
   ]
  },
  {
   "cell_type": "code",
   "execution_count": 42,
   "id": "6f789426",
   "metadata": {},
   "outputs": [
    {
     "name": "stdout",
     "output_type": "stream",
     "text": [
      "Age of  Shuvo is:  15\n",
      "Age of  Tuhin is:  13\n",
      "Age of  Tanvir is:  14\n",
      "Age of  Dipu is:  13\n",
      "Age of  Siyam is:  14\n"
     ]
    }
   ],
   "source": [
    "friends = {'Shuvo':15, 'Tuhin':13, 'Tanvir':14, 'Dipu' :13 , 'Siyam':14 }\n",
    "for key in friends:\n",
    "    print ('Age of ', key, 'is: ', friends[key])"
   ]
  },
  {
   "cell_type": "code",
   "execution_count": 43,
   "id": "0f902049",
   "metadata": {},
   "outputs": [
    {
     "name": "stdout",
     "output_type": "stream",
     "text": [
      "Age of  Shuvo   is: 15\n",
      "Age of  Tuhin  is: 13\n",
      "Age of  Tanvir  is: 14\n",
      "Age of  Dipu  is: 13\n",
      "Age of  Siyam  is: 14\n"
     ]
    }
   ],
   "source": [
    "friends = { 'Shuvo ':15, 'Tuhin':13, 'Tanvir':14, 'Dipu' :13 , 'Siyam':14 }\n",
    "for k,v in friends .items():\n",
    "    print ('Age of ', k, ' is:', v)\n"
   ]
  },
  {
   "cell_type": "markdown",
   "id": "adc25f94",
   "metadata": {},
   "source": [
    "# Update"
   ]
  },
  {
   "cell_type": "code",
   "execution_count": 15,
   "id": "dfa61ca6",
   "metadata": {},
   "outputs": [
    {
     "data": {
      "text/plain": [
       "{'name': 'Ratul kumar Uzzal',\n",
       " 'nickname': 'Ratul',\n",
       " 'email': 'uzzalkumar210@gmail.com',\n",
       " 'phone': '0171178265'}"
      ]
     },
     "execution_count": 15,
     "metadata": {},
     "output_type": "execute_result"
    }
   ],
   "source": [
    "a['name']='Ratul kumar Uzzal'  #### update data to dict\n",
    "a"
   ]
  },
  {
   "cell_type": "code",
   "execution_count": 18,
   "id": "955922b5",
   "metadata": {},
   "outputs": [],
   "source": [
    "b = {'homedivision' : 'khulna', 'fav_poet' : 'Sukanto'}"
   ]
  },
  {
   "cell_type": "code",
   "execution_count": 19,
   "id": "fdcdb847",
   "metadata": {},
   "outputs": [
    {
     "data": {
      "text/plain": [
       "{'name': 'Ratul kumar Uzzal',\n",
       " 'nickname': 'Ratul',\n",
       " 'email': 'uzzalkumar210@gmail.com',\n",
       " 'phone': '0171178265',\n",
       " 'hometown': 'Jhenaidah',\n",
       " 'homedivision': 'khulna',\n",
       " 'fav_poet': 'Sukanto'}"
      ]
     },
     "execution_count": 19,
     "metadata": {},
     "output_type": "execute_result"
    }
   ],
   "source": [
    "a.update(b)\n",
    "a"
   ]
  },
  {
   "cell_type": "code",
   "execution_count": 1,
   "id": "3f3e68d6",
   "metadata": {},
   "outputs": [
    {
     "name": "stdout",
     "output_type": "stream",
     "text": [
      "dict_keys(['brand', 'model', 'year'])\n",
      "dict_keys(['brand', 'model', 'year', 'color'])\n"
     ]
    }
   ],
   "source": [
    "car = {\n",
    "\"brand\": \"Ford\",\n",
    "\"model\": \"Mustang\",\n",
    "\"year\": 1964\n",
    "}\n",
    "\n",
    "x = car.keys()\n",
    "\n",
    "print(x) #before the change\n",
    "\n",
    "car[\"color\"] = \"white\"\n",
    "\n",
    "print(x) #after the change\n"
   ]
  },
  {
   "cell_type": "code",
   "execution_count": 2,
   "id": "5f459436",
   "metadata": {},
   "outputs": [
    {
     "name": "stdout",
     "output_type": "stream",
     "text": [
      "dict_values(['Ford', 'Mustang', 1964])\n",
      "dict_values(['Ford', 'Mustang', 2020])\n"
     ]
    }
   ],
   "source": [
    "car = {\n",
    "\"brand\": \"Ford\",\n",
    "\"model\": \"Mustang\",\n",
    "\"year\": 1964\n",
    "}\n",
    "\n",
    "x = car.values()\n",
    "\n",
    "print(x) #before the change\n",
    "\n",
    "car[\"year\"] = 2020\n",
    "\n",
    "print(x) #after the change"
   ]
  },
  {
   "cell_type": "code",
   "execution_count": 3,
   "id": "263a2223",
   "metadata": {},
   "outputs": [
    {
     "name": "stdout",
     "output_type": "stream",
     "text": [
      "dict_values(['Ford', 'Mustang', 1964])\n",
      "dict_values(['Ford', 'Mustang', 1964, 'red'])\n"
     ]
    }
   ],
   "source": [
    "car = {\n",
    "\"brand\": \"Ford\",\n",
    "\"model\": \"Mustang\",\n",
    "\"year\": 1964\n",
    "}\n",
    "\n",
    "x = car.values()\n",
    "\n",
    "print(x) #before the change\n",
    "\n",
    "car[\"color\"] = \"red\"\n",
    "\n",
    "print(x) #after the change\n"
   ]
  },
  {
   "cell_type": "code",
   "execution_count": 6,
   "id": "4b3e2f83",
   "metadata": {},
   "outputs": [],
   "source": [
    "thisdict = {\n",
    "  \"brand\": \"Ford\",\n",
    "  \"model\": \"Mustang\",\n",
    "  \"year\": 1964\n",
    "}\n",
    "thisdict.update({\"year\": 2020})"
   ]
  },
  {
   "cell_type": "code",
   "execution_count": 7,
   "id": "6011b685",
   "metadata": {},
   "outputs": [
    {
     "data": {
      "text/plain": [
       "{'brand': 'Ford', 'model': 'Mustang', 'year': 2020}"
      ]
     },
     "execution_count": 7,
     "metadata": {},
     "output_type": "execute_result"
    }
   ],
   "source": [
    "thisdict"
   ]
  },
  {
   "cell_type": "code",
   "execution_count": null,
   "id": "8cb684c7",
   "metadata": {},
   "outputs": [],
   "source": []
  },
  {
   "cell_type": "code",
   "execution_count": null,
   "id": "a99d557c",
   "metadata": {},
   "outputs": [],
   "source": []
  },
  {
   "cell_type": "code",
   "execution_count": null,
   "id": "89bcd38e",
   "metadata": {},
   "outputs": [],
   "source": []
  },
  {
   "cell_type": "markdown",
   "id": "8afdf8aa",
   "metadata": {},
   "source": [
    "# Add item to dict"
   ]
  },
  {
   "cell_type": "code",
   "execution_count": null,
   "id": "bcd9b434",
   "metadata": {},
   "outputs": [],
   "source": []
  },
  {
   "cell_type": "code",
   "execution_count": 16,
   "id": "105cc352",
   "metadata": {},
   "outputs": [
    {
     "data": {
      "text/plain": [
       "{'name': 'Ratul kumar Uzzal',\n",
       " 'nickname': 'Ratul',\n",
       " 'email': 'uzzalkumar210@gmail.com',\n",
       " 'phone': '0171178265',\n",
       " 'hometown': 'Jhenaidah'}"
      ]
     },
     "execution_count": 16,
     "metadata": {},
     "output_type": "execute_result"
    }
   ],
   "source": [
    "a['hometown']='Jhenaidah' ### to add new item in dict by adding key value pair\n",
    "\n",
    "a"
   ]
  },
  {
   "cell_type": "code",
   "execution_count": 8,
   "id": "0059cc27",
   "metadata": {},
   "outputs": [
    {
     "name": "stdout",
     "output_type": "stream",
     "text": [
      "{'brand': 'Ford', 'model': 'Mustang', 'year': 1964, 'color': 'red'}\n"
     ]
    }
   ],
   "source": [
    "thisdict = {\n",
    "  \"brand\": \"Ford\",\n",
    "  \"model\": \"Mustang\",\n",
    "  \"year\": 1964\n",
    "}\n",
    "thisdict[\"color\"] = \"red\"\n",
    "print(thisdict)"
   ]
  },
  {
   "cell_type": "code",
   "execution_count": 48,
   "id": "5ffde82a",
   "metadata": {},
   "outputs": [
    {
     "name": "stdout",
     "output_type": "stream",
     "text": [
      "Empty Dictionary: \n",
      "{}\n",
      "\n",
      "Dictionary after adding 3 elements: \n",
      "{0: 'Peter', 2: 'Joseph', 3: 'Ricky'}\n",
      "\n",
      "Dictionary after adding 3 elements: \n",
      "{0: 'Peter', 2: 'Joseph', 3: 'Ricky', 'Emp_ages': (20, 33, 24)}\n",
      "\n",
      "Updated key value: \n",
      "{0: 'Peter', 2: 'Joseph', 3: 'JavaTpoint', 'Emp_ages': (20, 33, 24)}\n"
     ]
    }
   ],
   "source": [
    "# Creating an empty Dictionary       \n",
    "Dict = {}       \n",
    "print(\"Empty Dictionary: \")       \n",
    "print(Dict)       \n",
    "        \n",
    "# Adding elements to dictionary one at a time       \n",
    "Dict[0] = 'Peter'      \n",
    "Dict[2] = 'Joseph'      \n",
    "Dict[3] = 'Ricky'      \n",
    "print(\"\\nDictionary after adding 3 elements: \")       \n",
    "print(Dict)       \n",
    "        \n",
    "# Adding set of values        \n",
    "# with a single Key       \n",
    "# The Emp_ages doesn't exist to dictionary      \n",
    "Dict['Emp_ages'] = 20, 33, 24      \n",
    "print(\"\\nDictionary after adding 3 elements: \")       \n",
    "print(Dict)       \n",
    "  \n",
    "# Updating existing Key's Value       \n",
    "Dict[3] = 'JavaTpoint'      \n",
    "print(\"\\nUpdated key value: \")       \n",
    "print(Dict)            "
   ]
  },
  {
   "cell_type": "code",
   "execution_count": 73,
   "id": "c992d270",
   "metadata": {},
   "outputs": [
    {
     "name": "stdout",
     "output_type": "stream",
     "text": [
      "Empty Dictionary: \n",
      "{}\n",
      "\n",
      "Dictionary after adding 3 elements: \n",
      "{0: 'uzzal', 2: 'kumar', 3: 1}\n",
      "\n",
      "Dictionary after adding 3 elements: \n",
      "{0: 'uzzal', 2: 'kumar', 3: 1, 'Value_set': (2, 3, 4)}\n",
      "\n",
      "Updated key value: \n",
      "{0: 'uzzal', 2: 'Welcome', 3: 1, 'Value_set': (2, 3, 4)}\n",
      "\n",
      "Adding a Nested Key: \n",
      "{0: 'uzzal', 2: 'Welcome', 3: 1, 'Value_set': (2, 3, 4), 5: {'Nested': {'1': 'Life', '2': 'uzzal'}}}\n"
     ]
    }
   ],
   "source": [
    "# Creating an empty Dictionary\n",
    "Dict = {}\n",
    "print(\"Empty Dictionary: \")\n",
    "print(Dict)\n",
    "\n",
    "# Adding elements one at a time\n",
    "Dict[0] = 'uzzal'\n",
    "Dict[2] = 'kumar'\n",
    "Dict[3] = 1\n",
    "print(\"\\nDictionary after adding 3 elements: \")\n",
    "print(Dict)\n",
    "\n",
    "# Adding set of values\n",
    "# to a single Key\n",
    "Dict['Value_set'] = 2, 3, 4\n",
    "print(\"\\nDictionary after adding 3 elements: \")\n",
    "print(Dict)\n",
    "\n",
    "# Updating existing Key's Value\n",
    "Dict[2] = 'Welcome'\n",
    "print(\"\\nUpdated key value: \")\n",
    "print(Dict)\n",
    "\n",
    "# Adding Nested Key value to Dictionary\n",
    "Dict[5] = {'Nested': {'1': 'Life', '2': 'uzzal'}}\n",
    "print(\"\\nAdding a Nested Key: \")\n",
    "print(Dict)\n"
   ]
  },
  {
   "cell_type": "markdown",
   "id": "756dee19",
   "metadata": {},
   "source": [
    "# del()"
   ]
  },
  {
   "cell_type": "code",
   "execution_count": 20,
   "id": "7b712d8d",
   "metadata": {},
   "outputs": [
    {
     "data": {
      "text/plain": [
       "{'name': 'Ratul kumar Uzzal',\n",
       " 'nickname': 'Ratul',\n",
       " 'email': 'uzzalkumar210@gmail.com',\n",
       " 'phone': '0171178265',\n",
       " 'hometown': 'Jhenaidah',\n",
       " 'homedivision': 'khulna',\n",
       " 'fav_poet': 'Sukanto'}"
      ]
     },
     "execution_count": 20,
     "metadata": {},
     "output_type": "execute_result"
    }
   ],
   "source": [
    "a"
   ]
  },
  {
   "cell_type": "code",
   "execution_count": 21,
   "id": "b5962e32",
   "metadata": {},
   "outputs": [],
   "source": [
    "del a['fav_poet']"
   ]
  },
  {
   "cell_type": "code",
   "execution_count": 22,
   "id": "61186e9c",
   "metadata": {},
   "outputs": [
    {
     "data": {
      "text/plain": [
       "{'name': 'Ratul kumar Uzzal',\n",
       " 'nickname': 'Ratul',\n",
       " 'email': 'uzzalkumar210@gmail.com',\n",
       " 'phone': '0171178265',\n",
       " 'hometown': 'Jhenaidah',\n",
       " 'homedivision': 'khulna'}"
      ]
     },
     "execution_count": 22,
     "metadata": {},
     "output_type": "execute_result"
    }
   ],
   "source": [
    "a"
   ]
  },
  {
   "cell_type": "code",
   "execution_count": 23,
   "id": "61772d0e",
   "metadata": {},
   "outputs": [],
   "source": [
    "del a"
   ]
  },
  {
   "cell_type": "code",
   "execution_count": 24,
   "id": "30b44049",
   "metadata": {},
   "outputs": [
    {
     "ename": "NameError",
     "evalue": "name 'a' is not defined",
     "output_type": "error",
     "traceback": [
      "\u001b[1;31m---------------------------------------------------------------------------\u001b[0m",
      "\u001b[1;31mNameError\u001b[0m                                 Traceback (most recent call last)",
      "\u001b[1;32m~\\AppData\\Local\\Temp/ipykernel_7568/2167009006.py\u001b[0m in \u001b[0;36m<module>\u001b[1;34m\u001b[0m\n\u001b[1;32m----> 1\u001b[1;33m \u001b[0ma\u001b[0m\u001b[1;33m\u001b[0m\u001b[1;33m\u001b[0m\u001b[0m\n\u001b[0m",
      "\u001b[1;31mNameError\u001b[0m: name 'a' is not defined"
     ]
    }
   ],
   "source": [
    "a"
   ]
  },
  {
   "cell_type": "code",
   "execution_count": 12,
   "id": "98d83cd3",
   "metadata": {},
   "outputs": [
    {
     "name": "stdout",
     "output_type": "stream",
     "text": [
      "{'brand': 'Ford', 'year': 1964}\n"
     ]
    }
   ],
   "source": [
    "thisdict = {\n",
    "  \"brand\": \"Ford\",\n",
    "  \"model\": \"Mustang\",\n",
    "  \"year\": 1964\n",
    "}\n",
    "del thisdict[\"model\"]\n",
    "print(thisdict)"
   ]
  },
  {
   "cell_type": "code",
   "execution_count": 13,
   "id": "c189e64b",
   "metadata": {},
   "outputs": [
    {
     "ename": "NameError",
     "evalue": "name 'thisdict' is not defined",
     "output_type": "error",
     "traceback": [
      "\u001b[1;31m---------------------------------------------------------------------------\u001b[0m",
      "\u001b[1;31mNameError\u001b[0m                                 Traceback (most recent call last)",
      "\u001b[1;32m~\\AppData\\Local\\Temp/ipykernel_9612/2881974206.py\u001b[0m in \u001b[0;36m<module>\u001b[1;34m\u001b[0m\n\u001b[0;32m      7\u001b[0m }\n\u001b[0;32m      8\u001b[0m \u001b[1;32mdel\u001b[0m \u001b[0mthisdict\u001b[0m\u001b[1;33m\u001b[0m\u001b[1;33m\u001b[0m\u001b[0m\n\u001b[1;32m----> 9\u001b[1;33m \u001b[0mprint\u001b[0m\u001b[1;33m(\u001b[0m\u001b[0mthisdict\u001b[0m\u001b[1;33m)\u001b[0m \u001b[1;31m#this will cause an error because \"thisdict\" no longer exists.\u001b[0m\u001b[1;33m\u001b[0m\u001b[1;33m\u001b[0m\u001b[0m\n\u001b[0m",
      "\u001b[1;31mNameError\u001b[0m: name 'thisdict' is not defined"
     ]
    }
   ],
   "source": [
    "#The del keyword can also delete the dictionary completely:\n",
    "\n",
    "thisdict = {\n",
    "  \"brand\": \"Ford\",\n",
    "  \"model\": \"Mustang\",\n",
    "  \"year\": 1964\n",
    "}\n",
    "del thisdict\n",
    "print(thisdict) #this will cause an error because \"thisdict\" no longer exists.\n"
   ]
  },
  {
   "cell_type": "code",
   "execution_count": 50,
   "id": "fe3e37e7",
   "metadata": {},
   "outputs": [
    {
     "name": "stdout",
     "output_type": "stream",
     "text": [
      "<class 'dict'>\n",
      "printing Employee data .... \n",
      "{'Name': 'David', 'Age': 30, 'salary': 55000, 'Company': 'WIPRO'}\n",
      "Deleting some of the employee data\n",
      "printing the modified information \n",
      "{'Age': 30, 'salary': 55000}\n",
      "Deleting the dictionary: Employee\n",
      "Lets try to print it again \n"
     ]
    },
    {
     "ename": "NameError",
     "evalue": "name 'Employee' is not defined",
     "output_type": "error",
     "traceback": [
      "\u001b[1;31m---------------------------------------------------------------------------\u001b[0m",
      "\u001b[1;31mNameError\u001b[0m                                 Traceback (most recent call last)",
      "\u001b[1;32m~\\AppData\\Local\\Temp/ipykernel_9612/878076758.py\u001b[0m in \u001b[0;36m<module>\u001b[1;34m\u001b[0m\n\u001b[0;32m     11\u001b[0m \u001b[1;32mdel\u001b[0m \u001b[0mEmployee\u001b[0m\u001b[1;33m\u001b[0m\u001b[1;33m\u001b[0m\u001b[0m\n\u001b[0;32m     12\u001b[0m \u001b[0mprint\u001b[0m\u001b[1;33m(\u001b[0m\u001b[1;34m\"Lets try to print it again \"\u001b[0m\u001b[1;33m)\u001b[0m\u001b[1;33m;\u001b[0m\u001b[1;33m\u001b[0m\u001b[1;33m\u001b[0m\u001b[0m\n\u001b[1;32m---> 13\u001b[1;33m \u001b[0mprint\u001b[0m\u001b[1;33m(\u001b[0m\u001b[0mEmployee\u001b[0m\u001b[1;33m)\u001b[0m\u001b[1;33m\u001b[0m\u001b[1;33m\u001b[0m\u001b[0m\n\u001b[0m",
      "\u001b[1;31mNameError\u001b[0m: name 'Employee' is not defined"
     ]
    }
   ],
   "source": [
    "Employee = {\"Name\": \"David\", \"Age\": 30, \"salary\":55000,\"Company\":\"WIPRO\"}         \n",
    "print(type(Employee))        \n",
    "print(\"printing Employee data .... \")        \n",
    "print(Employee)        \n",
    "print(\"Deleting some of the employee data\")         \n",
    "del Employee[\"Name\"]        \n",
    "del Employee[\"Company\"]        \n",
    "print(\"printing the modified information \")        \n",
    "print(Employee)        \n",
    "print(\"Deleting the dictionary: Employee\");        \n",
    "del Employee        \n",
    "print(\"Lets try to print it again \");        \n",
    "print(Employee)       "
   ]
  },
  {
   "cell_type": "markdown",
   "id": "d3ed0442",
   "metadata": {},
   "source": [
    "# copy()\n",
    "You cannot copy a dictionary simply by typing dict2 = dict1, because: dict2 will only be a reference to dict1, and changes made in dict1 will automatically also be made in dict2."
   ]
  },
  {
   "cell_type": "code",
   "execution_count": 25,
   "id": "04dc2cf5",
   "metadata": {},
   "outputs": [],
   "source": [
    "dict1={'name': 'Ratul kumar Uzzal',\n",
    " 'nickname': 'Ratul',\n",
    " 'email': 'uzzalkumar210@gmail.com',\n",
    " 'phone': '0171178265',\n",
    " 'hometown': 'Jhenaidah',\n",
    " 'homedivision': 'khulna'}"
   ]
  },
  {
   "cell_type": "code",
   "execution_count": 26,
   "id": "5ca08345",
   "metadata": {},
   "outputs": [],
   "source": [
    "dict2=dict1"
   ]
  },
  {
   "cell_type": "code",
   "execution_count": 27,
   "id": "54ec969f",
   "metadata": {},
   "outputs": [
    {
     "data": {
      "text/plain": [
       "{'name': 'Ratul kumar Uzzal',\n",
       " 'nickname': 'Ratul',\n",
       " 'email': 'uzzalkumar210@gmail.com',\n",
       " 'phone': '0171178265',\n",
       " 'hometown': 'Jhenaidah',\n",
       " 'homedivision': 'khulna'}"
      ]
     },
     "execution_count": 27,
     "metadata": {},
     "output_type": "execute_result"
    }
   ],
   "source": [
    "dict2"
   ]
  },
  {
   "cell_type": "code",
   "execution_count": 28,
   "id": "77865f1e",
   "metadata": {},
   "outputs": [
    {
     "data": {
      "text/plain": [
       "{'name': 'Ratul kumar Uzzal',\n",
       " 'nickname': 'Ratul',\n",
       " 'email': 'uzzalkumar210@gmail.com',\n",
       " 'phone': '0171178265',\n",
       " 'hometown': 'Jhenaidah',\n",
       " 'homedivision': 'khulna',\n",
       " 'Fav_genre': 'Thriller'}"
      ]
     },
     "execution_count": 28,
     "metadata": {},
     "output_type": "execute_result"
    }
   ],
   "source": [
    "dict1['Fav_genre']='Thriller'\n",
    "dict1"
   ]
  },
  {
   "cell_type": "code",
   "execution_count": 29,
   "id": "28713de1",
   "metadata": {},
   "outputs": [
    {
     "data": {
      "text/plain": [
       "{'name': 'Ratul kumar Uzzal',\n",
       " 'nickname': 'Ratul',\n",
       " 'email': 'uzzalkumar210@gmail.com',\n",
       " 'phone': '0171178265',\n",
       " 'hometown': 'Jhenaidah',\n",
       " 'homedivision': 'khulna',\n",
       " 'Fav_genre': 'Thriller'}"
      ]
     },
     "execution_count": 29,
     "metadata": {},
     "output_type": "execute_result"
    }
   ],
   "source": [
    "dict2"
   ]
  },
  {
   "cell_type": "code",
   "execution_count": 25,
   "id": "3cc03e91",
   "metadata": {},
   "outputs": [],
   "source": [
    "a={'name': 'Ratul kumar Uzzal',\n",
    " 'nickname': 'Ratul',\n",
    " 'email': 'uzzalkumar210@gmail.com',\n",
    " 'phone': '0171178265',\n",
    " 'hometown': 'Jhenaidah',\n",
    " 'homedivision': 'khulna'}"
   ]
  },
  {
   "cell_type": "code",
   "execution_count": 26,
   "id": "b8a15203",
   "metadata": {},
   "outputs": [
    {
     "data": {
      "text/plain": [
       "{'name': 'Ratul kumar Uzzal',\n",
       " 'nickname': 'Ratul',\n",
       " 'email': 'uzzalkumar210@gmail.com',\n",
       " 'phone': '0171178265',\n",
       " 'hometown': 'Jhenaidah',\n",
       " 'homedivision': 'khulna'}"
      ]
     },
     "execution_count": 26,
     "metadata": {},
     "output_type": "execute_result"
    }
   ],
   "source": [
    "a"
   ]
  },
  {
   "cell_type": "code",
   "execution_count": 27,
   "id": "c65e54c6",
   "metadata": {},
   "outputs": [],
   "source": [
    "b=a.copy()"
   ]
  },
  {
   "cell_type": "code",
   "execution_count": 28,
   "id": "5554778c",
   "metadata": {},
   "outputs": [
    {
     "data": {
      "text/plain": [
       "{'name': 'Ratul kumar Uzzal',\n",
       " 'nickname': 'Ratul',\n",
       " 'email': 'uzzalkumar210@gmail.com',\n",
       " 'phone': '0171178265',\n",
       " 'hometown': 'Jhenaidah',\n",
       " 'homedivision': 'khulna'}"
      ]
     },
     "execution_count": 28,
     "metadata": {},
     "output_type": "execute_result"
    }
   ],
   "source": [
    "b"
   ]
  },
  {
   "cell_type": "code",
   "execution_count": 30,
   "id": "3e46d8a0",
   "metadata": {},
   "outputs": [
    {
     "name": "stdout",
     "output_type": "stream",
     "text": [
      "{'brand': 'Ford', 'model': 'Mustang', 'year': 1964}\n"
     ]
    }
   ],
   "source": [
    "thisdict = {                 #####Make a copy of a dictionary with the dict() function:\n",
    "  \"brand\": \"Ford\",\n",
    "  \"model\": \"Mustang\",\n",
    "  \"year\": 1964\n",
    "}\n",
    "mydict = dict(thisdict)\n",
    "print(mydict)"
   ]
  },
  {
   "cell_type": "code",
   "execution_count": 31,
   "id": "69fecd2d",
   "metadata": {},
   "outputs": [
    {
     "data": {
      "text/plain": [
       "{'brand': 'Ford', 'model': 'Mustang', 'year': 1964}"
      ]
     },
     "execution_count": 31,
     "metadata": {},
     "output_type": "execute_result"
    }
   ],
   "source": [
    "mydict"
   ]
  },
  {
   "cell_type": "markdown",
   "id": "ba8358af",
   "metadata": {},
   "source": [
    "# clear()"
   ]
  },
  {
   "cell_type": "code",
   "execution_count": 29,
   "id": "76f7687a",
   "metadata": {},
   "outputs": [],
   "source": [
    "b.clear()"
   ]
  },
  {
   "cell_type": "code",
   "execution_count": 30,
   "id": "df42e19e",
   "metadata": {},
   "outputs": [
    {
     "data": {
      "text/plain": [
       "{}"
      ]
     },
     "execution_count": 30,
     "metadata": {},
     "output_type": "execute_result"
    }
   ],
   "source": [
    "b"
   ]
  },
  {
   "cell_type": "markdown",
   "id": "77745421",
   "metadata": {},
   "source": [
    "# pop()"
   ]
  },
  {
   "cell_type": "code",
   "execution_count": 9,
   "id": "8586c398",
   "metadata": {},
   "outputs": [
    {
     "name": "stdout",
     "output_type": "stream",
     "text": [
      "{'brand': 'Ford', 'year': 1964}\n"
     ]
    }
   ],
   "source": [
    "####The pop() method removes the item with the specified key name:\n",
    "\n",
    "thisdict = {\n",
    "  \"brand\": \"Ford\",\n",
    "  \"model\": \"Mustang\",\n",
    "  \"year\": 1964\n",
    "}\n",
    "thisdict.pop(\"model\")\n",
    "print(thisdict)"
   ]
  },
  {
   "cell_type": "code",
   "execution_count": 10,
   "id": "87be61a0",
   "metadata": {},
   "outputs": [
    {
     "ename": "TypeError",
     "evalue": "pop expected at least 1 argument, got 0",
     "output_type": "error",
     "traceback": [
      "\u001b[1;31m---------------------------------------------------------------------------\u001b[0m",
      "\u001b[1;31mTypeError\u001b[0m                                 Traceback (most recent call last)",
      "\u001b[1;32m~\\AppData\\Local\\Temp/ipykernel_9612/613005192.py\u001b[0m in \u001b[0;36m<module>\u001b[1;34m\u001b[0m\n\u001b[0;32m      4\u001b[0m   \u001b[1;34m\"year\"\u001b[0m\u001b[1;33m:\u001b[0m \u001b[1;36m1964\u001b[0m\u001b[1;33m\u001b[0m\u001b[1;33m\u001b[0m\u001b[0m\n\u001b[0;32m      5\u001b[0m }\n\u001b[1;32m----> 6\u001b[1;33m \u001b[0mthisdict\u001b[0m\u001b[1;33m.\u001b[0m\u001b[0mpop\u001b[0m\u001b[1;33m(\u001b[0m\u001b[1;33m)\u001b[0m\u001b[1;33m\u001b[0m\u001b[1;33m\u001b[0m\u001b[0m\n\u001b[0m\u001b[0;32m      7\u001b[0m \u001b[0mprint\u001b[0m\u001b[1;33m(\u001b[0m\u001b[0mthisdict\u001b[0m\u001b[1;33m)\u001b[0m\u001b[1;33m\u001b[0m\u001b[1;33m\u001b[0m\u001b[0m\n",
      "\u001b[1;31mTypeError\u001b[0m: pop expected at least 1 argument, got 0"
     ]
    }
   ],
   "source": [
    "thisdict = {\n",
    "  \"brand\": \"Ford\",\n",
    "  \"model\": \"Mustang\",\n",
    "  \"year\": 1964\n",
    "}\n",
    "thisdict.pop()\n",
    "print(thisdict)"
   ]
  },
  {
   "cell_type": "markdown",
   "id": "31d0c97b",
   "metadata": {},
   "source": [
    "# popitem()"
   ]
  },
  {
   "cell_type": "code",
   "execution_count": 11,
   "id": "e3a563da",
   "metadata": {},
   "outputs": [
    {
     "name": "stdout",
     "output_type": "stream",
     "text": [
      "{'brand': 'Ford', 'model': 'Mustang'}\n"
     ]
    }
   ],
   "source": [
    "###The popitem() method removes the last inserted item (in versions before 3.7, a random item is removed instead):\n",
    "\n",
    "thisdict = {\n",
    "  \"brand\": \"Ford\",\n",
    "  \"model\": \"Mustang\",\n",
    "  \"year\": 1964\n",
    "}\n",
    "thisdict.popitem()\n",
    "print(thisdict)"
   ]
  },
  {
   "cell_type": "markdown",
   "id": "77543209",
   "metadata": {},
   "source": [
    "# sorted()\n",
    "Like it does with lists and tuples, the sorted() method returns an ordered series of the dictionary's keys. The ascending sorting has no effect on the original Python dictionary."
   ]
  },
  {
   "cell_type": "code",
   "execution_count": 54,
   "id": "2d94764e",
   "metadata": {},
   "outputs": [
    {
     "data": {
      "text/plain": [
       "[1, 5, 7, 8]"
      ]
     },
     "execution_count": 54,
     "metadata": {},
     "output_type": "execute_result"
    }
   ],
   "source": [
    "dict = {7: \"Ayan\", 5: \"Bunny\", 8: \"Ram\", 1: \"Bheem\"}  \n",
    "sorted(dict)  "
   ]
  },
  {
   "cell_type": "code",
   "execution_count": 55,
   "id": "0aadbc29",
   "metadata": {},
   "outputs": [],
   "source": [
    "a={'name': 'Ratul kumar Uzzal',\n",
    " 'nickname': 'Ratul',\n",
    " 'email': 'uzzalkumar210@gmail.com',\n",
    " 'phone': '0171178265',\n",
    " 'hometown': 'Jhenaidah',\n",
    " 'homedivision': 'khulna'}"
   ]
  },
  {
   "cell_type": "code",
   "execution_count": 56,
   "id": "fd3f79d6",
   "metadata": {},
   "outputs": [
    {
     "data": {
      "text/plain": [
       "['email', 'homedivision', 'hometown', 'name', 'nickname', 'phone']"
      ]
     },
     "execution_count": 56,
     "metadata": {},
     "output_type": "execute_result"
    }
   ],
   "source": [
    "sorted(a)"
   ]
  },
  {
   "cell_type": "markdown",
   "id": "c8335250",
   "metadata": {},
   "source": [
    "# any()\n",
    "Like how it does with lists and tuples, the any() method returns True indeed if one dictionary key does have a Boolean expression that evaluates to True."
   ]
  },
  {
   "cell_type": "code",
   "execution_count": 58,
   "id": "27c0d3ab",
   "metadata": {},
   "outputs": [
    {
     "data": {
      "text/plain": [
       "True"
      ]
     },
     "execution_count": 58,
     "metadata": {},
     "output_type": "execute_result"
    }
   ],
   "source": [
    "dict = {1: \"Ayan\", 2: \"Bunny\", 3: \"Ram\", 4: \"Bheem\"}  \n",
    "any({'':'','':'','3':''})  "
   ]
  },
  {
   "cell_type": "code",
   "execution_count": 59,
   "id": "c1a7436b",
   "metadata": {},
   "outputs": [
    {
     "data": {
      "text/plain": [
       "False"
      ]
     },
     "execution_count": 59,
     "metadata": {},
     "output_type": "execute_result"
    }
   ],
   "source": [
    "dict = {1: \"Ayan\", 2: \"Bunny\", 3: \"Ram\", 4: \"Bheem\"}  \n",
    "any({'':'','':'','':''})  "
   ]
  },
  {
   "cell_type": "markdown",
   "id": "5724e5c3",
   "metadata": {},
   "source": [
    "# all()\n",
    "Unlike in any() method, all() only returns True if each of the dictionary's keys contain a True Boolean value."
   ]
  },
  {
   "cell_type": "code",
   "execution_count": 60,
   "id": "38af4ac1",
   "metadata": {},
   "outputs": [
    {
     "data": {
      "text/plain": [
       "False"
      ]
     },
     "execution_count": 60,
     "metadata": {},
     "output_type": "execute_result"
    }
   ],
   "source": [
    "dict = {1: \"Ayan\", 2: \"Bunny\", 3: \"Ram\", 4: \"Bheem\"}  \n",
    "all({1:'',2:'','':''})  "
   ]
  },
  {
   "cell_type": "code",
   "execution_count": 62,
   "id": "200bd76d",
   "metadata": {},
   "outputs": [
    {
     "data": {
      "text/plain": [
       "False"
      ]
     },
     "execution_count": 62,
     "metadata": {},
     "output_type": "execute_result"
    }
   ],
   "source": [
    "dict = {1: \"Ayan\", 2: \"Bunny\", 3: \"Ram\", 4: \"Bheem\"}  \n",
    "all({'':'','':'','':''})  "
   ]
  },
  {
   "cell_type": "code",
   "execution_count": 63,
   "id": "344d4f03",
   "metadata": {},
   "outputs": [
    {
     "data": {
      "text/plain": [
       "True"
      ]
     },
     "execution_count": 63,
     "metadata": {},
     "output_type": "execute_result"
    }
   ],
   "source": [
    "dict = {1: \"Ayan\", 2: \"Bunny\", 3: \"Ram\", 4: \"Bheem\"}  \n",
    "all({1:'',2:'',4:''})  "
   ]
  },
  {
   "cell_type": "code",
   "execution_count": null,
   "id": "cc31bcd3",
   "metadata": {},
   "outputs": [],
   "source": []
  },
  {
   "cell_type": "code",
   "execution_count": null,
   "id": "39d93b98",
   "metadata": {},
   "outputs": [],
   "source": []
  },
  {
   "cell_type": "code",
   "execution_count": null,
   "id": "82c09f23",
   "metadata": {},
   "outputs": [],
   "source": []
  },
  {
   "cell_type": "markdown",
   "id": "c68e9b95",
   "metadata": {},
   "source": [
    "# get(key, default=None) #\n",
    "এই ফাংশনটা মূলত স্ট্রিংয়ে কোন কী সার্চ করে সেটার ভ্যালু পাবার জন্য ব্যবহার করা হয়। যদি কী ডিকশনারিতে না থাকে তবে একটা ডিফল্ট ভ্যালু রিটার্ন করবে। প্রাথমিকভাবে এই ভ্যালুটা হল None মানে কিছুই না, তবে আমরা চাইলে এটাকে পরিবর্তন করে দিতে পারি।"
   ]
  },
  {
   "cell_type": "code",
   "execution_count": 31,
   "id": "2305be36",
   "metadata": {},
   "outputs": [
    {
     "data": {
      "text/plain": [
       "{'name': 'Ratul kumar Uzzal',\n",
       " 'nickname': 'Ratul',\n",
       " 'email': 'uzzalkumar210@gmail.com',\n",
       " 'phone': '0171178265',\n",
       " 'hometown': 'Jhenaidah',\n",
       " 'homedivision': 'khulna'}"
      ]
     },
     "execution_count": 31,
     "metadata": {},
     "output_type": "execute_result"
    }
   ],
   "source": [
    "a"
   ]
  },
  {
   "cell_type": "code",
   "execution_count": 32,
   "id": "ec1c2372",
   "metadata": {},
   "outputs": [
    {
     "data": {
      "text/plain": [
       "'Ratul kumar Uzzal'"
      ]
     },
     "execution_count": 32,
     "metadata": {},
     "output_type": "execute_result"
    }
   ],
   "source": [
    "a.get('name')"
   ]
  },
  {
   "cell_type": "code",
   "execution_count": 33,
   "id": "34e8d57c",
   "metadata": {},
   "outputs": [],
   "source": [
    "a.get('home')"
   ]
  },
  {
   "cell_type": "code",
   "execution_count": 34,
   "id": "022d853b",
   "metadata": {},
   "outputs": [
    {
     "data": {
      "text/plain": [
       "True"
      ]
     },
     "execution_count": 34,
     "metadata": {},
     "output_type": "execute_result"
    }
   ],
   "source": [
    "'name' in a"
   ]
  },
  {
   "cell_type": "code",
   "execution_count": 35,
   "id": "d1a40c9c",
   "metadata": {},
   "outputs": [
    {
     "data": {
      "text/plain": [
       "False"
      ]
     },
     "execution_count": 35,
     "metadata": {},
     "output_type": "execute_result"
    }
   ],
   "source": [
    "'home' in a"
   ]
  },
  {
   "cell_type": "markdown",
   "id": "1d9f4f62",
   "metadata": {},
   "source": [
    "# items() #\n",
    "এই ফাংশনটা একটা ডিকশনারিকে লিস্ট হিসাবে রিটার্ন করে। লিস্টের ভিতর প্রতিটা আইটেম টাপল হিসাবে থাকে। প্রতিটা টাপলের 0 নম্বর ইনডেক্সে থাকে কী আর 1 নম্বর ইনডেক্সে থাকে ভ্যালু।"
   ]
  },
  {
   "cell_type": "code",
   "execution_count": 36,
   "id": "56e5a894",
   "metadata": {},
   "outputs": [
    {
     "data": {
      "text/plain": [
       "dict_items([('name', 'Ratul kumar Uzzal'), ('nickname', 'Ratul'), ('email', 'uzzalkumar210@gmail.com'), ('phone', '0171178265'), ('hometown', 'Jhenaidah'), ('homedivision', 'khulna')])"
      ]
     },
     "execution_count": 36,
     "metadata": {},
     "output_type": "execute_result"
    }
   ],
   "source": [
    "a.items()"
   ]
  },
  {
   "cell_type": "code",
   "execution_count": 4,
   "id": "b04d6548",
   "metadata": {},
   "outputs": [
    {
     "name": "stdout",
     "output_type": "stream",
     "text": [
      "dict_items([('brand', 'Ford'), ('model', 'Mustang'), ('year', 1964)])\n",
      "dict_items([('brand', 'Ford'), ('model', 'Mustang'), ('year', 2020)])\n"
     ]
    }
   ],
   "source": [
    "car = {\n",
    "\"brand\": \"Ford\",\n",
    "\"model\": \"Mustang\",\n",
    "\"year\": 1964\n",
    "}\n",
    "\n",
    "x = car.items()\n",
    "\n",
    "print(x) #before the change\n",
    "\n",
    "car[\"year\"] = 2020\n",
    "\n",
    "print(x) #after the change\n"
   ]
  },
  {
   "cell_type": "code",
   "execution_count": 5,
   "id": "4d015e8b",
   "metadata": {},
   "outputs": [
    {
     "name": "stdout",
     "output_type": "stream",
     "text": [
      "dict_items([('brand', 'Ford'), ('model', 'Mustang'), ('year', 1964)])\n",
      "dict_items([('brand', 'Ford'), ('model', 'Mustang'), ('year', 1964), ('color', 'red')])\n"
     ]
    }
   ],
   "source": [
    "car = {\n",
    "\"brand\": \"Ford\",\n",
    "\"model\": \"Mustang\",\n",
    "\"year\": 1964\n",
    "}\n",
    "\n",
    "x = car.items()\n",
    "\n",
    "print(x) #before the change\n",
    "\n",
    "car[\"color\"] = \"red\"\n",
    "\n",
    "print(x) #after the change"
   ]
  },
  {
   "cell_type": "markdown",
   "id": "a6bbd7e4",
   "metadata": {},
   "source": [
    "# loop"
   ]
  },
  {
   "cell_type": "code",
   "execution_count": 14,
   "id": "941a20d0",
   "metadata": {},
   "outputs": [],
   "source": [
    "thisdict={'name': 'Ratul kumar Uzzal',\n",
    " 'nickname': 'Ratul',\n",
    " 'email': 'uzzalkumar210@gmail.com',\n",
    " 'phone': '0171178265',\n",
    " 'hometown': 'Jhenaidah',\n",
    " 'homedivision': 'khulna'}"
   ]
  },
  {
   "cell_type": "code",
   "execution_count": 15,
   "id": "3e9146e9",
   "metadata": {},
   "outputs": [
    {
     "name": "stdout",
     "output_type": "stream",
     "text": [
      "name\n",
      "nickname\n",
      "email\n",
      "phone\n",
      "hometown\n",
      "homedivision\n"
     ]
    }
   ],
   "source": [
    "#Print all key names in the dictionary, one by one:\n",
    "\n",
    "for x in thisdict:\n",
    "    print(x)"
   ]
  },
  {
   "cell_type": "code",
   "execution_count": 16,
   "id": "5d7e8abe",
   "metadata": {},
   "outputs": [
    {
     "name": "stdout",
     "output_type": "stream",
     "text": [
      "Ratul kumar Uzzal\n",
      "Ratul\n",
      "uzzalkumar210@gmail.com\n",
      "0171178265\n",
      "Jhenaidah\n",
      "khulna\n"
     ]
    }
   ],
   "source": [
    "#Print all values in the dictionary, one by one:\n",
    "\n",
    "for x in thisdict:\n",
    "  print(thisdict[x])"
   ]
  },
  {
   "cell_type": "code",
   "execution_count": 17,
   "id": "9a9790f3",
   "metadata": {},
   "outputs": [
    {
     "name": "stdout",
     "output_type": "stream",
     "text": [
      "Ratul kumar Uzzal\n",
      "Ratul\n",
      "uzzalkumar210@gmail.com\n",
      "0171178265\n",
      "Jhenaidah\n",
      "khulna\n"
     ]
    }
   ],
   "source": [
    "#You can also use the values() method to return values of a dictionary:\n",
    "\n",
    "for x in thisdict.values():\n",
    "  print(x)"
   ]
  },
  {
   "cell_type": "code",
   "execution_count": 18,
   "id": "00ae8b90",
   "metadata": {},
   "outputs": [
    {
     "name": "stdout",
     "output_type": "stream",
     "text": [
      "name\n",
      "nickname\n",
      "email\n",
      "phone\n",
      "hometown\n",
      "homedivision\n"
     ]
    }
   ],
   "source": [
    "#You can use the keys() method to return the keys of a dictionary:\n",
    "\n",
    "for x in thisdict.keys():\n",
    "  print(x)"
   ]
  },
  {
   "cell_type": "code",
   "execution_count": 21,
   "id": "1d7a9feb",
   "metadata": {},
   "outputs": [
    {
     "name": "stdout",
     "output_type": "stream",
     "text": [
      "name : Ratul kumar Uzzal\n",
      "nickname : Ratul\n",
      "email : uzzalkumar210@gmail.com\n",
      "phone : 0171178265\n",
      "hometown : Jhenaidah\n",
      "homedivision : khulna\n"
     ]
    }
   ],
   "source": [
    "###Loop through both keys and values, by using the items() method:\n",
    "\n",
    "for x, y in thisdict.items():\n",
    "  print(x,\":\" ,y)"
   ]
  },
  {
   "cell_type": "code",
   "execution_count": 51,
   "id": "6f3eb94e",
   "metadata": {},
   "outputs": [
    {
     "name": "stdout",
     "output_type": "stream",
     "text": [
      "('Name', 'John')\n",
      "('Age', 29)\n",
      "('salary', 25000)\n",
      "('Company', 'WIPRO')\n"
     ]
    }
   ],
   "source": [
    "#for loop to print the items of the dictionary by using items() method    \n",
    "Employee = {\"Name\": \"John\", \"Age\": 29, \"salary\":25000,\"Company\":\"WIPRO\"}       \n",
    "for x in Employee.items():        \n",
    "    print(x)  "
   ]
  },
  {
   "cell_type": "code",
   "execution_count": 46,
   "id": "5717113f",
   "metadata": {},
   "outputs": [
    {
     "name": "stdout",
     "output_type": "stream",
     "text": [
      "United States\n",
      "Italy\n",
      "----------\n",
      "Washington D.C.\n",
      "Naples\n"
     ]
    }
   ],
   "source": [
    "country_capitals = {\n",
    "  \"United States\": \"Washington D.C.\", \n",
    "  \"Italy\": \"Naples\" \n",
    "}\n",
    "\n",
    "# print dictionary keys one by one\n",
    "for country in country_capitals:\n",
    "    print(country)\n",
    "\n",
    "print(\"----------\")\n",
    "\n",
    "# print dictionary values one by one\n",
    "for country in country_capitals:\n",
    "    capital = country_capitals[country]\n",
    "    print(capital)"
   ]
  },
  {
   "cell_type": "code",
   "execution_count": 53,
   "id": "829f094c",
   "metadata": {},
   "outputs": [
    {
     "name": "stdout",
     "output_type": "stream",
     "text": [
      "Name John\n",
      "Age 29\n",
      "Salary 25000\n",
      "Company WIPRO\n"
     ]
    }
   ],
   "source": [
    "Employee={\"Name\":\"John\",\"Age\":29,\"Salary\":25000,\"Company\":\"WIPRO\",\"Name\":    \n",
    "\"John\"}        \n",
    "for x,y in Employee.items():        \n",
    "        print(x,y)           \n"
   ]
  },
  {
   "cell_type": "code",
   "execution_count": null,
   "id": "5eeb5fc0",
   "metadata": {},
   "outputs": [],
   "source": []
  },
  {
   "cell_type": "markdown",
   "id": "9cb087aa",
   "metadata": {},
   "source": [
    "# Nested Dictionaries\n",
    "A dictionary can contain dictionaries, this is called nested dictionaries."
   ]
  },
  {
   "cell_type": "code",
   "execution_count": 32,
   "id": "f67f28e4",
   "metadata": {},
   "outputs": [],
   "source": [
    "### Create a dictionary that contain three dictionaries:\n",
    "\n",
    "myfamily = {\n",
    "  \"child1\" : {\n",
    "    \"name\" : \"Emil\",\n",
    "    \"year\" : 2004\n",
    "  },\n",
    "  \"child2\" : {\n",
    "    \"name\" : \"Tobias\",\n",
    "    \"year\" : 2007\n",
    "  },\n",
    "  \"child3\" : {\n",
    "    \"name\" : \"Linus\",\n",
    "    \"year\" : 2011\n",
    "  }\n",
    "}"
   ]
  },
  {
   "cell_type": "code",
   "execution_count": 33,
   "id": "a39b3e26",
   "metadata": {},
   "outputs": [
    {
     "data": {
      "text/plain": [
       "{'child1': {'name': 'Emil', 'year': 2004},\n",
       " 'child2': {'name': 'Tobias', 'year': 2007},\n",
       " 'child3': {'name': 'Linus', 'year': 2011}}"
      ]
     },
     "execution_count": 33,
     "metadata": {},
     "output_type": "execute_result"
    }
   ],
   "source": [
    "myfamily"
   ]
  },
  {
   "cell_type": "code",
   "execution_count": 36,
   "id": "f04b21e7",
   "metadata": {},
   "outputs": [
    {
     "name": "stdout",
     "output_type": "stream",
     "text": [
      "{'name': 'Emil', 'year': 2004}\n",
      "Emil\n"
     ]
    }
   ],
   "source": [
    "print(myfamily['child1'])\n",
    "print(myfamily['child1']['name'])"
   ]
  },
  {
   "cell_type": "code",
   "execution_count": 37,
   "id": "3c15f8d7",
   "metadata": {},
   "outputs": [],
   "source": [
    "#####Create three dictionaries, then create one dictionary that will contain the other three dictionaries:\n",
    "\n",
    "child1 = {\n",
    "  \"name\" : \"Emil\",\n",
    "  \"year\" : 2004\n",
    "}\n",
    "child2 = {\n",
    "  \"name\" : \"Tobias\",\n",
    "  \"year\" : 2007\n",
    "}\n",
    "child3 = {\n",
    "  \"name\" : \"Linus\",\n",
    "  \"year\" : 2011\n",
    "}\n",
    "\n",
    "myfamily = {\n",
    "  \"child1\" : child1,\n",
    "  \"child2\" : child2,\n",
    "  \"child3\" : child3\n",
    "}"
   ]
  },
  {
   "cell_type": "code",
   "execution_count": 38,
   "id": "ff964296",
   "metadata": {},
   "outputs": [
    {
     "data": {
      "text/plain": [
       "{'child1': {'name': 'Emil', 'year': 2004},\n",
       " 'child2': {'name': 'Tobias', 'year': 2007},\n",
       " 'child3': {'name': 'Linus', 'year': 2011}}"
      ]
     },
     "execution_count": 38,
     "metadata": {},
     "output_type": "execute_result"
    }
   ],
   "source": [
    "myfamily"
   ]
  },
  {
   "cell_type": "code",
   "execution_count": 72,
   "id": "4e4274a6",
   "metadata": {},
   "outputs": [
    {
     "name": "stdout",
     "output_type": "stream",
     "text": [
      "{1: 'Uzzal', 2: 'Kumar', 3: {'A': 'Welcome', 'B': 'To', 'C': 'Uzzal Kumar Ratul'}}\n"
     ]
    }
   ],
   "source": [
    "# Creating a Nested Dictionary\n",
    "# as shown in the below image\n",
    "Dict = {1: 'Uzzal', 2: 'Kumar',3: {'A': 'Welcome', 'B': 'To', 'C': 'Uzzal Kumar Ratul'}}\n",
    "\n",
    "print(Dict)\n"
   ]
  },
  {
   "cell_type": "code",
   "execution_count": null,
   "id": "cc382280",
   "metadata": {},
   "outputs": [],
   "source": []
  },
  {
   "cell_type": "markdown",
   "id": "f84822b6",
   "metadata": {},
   "source": [
    "# keys()"
   ]
  },
  {
   "cell_type": "code",
   "execution_count": 37,
   "id": "0f99a342",
   "metadata": {},
   "outputs": [
    {
     "data": {
      "text/plain": [
       "dict_keys(['name', 'nickname', 'email', 'phone', 'hometown', 'homedivision'])"
      ]
     },
     "execution_count": 37,
     "metadata": {},
     "output_type": "execute_result"
    }
   ],
   "source": [
    "a.keys()"
   ]
  },
  {
   "cell_type": "markdown",
   "id": "26786273",
   "metadata": {},
   "source": [
    "# values()"
   ]
  },
  {
   "cell_type": "code",
   "execution_count": 38,
   "id": "65e5cd78",
   "metadata": {},
   "outputs": [
    {
     "data": {
      "text/plain": [
       "dict_values(['Ratul kumar Uzzal', 'Ratul', 'uzzalkumar210@gmail.com', '0171178265', 'Jhenaidah', 'khulna'])"
      ]
     },
     "execution_count": 38,
     "metadata": {},
     "output_type": "execute_result"
    }
   ],
   "source": [
    "a.values()"
   ]
  },
  {
   "cell_type": "markdown",
   "id": "3f059096",
   "metadata": {},
   "source": [
    "# Dictionary Methods\n",
    "Python has a set of built-in methods that you can use on dictionaries.\n",
    "\n",
    "Method\tDescription\n",
    "clear()\tRemoves all the elements from the dictionary\n",
    "copy()\tReturns a copy of the dictionary\n",
    "fromkeys()\tReturns a dictionary with the specified keys and value\n",
    "get()\tReturns the value of the specified key\n",
    "items()\tReturns a list containing a tuple for each key value pair\n",
    "keys()\tReturns a list containing the dictionary's keys\n",
    "pop()\tRemoves the element with the specified key\n",
    "popitem()\tRemoves the last inserted key-value pair\n",
    "setdefault()\tReturns the value of the specified key. If the key does not exist: insert the key, with the specified value\n",
    "update()\tUpdates the dictionary with the specified key-value pairs\n",
    "values()\tReturns a list of all the values in the dictionary"
   ]
  },
  {
   "cell_type": "code",
   "execution_count": 74,
   "id": "6a3f106e",
   "metadata": {},
   "outputs": [
    {
     "name": "stdout",
     "output_type": "stream",
     "text": [
      "{1: 'Python', 2: 'Java', 3: 'Ruby', 4: 'Scala'}\n",
      "{}\n",
      "Python\n",
      "dict_items([(1, 'Python'), (2, 'Java'), (3, 'Ruby'), (4, 'Scala')])\n",
      "dict_keys([1, 2, 3, 4])\n",
      "{1: 'Python', 2: 'Java', 3: 'Ruby'}\n",
      "{1: 'Python', 2: 'Java'}\n",
      "{1: 'Python', 2: 'Java', 3: 'Scala'}\n",
      "dict_values(['Python', 'Java', 'Scala'])\n"
     ]
    }
   ],
   "source": [
    "# demo for all dictionary methods\n",
    "dict1 = {1: \"Python\", 2: \"Java\", 3: \"Ruby\", 4: \"Scala\"}\n",
    "\n",
    "# copy() method\n",
    "dict2 = dict1.copy()\n",
    "print(dict2)\n",
    "\n",
    "# clear() method\n",
    "dict1.clear()\n",
    "print(dict1)\n",
    "\n",
    "# get() method\n",
    "print(dict2.get(1))\n",
    "\n",
    "# items() method\n",
    "print(dict2.items())\n",
    "\n",
    "# keys() method\n",
    "print(dict2.keys())\n",
    "\n",
    "# pop() method\n",
    "dict2.pop(4)\n",
    "print(dict2)\n",
    "\n",
    "# popitem() method\n",
    "dict2.popitem()\n",
    "print(dict2)\n",
    "\n",
    "# update() method\n",
    "dict2.update({3: \"Scala\"})\n",
    "print(dict2)\n",
    "\n",
    "# values() method\n",
    "print(dict2.values())\n"
   ]
  },
  {
   "cell_type": "code",
   "execution_count": 39,
   "id": "111e15cf",
   "metadata": {},
   "outputs": [],
   "source": [
    "thisdict={'name': 'Ratul kumar Uzzal',\n",
    " 'nickname': 'Ratul',\n",
    " 'email': 'uzzalkumar210@gmail.com',\n",
    " 'phone': '0171178265',\n",
    " 'hometown': 'Jhenaidah',\n",
    " 'homedivision': 'khulna'}"
   ]
  },
  {
   "cell_type": "code",
   "execution_count": 41,
   "id": "b94c44c9",
   "metadata": {},
   "outputs": [
    {
     "data": {
      "text/plain": [
       "{'e': None, 'm': None, 'a': None, 'i': None, 'l': None}"
      ]
     },
     "execution_count": 41,
     "metadata": {},
     "output_type": "execute_result"
    }
   ],
   "source": [
    "thisdict.fromkeys('email')"
   ]
  },
  {
   "cell_type": "code",
   "execution_count": 42,
   "id": "e35cdabc",
   "metadata": {},
   "outputs": [
    {
     "name": "stdout",
     "output_type": "stream",
     "text": [
      "{'key1': 0, 'key2': 0, 'key3': 0}\n"
     ]
    }
   ],
   "source": [
    "x = ('key1', 'key2', 'key3')\n",
    "y = 0\n",
    "\n",
    "thisdict = dict.fromkeys(x, y)\n",
    "\n",
    "print(thisdict)"
   ]
  },
  {
   "cell_type": "markdown",
   "id": "2621668e",
   "metadata": {},
   "source": [
    "# Syntax\n",
    "dict.fromkeys(keys, value)\n",
    "Parameter Values\n",
    "Parameter\tDescription\n",
    "keys\tRequired. An iterable specifying the keys of the new dictionary\n",
    "value\tOptional. The value for all keys. Default value is None\n"
   ]
  },
  {
   "cell_type": "code",
   "execution_count": 43,
   "id": "acfc5f6f",
   "metadata": {},
   "outputs": [
    {
     "name": "stdout",
     "output_type": "stream",
     "text": [
      "{'key1': None, 'key2': None, 'key3': None}\n"
     ]
    }
   ],
   "source": [
    "x = ('key1', 'key2', 'key3')\n",
    "\n",
    "thisdict = dict.fromkeys(x)\n",
    "\n",
    "print(thisdict)"
   ]
  },
  {
   "cell_type": "markdown",
   "id": "76fb0282",
   "metadata": {},
   "source": [
    "# Dictionary Membership Test\n",
    "We can check whether a key exists in a dictionary using the in operator.\n",
    "\n"
   ]
  },
  {
   "cell_type": "code",
   "execution_count": 45,
   "id": "954dda02",
   "metadata": {},
   "outputs": [
    {
     "name": "stdout",
     "output_type": "stream",
     "text": [
      "True\n",
      "False\n",
      "False\n"
     ]
    }
   ],
   "source": [
    "my_list = {1: \"Hello\", \"Hi\": 25, \"Howdy\": 100}\n",
    "\n",
    "print(1 in my_list) # True\n",
    "\n",
    "# the not in operator checks whether key doesn't exist\n",
    "print(\"Howdy\" not in my_list) # False\n",
    "\n",
    "print(\"Hello\" in my_list) # False"
   ]
  },
  {
   "cell_type": "code",
   "execution_count": null,
   "id": "c86181aa",
   "metadata": {},
   "outputs": [],
   "source": []
  }
 ],
 "metadata": {
  "kernelspec": {
   "display_name": "Python 3 (ipykernel)",
   "language": "python",
   "name": "python3"
  },
  "language_info": {
   "codemirror_mode": {
    "name": "ipython",
    "version": 3
   },
   "file_extension": ".py",
   "mimetype": "text/x-python",
   "name": "python",
   "nbconvert_exporter": "python",
   "pygments_lexer": "ipython3",
   "version": "3.9.7"
  }
 },
 "nbformat": 4,
 "nbformat_minor": 5
}
