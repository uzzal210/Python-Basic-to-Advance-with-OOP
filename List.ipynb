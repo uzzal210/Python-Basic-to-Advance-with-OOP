{
 "cells": [
  {
   "cell_type": "markdown",
   "id": "529e49c3",
   "metadata": {},
   "source": [
    " A list is a collection of different kinds of values or items.\n",
    "Since Python lists are mutable, we can change their elements after forming.\n",
    "A list, a type of sequence data, is used to store the collection of data\n",
    " A list is a collection of items separated by commas and denoted by the symbol [].\n",
    "  Python Lists are just like dynamically sized arrays, declared in other languages (vector in C++ and ArrayList in Java). \n",
    "In simple language, a list is a collection of things, enclosed in [ ] and separated by commas.   \n",
    "    \n",
    "The characteristics of the List are as follows:\n",
    "\n",
    "The lists are in order.\n",
    "The list element can be accessed via the index.\n",
    "The mutable type of List is\n",
    "The rundowns are changeable sorts.\n",
    "The number of various elements can be stored in a list.\n",
    "\n",
    "\n",
    "Python Collections (Arrays)\n",
    "There are four collection data types in the Python programming language:\n",
    "\n",
    "List is a collection which is ordered and changeable. Allows duplicate members.\n",
    "Tuple is a collection which is ordered and unchangeable. Allows duplicate members.\n",
    "Set is a collection which is unordered, unchangeable*, and unindexed. No duplicate members.\n",
    "Dictionary is a collection which is ordered** and changeable. No duplicate members.\n",
    "*Set items are unchangeable, but you can remove and/or add items whenever you like.\n",
    "\n",
    "**As of Python version 3.7, dictionaries are ordered. In Python 3.6 and earlier, dictionaries are unordered."
   ]
  },
  {
   "cell_type": "markdown",
   "id": "fe6a773b",
   "metadata": {},
   "source": [
    "A Python List is a built-in, ordered, mutable collection of elements or items. Each item in a list can be of any data type, including numbers, strings, or other objects like tuples, dictionaries, or even other lists. Lists are versatile and widely used in Python for tasks like data manipulation, organizing, and storage. They are created using square brackets [] with items separated by commas\n",
    "\n",
    "Characteristics of a Python List\n",
    "Ordered: Lists maintain the order of elements, allowing you to access items by their index.\n",
    "Mutable: Lists can be modified after creation, enabling you to add, remove, or change elements.\n",
    "Dynamic: Lists can grow or shrink in size as needed, adapting to the number of elements.\n",
    "Heterogeneous: Lists can store elements of different data types, including other lists or objects.\n",
    "Indexable: Elements in a list can be accessed, updated, or removed using their index position.\n",
    "Iterable: Lists can be looped over or iterated through, making them ideal for processing collections of items.\n",
    "\n",
    " Here are 15 common list functions in Python: append(), extend(), insert(), remove(), pop(), index(), count(), sort(), reverse(), copy(), len(), max(), min(), sum(), and sorted(). These functions allow you to add, remove, sort, search, and manipulate the elements in a list.\n",
    "\n",
    "Related\n"
   ]
  },
  {
   "cell_type": "code",
   "execution_count": 1,
   "id": "e5024016",
   "metadata": {},
   "outputs": [],
   "source": [
    "a=[] #empty list"
   ]
  },
  {
   "cell_type": "code",
   "execution_count": 2,
   "id": "7fde2fb2",
   "metadata": {},
   "outputs": [
    {
     "data": {
      "text/plain": [
       "list"
      ]
     },
     "execution_count": 2,
     "metadata": {},
     "output_type": "execute_result"
    }
   ],
   "source": [
    "type(a)"
   ]
  },
  {
   "cell_type": "code",
   "execution_count": 4,
   "id": "e57bcc62",
   "metadata": {},
   "outputs": [
    {
     "data": {
      "text/plain": [
       "list"
      ]
     },
     "execution_count": 4,
     "metadata": {},
     "output_type": "execute_result"
    }
   ],
   "source": [
    "a = ['onion', 'potato', 'ginger', 'cucumber'] # elements are separated by comma in []\n",
    "type(a)"
   ]
  },
  {
   "cell_type": "code",
   "execution_count": 5,
   "id": "42c939f1",
   "metadata": {},
   "outputs": [],
   "source": [
    "b = ['onion', 'potato', 'ginger', 'cucumber', 1, 3.1416]"
   ]
  },
  {
   "cell_type": "code",
   "execution_count": 95,
   "id": "09843fae",
   "metadata": {},
   "outputs": [
    {
     "data": {
      "text/plain": [
       "False"
      ]
     },
     "execution_count": 95,
     "metadata": {},
     "output_type": "execute_result"
    }
   ],
   "source": [
    "a = [ 1, 2, \"Ram\", 3.50, \"Rahul\", 5, 6 ]    \n",
    "b = [ 1, 2, 5, \"Ram\", 3.50, \"Rahul\", 6 ]    \n",
    "a == b    "
   ]
  },
  {
   "cell_type": "code",
   "execution_count": 97,
   "id": "a6da0b81",
   "metadata": {},
   "outputs": [
    {
     "name": "stdout",
     "output_type": "stream",
     "text": [
      "printing employee data ...\n",
      " Name : John, ID: 102, Country: USA\n",
      "printing departments ...\n",
      "Department 1:\n",
      "Name: CS, ID: 10\n",
      " Department 2:\n",
      " Name: IT, ID: 11\n",
      "HOD Details ....\n",
      "CS HOD Name: Mr. Holding, Id: 10\n",
      "IT HOD Name: Mr. Bewon, Id: 11\n",
      "<class 'list'> <class 'list'> <class 'list'> <class 'list'> <class 'list'>\n"
     ]
    }
   ],
   "source": [
    "emp = [ \"John\", 102, \"USA\"]       \n",
    "Dep1 = [ \"CS\",10]    \n",
    "Dep2 = [ \"IT\",11]      \n",
    "HOD_CS = [ 10,\"Mr. Holding\"]      \n",
    "HOD_IT = [11, \"Mr. Bewon\"]      \n",
    "print(\"printing employee data ...\")      \n",
    "print(\" Name : %s, ID: %d, Country: %s\" %(emp[0], emp[1], emp[2]))      \n",
    "print(\"printing departments ...\")     \n",
    "print(\"Department 1:\\nName: %s, ID: %d\\n Department 2:\\n Name: %s, ID: %s\"%( Dep1[0], Dep1[1], Dep2[0], Dep2[1]))      \n",
    "print(\"HOD Details ....\")      \n",
    "print(\"CS HOD Name: %s, Id: %d\" %(HOD_CS[1], HOD_CS[0]))      \n",
    "print(\"IT HOD Name: %s, Id: %d\" %(HOD_IT[1], HOD_IT[0]))      \n",
    "print(type(emp), type(Dep1), type(Dep2), type(HOD_CS), type(HOD_IT))    "
   ]
  },
  {
   "cell_type": "markdown",
   "id": "73759f77",
   "metadata": {},
   "source": [
    "# Access items"
   ]
  },
  {
   "cell_type": "code",
   "execution_count": 98,
   "id": "1d30873d",
   "metadata": {},
   "outputs": [],
   "source": [
    "b = ['onion', 'potato', 'ginger', 'cucumber', 1, 3.1416]"
   ]
  },
  {
   "cell_type": "code",
   "execution_count": 7,
   "id": "7d547baa",
   "metadata": {},
   "outputs": [
    {
     "data": {
      "text/plain": [
       "'onion'"
      ]
     },
     "execution_count": 7,
     "metadata": {},
     "output_type": "execute_result"
    }
   ],
   "source": [
    "b[0]"
   ]
  },
  {
   "cell_type": "code",
   "execution_count": 8,
   "id": "cc810d66",
   "metadata": {},
   "outputs": [
    {
     "data": {
      "text/plain": [
       "'potato'"
      ]
     },
     "execution_count": 8,
     "metadata": {},
     "output_type": "execute_result"
    }
   ],
   "source": [
    "b[1]"
   ]
  },
  {
   "cell_type": "code",
   "execution_count": 9,
   "id": "dd162ae1",
   "metadata": {},
   "outputs": [
    {
     "data": {
      "text/plain": [
       "['potato', 'ginger', 'cucumber', 1]"
      ]
     },
     "execution_count": 9,
     "metadata": {},
     "output_type": "execute_result"
    }
   ],
   "source": [
    "b[1:5]"
   ]
  },
  {
   "cell_type": "code",
   "execution_count": 10,
   "id": "78a8d5d1",
   "metadata": {},
   "outputs": [
    {
     "data": {
      "text/plain": [
       "['onion', 'potato', 'ginger', 'cucumber', 1]"
      ]
     },
     "execution_count": 10,
     "metadata": {},
     "output_type": "execute_result"
    }
   ],
   "source": [
    "b[:5]"
   ]
  },
  {
   "cell_type": "code",
   "execution_count": 11,
   "id": "9df808d4",
   "metadata": {},
   "outputs": [
    {
     "data": {
      "text/plain": [
       "['ginger', 'cucumber', 1, 3.1416]"
      ]
     },
     "execution_count": 11,
     "metadata": {},
     "output_type": "execute_result"
    }
   ],
   "source": [
    "b[2:]"
   ]
  },
  {
   "cell_type": "code",
   "execution_count": 99,
   "id": "ecfeb96d",
   "metadata": {},
   "outputs": [
    {
     "data": {
      "text/plain": [
       "['onion', 'potato', 'ginger', 'cucumber', 1, 3.1416]"
      ]
     },
     "execution_count": 99,
     "metadata": {},
     "output_type": "execute_result"
    }
   ],
   "source": [
    "b[:]"
   ]
  },
  {
   "cell_type": "code",
   "execution_count": 12,
   "id": "933fbd64",
   "metadata": {},
   "outputs": [
    {
     "data": {
      "text/plain": [
       "3.1416"
      ]
     },
     "execution_count": 12,
     "metadata": {},
     "output_type": "execute_result"
    }
   ],
   "source": [
    "b[-1]"
   ]
  },
  {
   "cell_type": "code",
   "execution_count": 15,
   "id": "35cc70e1",
   "metadata": {},
   "outputs": [
    {
     "data": {
      "text/plain": [
       "'o'"
      ]
     },
     "execution_count": 15,
     "metadata": {},
     "output_type": "execute_result"
    }
   ],
   "source": [
    "b[0][0]"
   ]
  },
  {
   "cell_type": "code",
   "execution_count": 16,
   "id": "6a5932ab",
   "metadata": {},
   "outputs": [
    {
     "data": {
      "text/plain": [
       "'p'"
      ]
     },
     "execution_count": 16,
     "metadata": {},
     "output_type": "execute_result"
    }
   ],
   "source": [
    "b[1][0]"
   ]
  },
  {
   "cell_type": "code",
   "execution_count": 17,
   "id": "1a111e66",
   "metadata": {},
   "outputs": [
    {
     "data": {
      "text/plain": [
       "'g'"
      ]
     },
     "execution_count": 17,
     "metadata": {},
     "output_type": "execute_result"
    }
   ],
   "source": [
    "b[2][0]"
   ]
  },
  {
   "cell_type": "code",
   "execution_count": 18,
   "id": "4c9d0d8e",
   "metadata": {},
   "outputs": [
    {
     "data": {
      "text/plain": [
       "'c'"
      ]
     },
     "execution_count": 18,
     "metadata": {},
     "output_type": "execute_result"
    }
   ],
   "source": [
    "b[3][0]"
   ]
  },
  {
   "cell_type": "code",
   "execution_count": 19,
   "id": "8a6a5858",
   "metadata": {},
   "outputs": [
    {
     "data": {
      "text/plain": [
       "'r'"
      ]
     },
     "execution_count": 19,
     "metadata": {},
     "output_type": "execute_result"
    }
   ],
   "source": [
    "b[3][-1]"
   ]
  },
  {
   "cell_type": "code",
   "execution_count": 100,
   "id": "a1403fc2",
   "metadata": {},
   "outputs": [
    {
     "name": "stdout",
     "output_type": "stream",
     "text": [
      "1\n",
      "2\n",
      "3\n",
      "4\n",
      "[1, 2, 3, 4, 5, 6]\n",
      "[1, 2, 3, 4, 5, 6, 7]\n",
      "[3, 4, 5]\n",
      "[2, 4, 6]\n"
     ]
    }
   ],
   "source": [
    "list = [1,2,3,4,5,6,7]    \n",
    "print(list[0])    \n",
    "print(list[1])    \n",
    "print(list[2])    \n",
    "print(list[3])    \n",
    "# Slicing the elements    \n",
    "print(list[0:6])    \n",
    "# By default, the index value is 0 so its starts from the 0th element and go for index -1.    \n",
    "print(list[:])    \n",
    "print(list[2:5])    \n",
    "print(list[1:6:2])    "
   ]
  },
  {
   "cell_type": "code",
   "execution_count": 101,
   "id": "b6118296",
   "metadata": {},
   "outputs": [
    {
     "name": "stdout",
     "output_type": "stream",
     "text": [
      "5\n",
      "[3, 4, 5]\n",
      "[1, 2, 3, 4]\n",
      "[3, 4]\n"
     ]
    }
   ],
   "source": [
    "# negative indexing example  \n",
    "list = [1,2,3,4,5]    \n",
    "print(list[-1])    \n",
    "print(list[-3:])    \n",
    "print(list[:-1])    \n",
    "print(list[-3:-1])  "
   ]
  },
  {
   "cell_type": "markdown",
   "id": "1f311f24",
   "metadata": {},
   "source": [
    "# checking data type"
   ]
  },
  {
   "cell_type": "code",
   "execution_count": 22,
   "id": "d67ea2b6",
   "metadata": {},
   "outputs": [
    {
     "name": "stdout",
     "output_type": "stream",
     "text": [
      "<class 'str'>\n",
      "<class 'float'>\n",
      "<class 'int'>\n"
     ]
    }
   ],
   "source": [
    "print(type(b[0]))\n",
    "print(type(b[-1]))\n",
    "print(type(b[-2]))"
   ]
  },
  {
   "cell_type": "code",
   "execution_count": 23,
   "id": "dec40999",
   "metadata": {},
   "outputs": [
    {
     "data": {
      "text/plain": [
       "['onion', 'potato', 'ginger', 'cucumber', 1, 3.1416]"
      ]
     },
     "execution_count": 23,
     "metadata": {},
     "output_type": "execute_result"
    }
   ],
   "source": [
    "b"
   ]
  },
  {
   "cell_type": "markdown",
   "id": "2ae384d9",
   "metadata": {},
   "source": [
    "# update element"
   ]
  },
  {
   "cell_type": "code",
   "execution_count": 24,
   "id": "02036e82",
   "metadata": {},
   "outputs": [],
   "source": [
    "b[0]='rice'\n",
    "b[4]=570\n",
    "b[5]=356876.7878"
   ]
  },
  {
   "cell_type": "code",
   "execution_count": 25,
   "id": "2f5a011d",
   "metadata": {},
   "outputs": [
    {
     "data": {
      "text/plain": [
       "['rice', 'potato', 'ginger', 'cucumber', 570, 356876.7878]"
      ]
     },
     "execution_count": 25,
     "metadata": {},
     "output_type": "execute_result"
    }
   ],
   "source": [
    "b"
   ]
  },
  {
   "cell_type": "code",
   "execution_count": 102,
   "id": "cf37b26c",
   "metadata": {},
   "outputs": [
    {
     "name": "stdout",
     "output_type": "stream",
     "text": [
      "[1, 2, 3, 4, 5, 6]\n",
      "[1, 2, 10, 4, 5, 6]\n",
      "[1, 89, 78, 4, 5, 6]\n",
      "[1, 89, 78, 4, 5, 25]\n"
     ]
    }
   ],
   "source": [
    "# updating list values  \n",
    "list = [1, 2, 3, 4, 5, 6]       \n",
    "print(list)       \n",
    "# It will assign value to the value to the second index     \n",
    "list[2] = 10     \n",
    "print(list)      \n",
    "# Adding multiple-element     \n",
    "list[1:3] = [89, 78]       \n",
    "print(list)     \n",
    "# It will add value at the end of the list    \n",
    "list[-1] = 25    \n",
    "print(list)"
   ]
  },
  {
   "cell_type": "markdown",
   "id": "cff16b6e",
   "metadata": {},
   "source": [
    "# Python List Operations\n",
    "The concatenation (+) and repetition (*) operators work in the same way as they were working with the strings. The different operations of list are\n",
    "\n",
    "Repetition\n",
    "Concatenation\n",
    "Length\n",
    "Iteration\n",
    "Membership"
   ]
  },
  {
   "cell_type": "code",
   "execution_count": 103,
   "id": "30ca5ef8",
   "metadata": {},
   "outputs": [
    {
     "name": "stdout",
     "output_type": "stream",
     "text": [
      "[12, 14, 16, 18, 20, 12, 14, 16, 18, 20]\n"
     ]
    }
   ],
   "source": [
    "# repetition of list  \n",
    "# declaring the list  \n",
    "list1 = [12, 14, 16, 18, 20]  \n",
    "# repetition operator *  \n",
    "l = list1 * 2  \n",
    "print(l)  "
   ]
  },
  {
   "cell_type": "code",
   "execution_count": 104,
   "id": "c24ee504",
   "metadata": {},
   "outputs": [
    {
     "name": "stdout",
     "output_type": "stream",
     "text": [
      "[12, 14, 16, 18, 20, 9, 10, 32, 54, 86]\n"
     ]
    }
   ],
   "source": [
    "# concatenation of two lists  \n",
    "# declaring the lists  \n",
    "list1 = [12, 14, 16, 18, 20]  \n",
    "list2 = [9, 10, 32, 54, 86]  \n",
    "# concatenation operator +  \n",
    "l = list1 + list2  \n",
    "print(l)  "
   ]
  },
  {
   "cell_type": "code",
   "execution_count": 105,
   "id": "d504e27b",
   "metadata": {},
   "outputs": [
    {
     "data": {
      "text/plain": [
       "9"
      ]
     },
     "execution_count": 105,
     "metadata": {},
     "output_type": "execute_result"
    }
   ],
   "source": [
    "# size of the list  \n",
    "# declaring the list  \n",
    "list1 = [12, 14, 16, 18, 20, 23, 27, 39, 40]  \n",
    "# finding length of the list  \n",
    "len(list1)  "
   ]
  },
  {
   "cell_type": "code",
   "execution_count": 106,
   "id": "1c554749",
   "metadata": {},
   "outputs": [
    {
     "name": "stdout",
     "output_type": "stream",
     "text": [
      "12\n",
      "14\n",
      "16\n",
      "39\n",
      "40\n"
     ]
    }
   ],
   "source": [
    "# iteration of the list  \n",
    "# declaring the list  \n",
    "list1 = [12, 14, 16, 39, 40]  \n",
    "# iterating  \n",
    "for i in list1:   \n",
    "    print(i)  "
   ]
  },
  {
   "cell_type": "code",
   "execution_count": 107,
   "id": "47559679",
   "metadata": {},
   "outputs": [
    {
     "name": "stdout",
     "output_type": "stream",
     "text": [
      "False\n",
      "False\n",
      "False\n",
      "True\n",
      "True\n",
      "True\n"
     ]
    }
   ],
   "source": [
    "# membership of the list  \n",
    "# declaring the list  \n",
    "list1 = [100, 200, 300, 400, 500]  \n",
    "# true will be printed if value exists  \n",
    "# and false if not  \n",
    "  \n",
    "print(600 in list1)  \n",
    "print(700 in list1)  \n",
    "print(1040 in list1)  \n",
    "  \n",
    "print(300 in list1)  \n",
    "print(100 in list1)  \n",
    "print(500 in list1)  "
   ]
  },
  {
   "cell_type": "code",
   "execution_count": 108,
   "id": "05b0cf08",
   "metadata": {},
   "outputs": [
    {
     "name": "stdout",
     "output_type": "stream",
     "text": [
      "John\n",
      "David\n",
      "James\n",
      "Jonathan\n"
     ]
    }
   ],
   "source": [
    "# iterating a list  \n",
    "list = [\"John\", \"David\", \"James\", \"Jonathan\"]      \n",
    "for i in list:     \n",
    "    # The i variable will iterate over the elements of the List and contains each element in each iteration.       \n",
    "    print(i)  "
   ]
  },
  {
   "cell_type": "markdown",
   "id": "20887d4f",
   "metadata": {},
   "source": [
    "# Python List Built-in Functions\n",
    "Python provides the following built-in functions, which can be used with the lists.\n",
    "\n",
    "len()\n",
    "max()\n",
    "min()"
   ]
  },
  {
   "cell_type": "code",
   "execution_count": 110,
   "id": "bd3051b9",
   "metadata": {},
   "outputs": [
    {
     "name": "stdout",
     "output_type": "stream",
     "text": [
      "782\n"
     ]
    }
   ],
   "source": [
    "# maximum of the list  \n",
    "list1 = [103, 675, 321, 782, 200]  \n",
    "# large element in the list  \n",
    "print(max(list1))  "
   ]
  },
  {
   "cell_type": "code",
   "execution_count": 111,
   "id": "a76c007a",
   "metadata": {},
   "outputs": [
    {
     "name": "stdout",
     "output_type": "stream",
     "text": [
      "103\n"
     ]
    }
   ],
   "source": [
    "# minimum of the list  \n",
    "list1 = [103, 675, 321, 782, 200]  \n",
    "# smallest element in the list  \n",
    "print(min(list1))  "
   ]
  },
  {
   "cell_type": "code",
   "execution_count": null,
   "id": "6e6fe9ba",
   "metadata": {},
   "outputs": [],
   "source": []
  },
  {
   "cell_type": "code",
   "execution_count": null,
   "id": "73cc5091",
   "metadata": {},
   "outputs": [],
   "source": []
  },
  {
   "cell_type": "markdown",
   "id": "4f45ba09",
   "metadata": {},
   "source": [
    "# Append()\n",
    "to add something new at the end of the list we use append()\n",
    "\n",
    "list.append (item)"
   ]
  },
  {
   "cell_type": "code",
   "execution_count": 26,
   "id": "b6bbaf3a",
   "metadata": {},
   "outputs": [],
   "source": [
    "b.append('new')"
   ]
  },
  {
   "cell_type": "code",
   "execution_count": 27,
   "id": "8c59377d",
   "metadata": {},
   "outputs": [
    {
     "data": {
      "text/plain": [
       "['rice', 'potato', 'ginger', 'cucumber', 570, 356876.7878, 'new']"
      ]
     },
     "execution_count": 27,
     "metadata": {},
     "output_type": "execute_result"
    }
   ],
   "source": [
    "b"
   ]
  },
  {
   "cell_type": "code",
   "execution_count": 74,
   "id": "d29490ab",
   "metadata": {},
   "outputs": [
    {
     "name": "stdout",
     "output_type": "stream",
     "text": [
      "\n",
      "The list before append:\n",
      " ['Uzzal Kumar', 'Applied Math', 46, 9]\n",
      "\n",
      "The list after append:\n",
      " ['Uzzal Kumar', 'Applied Math', 46, 9, 3.85]\n"
     ]
    }
   ],
   "source": [
    "stdList = ['Uzzal Kumar', 'Applied Math', 46, 9]\n",
    "# print the list\n",
    "print(\"\\nThe list before append:\\n\", stdList)\n",
    " \n",
    "# Append a new item in the list\n",
    "stdList.append(3.85)\n",
    "# print the list after append\n",
    "print(\"\\nThe list after append:\\n\", stdList)"
   ]
  },
  {
   "cell_type": "code",
   "execution_count": 109,
   "id": "31bb4692",
   "metadata": {},
   "outputs": [
    {
     "name": "stdout",
     "output_type": "stream",
     "text": [
      "Enter the number of elements in the list:5\n",
      "Enter the item:1\n",
      "Enter the item:2\n",
      "Enter the item:3\n",
      "Enter the item:4\n",
      "Enter the item:5\n",
      "printing the list items..\n",
      "1  2  3  4  5  "
     ]
    }
   ],
   "source": [
    "#Declaring the empty list    \n",
    "l =[]    \n",
    "#Number of elements will be entered by the user      \n",
    "n = int(input(\"Enter the number of elements in the list:\"))    \n",
    "# for loop to take the input    \n",
    "for i in range(0,n):       \n",
    "    # The input is taken from the user and added to the list as the item    \n",
    "    l.append(input(\"Enter the item:\"))       \n",
    "print(\"printing the list items..\")     \n",
    "# traversal loop to print the list items      \n",
    "for i in l:     \n",
    "    print(i, end = \"  \")   "
   ]
  },
  {
   "cell_type": "markdown",
   "id": "f7142cd0",
   "metadata": {},
   "source": [
    "# Insert\n",
    "The insert() method is used to insert a new item into a particular position in the list.i.e\n",
    "to add something new at any index  we will use insert()\n",
    "\n",
    "\n",
    "list.insert(position, item)"
   ]
  },
  {
   "cell_type": "code",
   "execution_count": 28,
   "id": "71c41104",
   "metadata": {},
   "outputs": [],
   "source": [
    "b.insert(1,'python')"
   ]
  },
  {
   "cell_type": "code",
   "execution_count": 29,
   "id": "308254d9",
   "metadata": {},
   "outputs": [
    {
     "data": {
      "text/plain": [
       "['rice', 'python', 'potato', 'ginger', 'cucumber', 570, 356876.7878, 'new']"
      ]
     },
     "execution_count": 29,
     "metadata": {},
     "output_type": "execute_result"
    }
   ],
   "source": [
    "b"
   ]
  },
  {
   "cell_type": "code",
   "execution_count": 73,
   "id": "7466aa63",
   "metadata": {},
   "outputs": [
    {
     "name": "stdout",
     "output_type": "stream",
     "text": [
      "\n",
      "The list before insert:\n",
      " ['HDD', 'motherboard', 'Printer', 'Scanner', 'Mouse', 'Keyboard', 'RAM']\n",
      "\n",
      "The list after insert:\n",
      " ['HDD', 'Processor', 'motherboard', 'Printer', 'Scanner', 'Mouse', 'Keyboard', 'RAM']\n"
     ]
    }
   ],
   "source": [
    "Listdata = ['HDD', 'motherboard', 'Printer', 'Scanner', 'Mouse', 'Keyboard','RAM']\n",
    "# print the list\n",
    "print(\"\\nThe list before insert:\\n\", Listdata)\n",
    "\n",
    "# Insert a new item in the list\n",
    "Listdata.insert(1,'Processor')\n",
    "# print the list after insert\n",
    "print(\"\\nThe list after insert:\\n\", Listdata)"
   ]
  },
  {
   "cell_type": "markdown",
   "id": "b693213f",
   "metadata": {},
   "source": [
    "# Extend()\n",
    "The extend() method is used to merge two list items and store the merged items in the first list.\n",
    "\n",
    "Syntax:\n",
    "\n",
    "\n",
    "first_list.extend(second_list)"
   ]
  },
  {
   "cell_type": "code",
   "execution_count": 30,
   "id": "4d5abff1",
   "metadata": {},
   "outputs": [],
   "source": [
    "b.extend(['uzzal','kumar','ratul',2104])"
   ]
  },
  {
   "cell_type": "code",
   "execution_count": 31,
   "id": "04e6ca3c",
   "metadata": {},
   "outputs": [
    {
     "data": {
      "text/plain": [
       "['rice',\n",
       " 'python',\n",
       " 'potato',\n",
       " 'ginger',\n",
       " 'cucumber',\n",
       " 570,\n",
       " 356876.7878,\n",
       " 'new',\n",
       " 'uzzal',\n",
       " 'kumar',\n",
       " 'ratul',\n",
       " 2104]"
      ]
     },
     "execution_count": 31,
     "metadata": {},
     "output_type": "execute_result"
    }
   ],
   "source": [
    "b"
   ]
  },
  {
   "cell_type": "code",
   "execution_count": 32,
   "id": "c77cef93",
   "metadata": {},
   "outputs": [
    {
     "data": {
      "text/plain": [
       "['rice',\n",
       " 'python',\n",
       " 'potato',\n",
       " 'ginger',\n",
       " 'cucumber',\n",
       " 570,\n",
       " 356876.7878,\n",
       " 'new',\n",
       " 'uzzal',\n",
       " 'kumar',\n",
       " 'ratul',\n",
       " 2104,\n",
       " 'a',\n",
       " 'b',\n",
       " 'c']"
      ]
     },
     "execution_count": 32,
     "metadata": {},
     "output_type": "execute_result"
    }
   ],
   "source": [
    "b+['a','b','c']"
   ]
  },
  {
   "cell_type": "code",
   "execution_count": 79,
   "id": "1a28c413",
   "metadata": {},
   "outputs": [
    {
     "name": "stdout",
     "output_type": "stream",
     "text": [
      "The output after extend:\n",
      " ['John', 'Ella', 'Micheal', 'Watson', 'Abir', 'Nahar', 'Zafar']\n"
     ]
    }
   ],
   "source": [
    "clientList1 = ['John','Ella','Micheal','Watson']\n",
    "clientList2 = ['Abir','Nahar','Zafar']\n",
    " \n",
    " \n",
    "# Insert the items of the second at the end of first list\n",
    "clientList1.extend(clientList2)\n",
    "# Print the first list after extend\n",
    "print(\"The output after extend:\\n\", clientList1)"
   ]
  },
  {
   "cell_type": "code",
   "execution_count": null,
   "id": "15340cee",
   "metadata": {},
   "outputs": [],
   "source": []
  },
  {
   "cell_type": "markdown",
   "id": "6e306c9b",
   "metadata": {},
   "source": [
    "# Remove()\n",
    "to remove an item from the list\n",
    "\n",
    "list.remove(item_name)"
   ]
  },
  {
   "cell_type": "code",
   "execution_count": 33,
   "id": "c28e7972",
   "metadata": {},
   "outputs": [],
   "source": [
    "b.remove('python')"
   ]
  },
  {
   "cell_type": "code",
   "execution_count": 34,
   "id": "c47b4aff",
   "metadata": {},
   "outputs": [
    {
     "data": {
      "text/plain": [
       "['rice',\n",
       " 'potato',\n",
       " 'ginger',\n",
       " 'cucumber',\n",
       " 570,\n",
       " 356876.7878,\n",
       " 'new',\n",
       " 'uzzal',\n",
       " 'kumar',\n",
       " 'ratul',\n",
       " 2104]"
      ]
     },
     "execution_count": 34,
     "metadata": {},
     "output_type": "execute_result"
    }
   ],
   "source": [
    "b"
   ]
  },
  {
   "cell_type": "code",
   "execution_count": 75,
   "id": "00fa64bc",
   "metadata": {},
   "outputs": [
    {
     "name": "stdout",
     "output_type": "stream",
     "text": [
      "List before remove:\n",
      " ['Mango', 'Banana', 'Orange', 'grape', 'Guava', 'Watermelon']\n",
      "Enter the fruit name to remove:orange\n",
      "\n",
      "List after remove:\n",
      " ['Mango', 'Banana', 'grape', 'Guava', 'Watermelon']\n"
     ]
    }
   ],
   "source": [
    "listdata = ['Mango', 'Banana', 'Orange', 'grape', 'Guava', 'Watermelon']\n",
    "# Print the list\n",
    "print(\"List before remove:\\n\", listdata)\n",
    "remove_item = input(\"Enter the fruit name to remove:\")\n",
    "try:\n",
    "  # Remove a item from the list if exist\n",
    "  listdata.remove(remove_item.capitalize())\n",
    "  # Print the list after remove\n",
    "  print(\"\\nList after remove:\\n\", listdata)\n",
    "except ValueError:\n",
    "  print(\"Item does not exist in the list\")"
   ]
  },
  {
   "cell_type": "code",
   "execution_count": 78,
   "id": "1662f647",
   "metadata": {},
   "outputs": [
    {
     "name": "stdout",
     "output_type": "stream",
     "text": [
      "List before remove:\n",
      " ['Mango', 'Banana', 'Orange', 'grape', 'Guava', 'Watermelon']\n",
      "Enter the fruit name to remove:dragon\n",
      "Item does not exist in the list\n"
     ]
    }
   ],
   "source": [
    "listdata = ['Mango', 'Banana', 'Orange', 'grape', 'Guava', 'Watermelon']\n",
    "# Print the list\n",
    "print(\"List before remove:\\n\", listdata)\n",
    "remove_item = input(\"Enter the fruit name to remove:\")\n",
    "try:\n",
    "  # Remove a item from the list if exist\n",
    "  listdata.remove(remove_item.capitalize())\n",
    "  # Print the list after remove\n",
    "  print(\"\\nList after remove:\\n\", listdata)\n",
    "except ValueError:\n",
    "  print(\"Item does not exist in the list\")"
   ]
  },
  {
   "cell_type": "code",
   "execution_count": null,
   "id": "9a801d3f",
   "metadata": {},
   "outputs": [],
   "source": []
  },
  {
   "cell_type": "code",
   "execution_count": null,
   "id": "422cd9bf",
   "metadata": {},
   "outputs": [],
   "source": []
  },
  {
   "cell_type": "markdown",
   "id": "51d078c6",
   "metadata": {},
   "source": [
    "# Delete\n",
    "to remove or delete an item from the list when index is known"
   ]
  },
  {
   "cell_type": "code",
   "execution_count": 35,
   "id": "bef2e9c8",
   "metadata": {},
   "outputs": [],
   "source": [
    "del b[-1]"
   ]
  },
  {
   "cell_type": "code",
   "execution_count": 36,
   "id": "b1d5a6b0",
   "metadata": {},
   "outputs": [
    {
     "data": {
      "text/plain": [
       "['rice',\n",
       " 'potato',\n",
       " 'ginger',\n",
       " 'cucumber',\n",
       " 570,\n",
       " 356876.7878,\n",
       " 'new',\n",
       " 'uzzal',\n",
       " 'kumar',\n",
       " 'ratul']"
      ]
     },
     "execution_count": 36,
     "metadata": {},
     "output_type": "execute_result"
    }
   ],
   "source": [
    "b"
   ]
  },
  {
   "cell_type": "code",
   "execution_count": 56,
   "id": "eb59b2dd",
   "metadata": {},
   "outputs": [],
   "source": [
    "\n",
    "colors =['red', 'green', 'blue', 'orange', 'yellow', 'indigo', 'violet']"
   ]
  },
  {
   "cell_type": "code",
   "execution_count": 57,
   "id": "bc4605f0",
   "metadata": {},
   "outputs": [],
   "source": [
    "del colors[2:5]"
   ]
  },
  {
   "cell_type": "code",
   "execution_count": 58,
   "id": "f45c56b6",
   "metadata": {},
   "outputs": [
    {
     "data": {
      "text/plain": [
       "['red', 'green', 'indigo', 'violet']"
      ]
     },
     "execution_count": 58,
     "metadata": {},
     "output_type": "execute_result"
    }
   ],
   "source": [
    "colors"
   ]
  },
  {
   "cell_type": "markdown",
   "id": "4310e03c",
   "metadata": {},
   "source": [
    "# Pop()\n",
    "to remove or delete an item from the end of the list  we will use pop()"
   ]
  },
  {
   "cell_type": "code",
   "execution_count": 37,
   "id": "df786e3a",
   "metadata": {},
   "outputs": [
    {
     "data": {
      "text/plain": [
       "'ratul'"
      ]
     },
     "execution_count": 37,
     "metadata": {},
     "output_type": "execute_result"
    }
   ],
   "source": [
    "b.pop()"
   ]
  },
  {
   "cell_type": "code",
   "execution_count": 38,
   "id": "5a6a6a9d",
   "metadata": {},
   "outputs": [
    {
     "data": {
      "text/plain": [
       "['rice',\n",
       " 'potato',\n",
       " 'ginger',\n",
       " 'cucumber',\n",
       " 570,\n",
       " 356876.7878,\n",
       " 'new',\n",
       " 'uzzal',\n",
       " 'kumar']"
      ]
     },
     "execution_count": 38,
     "metadata": {},
     "output_type": "execute_result"
    }
   ],
   "source": [
    "b"
   ]
  },
  {
   "cell_type": "code",
   "execution_count": 39,
   "id": "943fc0f5",
   "metadata": {},
   "outputs": [
    {
     "data": {
      "text/plain": [
       "9"
      ]
     },
     "execution_count": 39,
     "metadata": {},
     "output_type": "execute_result"
    }
   ],
   "source": [
    "len(b)"
   ]
  },
  {
   "cell_type": "code",
   "execution_count": 59,
   "id": "d8f3951d",
   "metadata": {},
   "outputs": [
    {
     "name": "stdout",
     "output_type": "stream",
     "text": [
      "blue\n",
      "['red', 'green', 'orange', 'yellow', 'indigo', 'violet']\n"
     ]
    }
   ],
   "source": [
    "colors =['red', 'green', 'blue', 'orange', 'yellow', 'indigo', 'violet']\n",
    "popped = colors.pop(2)\n",
    "print(popped)\n",
    "print(colors)"
   ]
  },
  {
   "cell_type": "code",
   "execution_count": 66,
   "id": "d4fb2839",
   "metadata": {},
   "outputs": [],
   "source": [
    "colors =['red', 'green', 'blue', 'orange', 'yellow', 'indigo', 'violet']"
   ]
  },
  {
   "cell_type": "code",
   "execution_count": 67,
   "id": "8cfb715e",
   "metadata": {},
   "outputs": [],
   "source": [
    "a=colors.pop(5) # to extract an element"
   ]
  },
  {
   "cell_type": "code",
   "execution_count": 68,
   "id": "43a6f1fa",
   "metadata": {},
   "outputs": [
    {
     "data": {
      "text/plain": [
       "'indigo'"
      ]
     },
     "execution_count": 68,
     "metadata": {},
     "output_type": "execute_result"
    }
   ],
   "source": [
    "a"
   ]
  },
  {
   "cell_type": "markdown",
   "id": "e94ee8db",
   "metadata": {},
   "source": [
    "# Count()\n",
    "The count() method is used to count the number times that any given item appears in a list.\n",
    "\n",
    "Syntax:\n",
    "\n",
    "list.count(item)"
   ]
  },
  {
   "cell_type": "code",
   "execution_count": 40,
   "id": "1c546fa9",
   "metadata": {},
   "outputs": [
    {
     "data": {
      "text/plain": [
       "1"
      ]
     },
     "execution_count": 40,
     "metadata": {},
     "output_type": "execute_result"
    }
   ],
   "source": [
    "b.count('potato')"
   ]
  },
  {
   "cell_type": "code",
   "execution_count": 41,
   "id": "3751943d",
   "metadata": {},
   "outputs": [
    {
     "data": {
      "text/plain": [
       "3"
      ]
     },
     "execution_count": 41,
     "metadata": {},
     "output_type": "execute_result"
    }
   ],
   "source": [
    "c = ['potato', 'a', 'b', 'potato', 'potato']\n",
    "c.count('potato')"
   ]
  },
  {
   "cell_type": "code",
   "execution_count": 80,
   "id": "6353d3df",
   "metadata": {},
   "outputs": [
    {
     "name": "stdout",
     "output_type": "stream",
     "text": [
      "The list content:\n",
      " [12, 23, 5, 27, 45, 5, 56, 6, 65]\n",
      "Enter any number to search:5\n",
      "The 5 appears 2 times in the list\n"
     ]
    }
   ],
   "source": [
    "listdata = [12, 23, 5, 27, 45, 5, 56, 6, 65]\n",
    "# Print the list\n",
    "print(\"The list content:\\n\", listdata)\n",
    "# Take any numeric data\n",
    "search_item = int(input(\"Enter any number to search:\"))\n",
    "print(\"The %d appears %d times in the list\" %(search_item,listdata.count(search_item)))"
   ]
  },
  {
   "cell_type": "markdown",
   "id": "7ffe5844",
   "metadata": {},
   "source": [
    "# index()\n",
    "The index() method is used to obtain the position value of any item in the list.\n",
    "\n",
    "Syntax:\n",
    "\n",
    "list.index(search_item)\n",
    "This method takes the search item value as the input and returns with the position value of the item in the list,\n",
    "if it exists; otherwise, it generates a ValueError."
   ]
  },
  {
   "cell_type": "code",
   "execution_count": 81,
   "id": "0295e63e",
   "metadata": {},
   "outputs": [],
   "source": [
    "c = ['potato', 'a', 'b', 'potato', 'potato']"
   ]
  },
  {
   "cell_type": "code",
   "execution_count": 82,
   "id": "8918bb5f",
   "metadata": {},
   "outputs": [
    {
     "data": {
      "text/plain": [
       "1"
      ]
     },
     "execution_count": 82,
     "metadata": {},
     "output_type": "execute_result"
    }
   ],
   "source": [
    "c.index('a')"
   ]
  },
  {
   "cell_type": "code",
   "execution_count": 85,
   "id": "cd01d573",
   "metadata": {},
   "outputs": [
    {
     "data": {
      "text/plain": [
       "0"
      ]
     },
     "execution_count": 85,
     "metadata": {},
     "output_type": "execute_result"
    }
   ],
   "source": [
    "c.index('potato')"
   ]
  },
  {
   "cell_type": "code",
   "execution_count": 86,
   "id": "c817ba6d",
   "metadata": {},
   "outputs": [
    {
     "data": {
      "text/plain": [
       "3"
      ]
     },
     "execution_count": 86,
     "metadata": {},
     "output_type": "execute_result"
    }
   ],
   "source": [
    "c.index('potato',1)"
   ]
  },
  {
   "cell_type": "code",
   "execution_count": 87,
   "id": "5e98ff64",
   "metadata": {},
   "outputs": [
    {
     "data": {
      "text/plain": [
       "3"
      ]
     },
     "execution_count": 87,
     "metadata": {},
     "output_type": "execute_result"
    }
   ],
   "source": [
    "c.index('potato',3)"
   ]
  },
  {
   "cell_type": "code",
   "execution_count": 88,
   "id": "44aaeed9",
   "metadata": {},
   "outputs": [
    {
     "name": "stdout",
     "output_type": "stream",
     "text": [
      "The list content:\n",
      " ['John', 'Ella', 'Micheal', 'Watson', 'Meher']\n",
      "Enter any name to search:watson\n",
      "The watson is found at position 4 in the list\n"
     ]
    }
   ],
   "source": [
    "listdata =  ['John','Ella','Micheal','Watson','Meher']\n",
    "# Print the list\n",
    "print(\"The list content:\\n\", listdata)\n",
    "search_item = input(\"Enter any name to search:\")\n",
    "try:\n",
    "  print(\"The %s is found at position %d in the list\"\n",
    "  %(search_item,listdata.index(search_item.capitalize())+1))\n",
    "except ValueError:\n",
    "  print(\"The item does not exist in the list.\")"
   ]
  },
  {
   "cell_type": "code",
   "execution_count": 89,
   "id": "67f16c8f",
   "metadata": {},
   "outputs": [
    {
     "name": "stdout",
     "output_type": "stream",
     "text": [
      "The list content:\n",
      " ['John', 'Ella', 'Micheal', 'Watson', 'Meher']\n",
      "Enter any name to search:watson\n",
      "The watson is found at position 3 in the list\n"
     ]
    }
   ],
   "source": [
    "listdata =  ['John','Ella','Micheal','Watson','Meher']\n",
    "# Print the list\n",
    "print(\"The list content:\\n\", listdata)\n",
    "search_item = input(\"Enter any name to search:\")\n",
    "try:\n",
    "  print(\"The %s is found at position %d in the list\"\n",
    "  %(search_item,listdata.index(search_item.capitalize())))\n",
    "except ValueError:\n",
    "  print(\"The item does not exist in the list.\")"
   ]
  },
  {
   "cell_type": "markdown",
   "id": "1f389dbd",
   "metadata": {},
   "source": [
    "# copy()\n",
    "The copy() method is used to make a copy of a list. \n",
    "This method is useful for keeping original list values before modifying the list.\n",
    "\n",
    "Syntax:\n",
    "\n",
    "list.copy()"
   ]
  },
  {
   "cell_type": "code",
   "execution_count": 90,
   "id": "af66ee35",
   "metadata": {},
   "outputs": [
    {
     "name": "stdout",
     "output_type": "stream",
     "text": [
      "The original values of clientList2 is:\n",
      " ['Abir', 'Nahar', 'Zafar']\n",
      "The output after extending clientList2:\n",
      " ['Abir', 'Nahar', 'Zafar', 'John', 'Ella', 'Micheal', 'Watson']\n"
     ]
    }
   ],
   "source": [
    "clientList1 = ['John','Ella','Micheal','Watson']\n",
    "clientList2 = ['Abir','Nahar','Zafar']\n",
    "# Make a copy of clientList2\n",
    "originalList2 = clientList2.copy()\n",
    "# Insert the items of the first list at the end of second list\n",
    "clientList2.extend(clientList1)\n",
    " \n",
    "# Print the values of clientList2 before extend\n",
    "print(\"The original values of clientList2 is:\\n\", originalList2)\n",
    "# Print the values of clientList2 after  extend\n",
    "print(\"The output after extending clientList2:\\n\", clientList2)"
   ]
  },
  {
   "cell_type": "code",
   "execution_count": null,
   "id": "44b5e5a6",
   "metadata": {},
   "outputs": [],
   "source": []
  },
  {
   "cell_type": "code",
   "execution_count": null,
   "id": "723eb80c",
   "metadata": {},
   "outputs": [],
   "source": []
  },
  {
   "cell_type": "code",
   "execution_count": null,
   "id": "16c1d71a",
   "metadata": {},
   "outputs": [],
   "source": []
  },
  {
   "cell_type": "code",
   "execution_count": null,
   "id": "843bff49",
   "metadata": {},
   "outputs": [],
   "source": []
  },
  {
   "cell_type": "markdown",
   "id": "e651de4f",
   "metadata": {},
   "source": [
    "# Reverse\n",
    "to reverse the list\n",
    "The reverse() method is used to reverse the items in any list. This method is useful for sorting lists in descending order.\n",
    "\n",
    "Syntax:\n",
    "\n",
    "list.reverse()"
   ]
  },
  {
   "cell_type": "code",
   "execution_count": 42,
   "id": "e345665e",
   "metadata": {},
   "outputs": [],
   "source": [
    "b.reverse()"
   ]
  },
  {
   "cell_type": "code",
   "execution_count": 43,
   "id": "148226be",
   "metadata": {},
   "outputs": [
    {
     "data": {
      "text/plain": [
       "['kumar',\n",
       " 'uzzal',\n",
       " 'new',\n",
       " 356876.7878,\n",
       " 570,\n",
       " 'cucumber',\n",
       " 'ginger',\n",
       " 'potato',\n",
       " 'rice']"
      ]
     },
     "execution_count": 43,
     "metadata": {},
     "output_type": "execute_result"
    }
   ],
   "source": [
    "b"
   ]
  },
  {
   "cell_type": "code",
   "execution_count": 44,
   "id": "afc091c0",
   "metadata": {},
   "outputs": [],
   "source": [
    "b.reverse()"
   ]
  },
  {
   "cell_type": "code",
   "execution_count": 45,
   "id": "25719e3e",
   "metadata": {},
   "outputs": [
    {
     "data": {
      "text/plain": [
       "['rice',\n",
       " 'potato',\n",
       " 'ginger',\n",
       " 'cucumber',\n",
       " 570,\n",
       " 356876.7878,\n",
       " 'new',\n",
       " 'uzzal',\n",
       " 'kumar']"
      ]
     },
     "execution_count": 45,
     "metadata": {},
     "output_type": "execute_result"
    }
   ],
   "source": [
    "b"
   ]
  },
  {
   "cell_type": "code",
   "execution_count": 93,
   "id": "418ee4ea",
   "metadata": {},
   "outputs": [
    {
     "name": "stdout",
     "output_type": "stream",
     "text": [
      "The list before sort:\n",
      " [120, 4, 78, 5, 50, 21, 56, 9]\n",
      "The list after sort and reverse:\n",
      " [120, 78, 56, 50, 21, 9, 5, 4]\n"
     ]
    }
   ],
   "source": [
    "listdata = [120, 4, 78, 5, 50, 21, 56, 9]\n",
    "# Print the list\n",
    "print(\"The list before sort:\\n\", listdata)\n",
    " \n",
    "# Sort the list\n",
    "listdata.sort()\n",
    "# Reverse the list\n",
    "listdata.reverse()\n",
    " \n",
    "# Print the list in descending order\n",
    "print(\"The list after sort and reverse:\\n\", listdata)"
   ]
  },
  {
   "cell_type": "code",
   "execution_count": null,
   "id": "a78a32a9",
   "metadata": {},
   "outputs": [],
   "source": []
  },
  {
   "cell_type": "markdown",
   "id": "a1284c86",
   "metadata": {},
   "source": [
    "# Sort()\n",
    "to arrange the list beautifully\n",
    "The sort() method is used to sort list data. \n",
    "This method is useful when you are working with the same type of list data and you need to organize the data for any programming purpose.\n",
    "\n",
    "Syntax:\n",
    "\n",
    "list.sort()\n",
    "\n",
    "By default the sort() method is case sensitive, resulting in all capital letters being sorted before lower case letters:"
   ]
  },
  {
   "cell_type": "code",
   "execution_count": 46,
   "id": "48f95f66",
   "metadata": {},
   "outputs": [],
   "source": [
    "a = [8, 3, 5, 1, 6, 2, 9, 7, 0, 4]\n",
    "a.sort()"
   ]
  },
  {
   "cell_type": "code",
   "execution_count": 47,
   "id": "3f53cc74",
   "metadata": {},
   "outputs": [
    {
     "data": {
      "text/plain": [
       "[0, 1, 2, 3, 4, 5, 6, 7, 8, 9]"
      ]
     },
     "execution_count": 47,
     "metadata": {},
     "output_type": "execute_result"
    }
   ],
   "source": [
    "a"
   ]
  },
  {
   "cell_type": "code",
   "execution_count": 48,
   "id": "f4be037c",
   "metadata": {},
   "outputs": [],
   "source": [
    "a = [8, 3, 5, 1, 6, 2, 9, 7, 0, 4]\n",
    "a.sort(reverse=True)"
   ]
  },
  {
   "cell_type": "code",
   "execution_count": 49,
   "id": "86cc02f7",
   "metadata": {},
   "outputs": [
    {
     "data": {
      "text/plain": [
       "[9, 8, 7, 6, 5, 4, 3, 2, 1, 0]"
      ]
     },
     "execution_count": 49,
     "metadata": {},
     "output_type": "execute_result"
    }
   ],
   "source": [
    "a"
   ]
  },
  {
   "cell_type": "code",
   "execution_count": 70,
   "id": "493fdab2",
   "metadata": {},
   "outputs": [
    {
     "name": "stdout",
     "output_type": "stream",
     "text": [
      "['a', 'b', 'c', 'd', 'e', 'f']\n"
     ]
    }
   ],
   "source": [
    "alphabet = ['c', 'b', 'a', 'd', 'f', 'e']\n",
    "alphabet.sort()\n",
    "print(alphabet)"
   ]
  },
  {
   "cell_type": "code",
   "execution_count": 71,
   "id": "e8850784",
   "metadata": {},
   "outputs": [
    {
     "name": "stdout",
     "output_type": "stream",
     "text": [
      "['Dipu', 'Shuvo', 'Siyam', 'Tanvir', 'Tuhin']\n"
     ]
    }
   ],
   "source": [
    "friends = ['Shuvo', 'Tuhin', 'Tanvir', 'Dipu', 'Siyam']\n",
    "friends.sort()\n",
    "print(friends)"
   ]
  },
  {
   "cell_type": "code",
   "execution_count": 72,
   "id": "7caf8eec",
   "metadata": {},
   "outputs": [
    {
     "name": "stdout",
     "output_type": "stream",
     "text": [
      "['Tuhin', 'Tanvir', 'Siyam', 'Shuvo', 'Dipu']\n"
     ]
    }
   ],
   "source": [
    "friends = ['Shuvo', 'Tuhin', 'Tanvir', 'Dipu', 'Siyam']\n",
    "friends.sort(reverse=True)\n",
    "print(friends)"
   ]
  },
  {
   "cell_type": "code",
   "execution_count": 91,
   "id": "3a0a3424",
   "metadata": {},
   "outputs": [
    {
     "name": "stdout",
     "output_type": "stream",
     "text": [
      "The list before sort:\n",
      " [12, 23, 27, 45, 5, 56, 6, 65]\n",
      "The list after sort:\n",
      " [5, 6, 12, 23, 27, 45, 56, 65]\n"
     ]
    }
   ],
   "source": [
    "listdata = [12, 23, 27, 45, 5, 56, 6, 65]\n",
    "# Print the list\n",
    "print(\"The list before sort:\\n\", listdata)\n",
    " \n",
    "# Sort the list\n",
    "listdata.sort()\n",
    "# Print the list after sort\n",
    "print(\"The list after sort:\\n\", listdata)"
   ]
  },
  {
   "cell_type": "code",
   "execution_count": 118,
   "id": "d3765722",
   "metadata": {},
   "outputs": [
    {
     "name": "stdout",
     "output_type": "stream",
     "text": [
      "['Kiwi', 'Orange', 'banana', 'cherry']\n"
     ]
    }
   ],
   "source": [
    "thislist = [\"banana\", \"Orange\", \"Kiwi\", \"cherry\"]\n",
    "thislist.sort()\n",
    "print(thislist)"
   ]
  },
  {
   "cell_type": "code",
   "execution_count": 119,
   "id": "6b997af1",
   "metadata": {},
   "outputs": [
    {
     "name": "stdout",
     "output_type": "stream",
     "text": [
      "['banana', 'cherry', 'Kiwi', 'Orange']\n"
     ]
    }
   ],
   "source": [
    "thislist = [\"banana\", \"Orange\", \"Kiwi\", \"cherry\"]\n",
    "thislist.sort(key = str.lower)\n",
    "print(thislist)"
   ]
  },
  {
   "cell_type": "markdown",
   "id": "a63616d3",
   "metadata": {},
   "source": [
    "# Clear()\n",
    "to delete all elements from the list\n",
    "The clear() method is used to remove all the items in a list and to empty lists. This method is useful for re-assigning the values of a list by removing the previous items.\n",
    "\n",
    "Syntax:\n",
    "\n",
    "list.clear()"
   ]
  },
  {
   "cell_type": "code",
   "execution_count": 50,
   "id": "607eee4f",
   "metadata": {},
   "outputs": [],
   "source": [
    "a = [8, 3, 5, 1, 6, 2, 9, 7, 0, 4]"
   ]
  },
  {
   "cell_type": "code",
   "execution_count": 52,
   "id": "16094cea",
   "metadata": {},
   "outputs": [],
   "source": [
    "a.clear()"
   ]
  },
  {
   "cell_type": "code",
   "execution_count": 53,
   "id": "74c07553",
   "metadata": {},
   "outputs": [
    {
     "data": {
      "text/plain": [
       "[]"
      ]
     },
     "execution_count": 53,
     "metadata": {},
     "output_type": "execute_result"
    }
   ],
   "source": [
    "a"
   ]
  },
  {
   "cell_type": "code",
   "execution_count": 54,
   "id": "0c7895ec",
   "metadata": {},
   "outputs": [],
   "source": [
    "del a"
   ]
  },
  {
   "cell_type": "code",
   "execution_count": 55,
   "id": "2c9fa19c",
   "metadata": {},
   "outputs": [
    {
     "ename": "NameError",
     "evalue": "name 'a' is not defined",
     "output_type": "error",
     "traceback": [
      "\u001b[1;31m---------------------------------------------------------------------------\u001b[0m",
      "\u001b[1;31mNameError\u001b[0m                                 Traceback (most recent call last)",
      "\u001b[1;32m~\\AppData\\Local\\Temp/ipykernel_5952/2167009006.py\u001b[0m in \u001b[0;36m<module>\u001b[1;34m\u001b[0m\n\u001b[1;32m----> 1\u001b[1;33m \u001b[0ma\u001b[0m\u001b[1;33m\u001b[0m\u001b[1;33m\u001b[0m\u001b[0m\n\u001b[0m",
      "\u001b[1;31mNameError\u001b[0m: name 'a' is not defined"
     ]
    }
   ],
   "source": [
    "a"
   ]
  },
  {
   "cell_type": "code",
   "execution_count": 94,
   "id": "4b0b0804",
   "metadata": {},
   "outputs": [
    {
     "name": "stdout",
     "output_type": "stream",
     "text": [
      "\n",
      "The list content:\n",
      " ['CSE', 'English', 'BBA', 'Pharmacy', 'Math']\n",
      "\n",
      "The list after clear:\n",
      " []\n"
     ]
    }
   ],
   "source": [
    "deptList = ['CSE','English','BBA', 'Pharmacy','Math' ]\n",
    "# print the list\n",
    "print(\"\\nThe list content:\\n\", deptList)\n",
    " \n",
    "# Clear the list\n",
    "deptList.clear()\n",
    "# print the list after clear\n",
    "print(\"\\nThe list after clear:\\n\", deptList)"
   ]
  },
  {
   "cell_type": "code",
   "execution_count": 112,
   "id": "0838c15b",
   "metadata": {},
   "outputs": [
    {
     "name": "stdout",
     "output_type": "stream",
     "text": [
      "apple\n",
      "banana\n",
      "cherry\n"
     ]
    }
   ],
   "source": [
    "thislist = [\"apple\", \"banana\", \"cherry\"]\n",
    "for i in range(len(thislist)):\n",
    "  print(thislist[i])\n"
   ]
  },
  {
   "cell_type": "code",
   "execution_count": 117,
   "id": "8a8497ea",
   "metadata": {},
   "outputs": [
    {
     "name": "stdout",
     "output_type": "stream",
     "text": [
      "apple\n",
      "banana\n",
      "cherry\n"
     ]
    }
   ],
   "source": [
    "thislist = [\"apple\", \"banana\", \"cherry\"]\n",
    "i = 0\n",
    "while i < len(thislist):\n",
    "    print(thislist[i])\n",
    "    i = i + 1"
   ]
  },
  {
   "cell_type": "code",
   "execution_count": 114,
   "id": "fa421d2d",
   "metadata": {},
   "outputs": [
    {
     "name": "stdout",
     "output_type": "stream",
     "text": [
      "apple\n",
      "banana\n",
      "cherry\n"
     ]
    },
    {
     "data": {
      "text/plain": [
       "[None, None, None]"
      ]
     },
     "execution_count": 114,
     "metadata": {},
     "output_type": "execute_result"
    }
   ],
   "source": [
    "#list comprehension\n",
    "thislist = [\"apple\", \"banana\", \"cherry\"]\n",
    "[print(x) for x in thislist]"
   ]
  },
  {
   "cell_type": "code",
   "execution_count": null,
   "id": "01856751",
   "metadata": {},
   "outputs": [],
   "source": []
  },
  {
   "cell_type": "code",
   "execution_count": null,
   "id": "4bea4535",
   "metadata": {},
   "outputs": [],
   "source": []
  },
  {
   "cell_type": "code",
   "execution_count": null,
   "id": "995e9e58",
   "metadata": {},
   "outputs": [],
   "source": []
  },
  {
   "cell_type": "code",
   "execution_count": null,
   "id": "bb081b67",
   "metadata": {},
   "outputs": [],
   "source": []
  },
  {
   "cell_type": "code",
   "execution_count": null,
   "id": "ffe3e365",
   "metadata": {},
   "outputs": [],
   "source": []
  },
  {
   "cell_type": "code",
   "execution_count": null,
   "id": "0d64b29b",
   "metadata": {},
   "outputs": [],
   "source": []
  },
  {
   "cell_type": "code",
   "execution_count": null,
   "id": "a406b978",
   "metadata": {},
   "outputs": [],
   "source": []
  },
  {
   "cell_type": "markdown",
   "id": "5c650e34",
   "metadata": {},
   "source": [
    "Function\tDescription\n",
    "Append()\tAdd an element to the end of the list\n",
    "Extend()\tAdd all elements of a list to another list\n",
    "Insert()\tInsert an item at the defined index\n",
    "Remove()\tRemoves an item from the list\n",
    "Clear()\tRemoves all items from the list\n",
    "Index()\tReturns the index of the first matched item\n",
    "Count()\tReturns the count of the number of items passed as an argument\n",
    "Sort()\tSort items in a list in ascending order\n",
    "Reverse()\tReverse the order of items in the list\n",
    "copy()\tReturns a copy of the list\n",
    "pop()\tRemoves and returns the item at the specified index. If no index is provided, it removes and returns the last item."
   ]
  },
  {
   "cell_type": "markdown",
   "id": "fe51596a",
   "metadata": {},
   "source": [
    "# Built-in functions with List\n",
    "Function\tDescription\n",
    "reduce()\tapply a particular function passed in its argument to all of the list elements stores the intermediate result and only returns the final summation value\n",
    "sum()\tSums up the numbers in the list\n",
    "ord()\tReturns an integer representing the Unicode code point of the given Unicode character\n",
    "cmp()\tThis function returns 1 if the first list is “greater” than the second list\n",
    "max()\treturn maximum element of a given list\n",
    "min()\treturn minimum element of a given list\n",
    "all()\tReturns true if all element is true or if the list is empty\n",
    "any()\treturn true if any element of the list is true. if the list is empty, return false\n",
    "len()\tReturns length of the list or size of the list\n",
    "enumerate()\tReturns enumerate object of the list\n",
    "accumulate()\tapply a particular function passed in its argument to all of the list elements returns a list containing the intermediate results\n",
    "filter()\ttests if each element of a list is true or not\n",
    "map()\treturns a list of the results after applying the given function to each item of a given iterable\n",
    "lambda()\tThis function can have any number of arguments but only one expression, which is evaluated and returned."
   ]
  },
  {
   "cell_type": "code",
   "execution_count": null,
   "id": "272fb6e0",
   "metadata": {},
   "outputs": [],
   "source": []
  }
 ],
 "metadata": {
  "kernelspec": {
   "display_name": "Python 3 (ipykernel)",
   "language": "python",
   "name": "python3"
  },
  "language_info": {
   "codemirror_mode": {
    "name": "ipython",
    "version": 3
   },
   "file_extension": ".py",
   "mimetype": "text/x-python",
   "name": "python",
   "nbconvert_exporter": "python",
   "pygments_lexer": "ipython3",
   "version": "3.9.7"
  }
 },
 "nbformat": 4,
 "nbformat_minor": 5
}
