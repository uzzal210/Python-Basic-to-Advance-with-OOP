{
 "cells": [
  {
   "cell_type": "code",
   "execution_count": 1,
   "id": "4def4622",
   "metadata": {},
   "outputs": [
    {
     "name": "stdout",
     "output_type": "stream",
     "text": [
      "1 6\n"
     ]
    }
   ],
   "source": [
    " a, b= map(int, input().split())"
   ]
  },
  {
   "cell_type": "code",
   "execution_count": 2,
   "id": "4c1f8442",
   "metadata": {},
   "outputs": [
    {
     "data": {
      "text/plain": [
       "int"
      ]
     },
     "execution_count": 2,
     "metadata": {},
     "output_type": "execute_result"
    }
   ],
   "source": [
    "type(a)"
   ]
  },
  {
   "cell_type": "code",
   "execution_count": 3,
   "id": "9703cd0b",
   "metadata": {},
   "outputs": [
    {
     "data": {
      "text/plain": [
       "int"
      ]
     },
     "execution_count": 3,
     "metadata": {},
     "output_type": "execute_result"
    }
   ],
   "source": [
    "type(b)"
   ]
  },
  {
   "cell_type": "code",
   "execution_count": 4,
   "id": "df80678c",
   "metadata": {},
   "outputs": [
    {
     "name": "stdout",
     "output_type": "stream",
     "text": [
      "9 0\n"
     ]
    }
   ],
   "source": [
    "a, b = input().split()"
   ]
  },
  {
   "cell_type": "code",
   "execution_count": 5,
   "id": "7bc9fce3",
   "metadata": {},
   "outputs": [
    {
     "data": {
      "text/plain": [
       "str"
      ]
     },
     "execution_count": 5,
     "metadata": {},
     "output_type": "execute_result"
    }
   ],
   "source": [
    "type(a)"
   ]
  },
  {
   "cell_type": "code",
   "execution_count": 6,
   "id": "46c4044b",
   "metadata": {},
   "outputs": [
    {
     "name": "stdout",
     "output_type": "stream",
     "text": [
      "9 8 7\n"
     ]
    }
   ],
   "source": [
    "a, b, c= map(int, input().split())"
   ]
  },
  {
   "cell_type": "code",
   "execution_count": 7,
   "id": "1e83631d",
   "metadata": {},
   "outputs": [
    {
     "data": {
      "text/plain": [
       "9"
      ]
     },
     "execution_count": 7,
     "metadata": {},
     "output_type": "execute_result"
    }
   ],
   "source": [
    "a"
   ]
  },
  {
   "cell_type": "code",
   "execution_count": 8,
   "id": "c457f0cc",
   "metadata": {},
   "outputs": [
    {
     "name": "stdout",
     "output_type": "stream",
     "text": [
      "9 6 7\n"
     ]
    }
   ],
   "source": [
    "a, b, c= map(float, input().split())"
   ]
  },
  {
   "cell_type": "code",
   "execution_count": 9,
   "id": "186f95a8",
   "metadata": {},
   "outputs": [],
   "source": [
    "ovi, niloy, asif = 3, 9,0\n"
   ]
  },
  {
   "cell_type": "code",
   "execution_count": 10,
   "id": "fe12132b",
   "metadata": {},
   "outputs": [
    {
     "ename": "TypeError",
     "evalue": "cannot unpack non-iterable float object",
     "output_type": "error",
     "traceback": [
      "\u001b[1;31m---------------------------------------------------------------------------\u001b[0m",
      "\u001b[1;31mTypeError\u001b[0m                                 Traceback (most recent call last)",
      "\u001b[1;32m~\\AppData\\Local\\Temp/ipykernel_10868/3048333935.py\u001b[0m in \u001b[0;36m<module>\u001b[1;34m\u001b[0m\n\u001b[1;32m----> 1\u001b[1;33m \u001b[0movi\u001b[0m\u001b[1;33m,\u001b[0m \u001b[0mniloy\u001b[0m\u001b[1;33m,\u001b[0m \u001b[0masif\u001b[0m \u001b[1;33m=\u001b[0m \u001b[1;36m3.99\u001b[0m\u001b[1;33m\u001b[0m\u001b[1;33m\u001b[0m\u001b[0m\n\u001b[0m",
      "\u001b[1;31mTypeError\u001b[0m: cannot unpack non-iterable float object"
     ]
    }
   ],
   "source": [
    "ovi, niloy, asif = 3.99\n"
   ]
  },
  {
   "cell_type": "code",
   "execution_count": 11,
   "id": "8cf98b42",
   "metadata": {},
   "outputs": [],
   "source": [
    "x,y,z=\"orange\",9.0,5"
   ]
  },
  {
   "cell_type": "code",
   "execution_count": 12,
   "id": "0e138a83",
   "metadata": {},
   "outputs": [
    {
     "data": {
      "text/plain": [
       "'orange'"
      ]
     },
     "execution_count": 12,
     "metadata": {},
     "output_type": "execute_result"
    }
   ],
   "source": [
    "x"
   ]
  },
  {
   "cell_type": "code",
   "execution_count": 13,
   "id": "acc0f4eb",
   "metadata": {},
   "outputs": [
    {
     "data": {
      "text/plain": [
       "5"
      ]
     },
     "execution_count": 13,
     "metadata": {},
     "output_type": "execute_result"
    }
   ],
   "source": [
    "z"
   ]
  },
  {
   "cell_type": "code",
   "execution_count": 14,
   "id": "df2c5a4e",
   "metadata": {},
   "outputs": [
    {
     "name": "stdout",
     "output_type": "stream",
     "text": [
      "HelloNahid\n"
     ]
    }
   ],
   "source": [
    "name = \"Nahid\"\n",
    "print (\"Hello\"+ name)"
   ]
  },
  {
   "cell_type": "code",
   "execution_count": 15,
   "id": "9fa2bb56",
   "metadata": {},
   "outputs": [
    {
     "name": "stdout",
     "output_type": "stream",
     "text": [
      "Hello Nahid\n"
     ]
    }
   ],
   "source": [
    "name = \"Nahid\"\n",
    "print (\"Hello\", name)"
   ]
  },
  {
   "cell_type": "code",
   "execution_count": 16,
   "id": "66d8af8d",
   "metadata": {},
   "outputs": [
    {
     "data": {
      "text/plain": [
       "True"
      ]
     },
     "execution_count": 16,
     "metadata": {},
     "output_type": "execute_result"
    }
   ],
   "source": [
    "a=256\n",
    "b=256\n",
    "a is b"
   ]
  },
  {
   "cell_type": "code",
   "execution_count": 17,
   "id": "70872f75",
   "metadata": {},
   "outputs": [
    {
     "data": {
      "text/plain": [
       "False"
      ]
     },
     "execution_count": 17,
     "metadata": {},
     "output_type": "execute_result"
    }
   ],
   "source": [
    "a=257\n",
    "b=257\n",
    "a is b"
   ]
  },
  {
   "cell_type": "code",
   "execution_count": 18,
   "id": "331eedf4",
   "metadata": {},
   "outputs": [
    {
     "data": {
      "text/plain": [
       "True"
      ]
     },
     "execution_count": 18,
     "metadata": {},
     "output_type": "execute_result"
    }
   ],
   "source": [
    "a=101111\n",
    "b=a\n",
    "a==b"
   ]
  },
  {
   "cell_type": "code",
   "execution_count": 19,
   "id": "e3c23c00",
   "metadata": {},
   "outputs": [
    {
     "data": {
      "text/plain": [
       "True"
      ]
     },
     "execution_count": 19,
     "metadata": {},
     "output_type": "execute_result"
    }
   ],
   "source": [
    "a is b"
   ]
  },
  {
   "cell_type": "code",
   "execution_count": 20,
   "id": "1326e4a5",
   "metadata": {},
   "outputs": [
    {
     "data": {
      "text/plain": [
       "True"
      ]
     },
     "execution_count": 20,
     "metadata": {},
     "output_type": "execute_result"
    }
   ],
   "source": [
    "a=101111\n",
    "b=a\n",
    "a is b"
   ]
  },
  {
   "cell_type": "code",
   "execution_count": 21,
   "id": "0849d0c7",
   "metadata": {},
   "outputs": [
    {
     "data": {
      "text/plain": [
       "'0b1000'"
      ]
     },
     "execution_count": 21,
     "metadata": {},
     "output_type": "execute_result"
    }
   ],
   "source": [
    "x=8\n",
    "bin(x)"
   ]
  },
  {
   "cell_type": "code",
   "execution_count": 22,
   "id": "c8c5416a",
   "metadata": {},
   "outputs": [
    {
     "data": {
      "text/plain": [
       "'0o10'"
      ]
     },
     "execution_count": 22,
     "metadata": {},
     "output_type": "execute_result"
    }
   ],
   "source": [
    "oct(x)"
   ]
  },
  {
   "cell_type": "code",
   "execution_count": 23,
   "id": "4c64544b",
   "metadata": {},
   "outputs": [
    {
     "data": {
      "text/plain": [
       "'0x8'"
      ]
     },
     "execution_count": 23,
     "metadata": {},
     "output_type": "execute_result"
    }
   ],
   "source": [
    "hex(x)"
   ]
  },
  {
   "cell_type": "code",
   "execution_count": 24,
   "id": "8b1b73a1",
   "metadata": {},
   "outputs": [
    {
     "name": "stdout",
     "output_type": "stream",
     "text": [
      "0b100100\n",
      "36\n"
     ]
    }
   ],
   "source": [
    "a = 9\n",
    " \n",
    "c = a << 2\n",
    " \n",
    "print(bin(c))\n",
    " \n",
    "print(c)"
   ]
  },
  {
   "cell_type": "code",
   "execution_count": 25,
   "id": "c6bc1dd2",
   "metadata": {},
   "outputs": [
    {
     "name": "stdout",
     "output_type": "stream",
     "text": [
      "0b10\n",
      "2\n"
     ]
    }
   ],
   "source": [
    "a = 9\n",
    " \n",
    "c = a >> 2\n",
    " \n",
    "print(bin(c))\n",
    " \n",
    "print(c)"
   ]
  },
  {
   "cell_type": "code",
   "execution_count": 26,
   "id": "39395c00",
   "metadata": {},
   "outputs": [
    {
     "name": "stdout",
     "output_type": "stream",
     "text": [
      "item exist in the list\n"
     ]
    }
   ],
   "source": [
    "items = [1, 2, 3, 4, 5]\n",
    " \n",
    "if 2 in items:\n",
    " \n",
    "    print('item exist in the list')\n",
    "else:\n",
    " \n",
    "    print('item is not exist in the list')"
   ]
  },
  {
   "cell_type": "code",
   "execution_count": 27,
   "id": "f3771e86",
   "metadata": {},
   "outputs": [
    {
     "name": "stdout",
     "output_type": "stream",
     "text": [
      "a and b have same identity\n"
     ]
    }
   ],
   "source": [
    "a = 20\n",
    " \n",
    "b = 20\n",
    " \n",
    "if a is b:\n",
    " \n",
    "    print(\"a and b have same identity\")\n",
    "else:\n",
    " \n",
    "    print(\"a and b do not have same identity\")\n",
    " "
   ]
  },
  {
   "cell_type": "code",
   "execution_count": 28,
   "id": "3db7cc3d",
   "metadata": {},
   "outputs": [
    {
     "name": "stdout",
     "output_type": "stream",
     "text": [
      "2792292772752\n",
      "2792292772752\n"
     ]
    }
   ],
   "source": [
    "a = 20\n",
    " \n",
    "b = 20\n",
    " \n",
    "print(id(a))\n",
    " \n",
    "print(id(b))"
   ]
  },
  {
   "cell_type": "code",
   "execution_count": 29,
   "id": "dc04ad2f",
   "metadata": {},
   "outputs": [
    {
     "name": "stdout",
     "output_type": "stream",
     "text": [
      "a and b do not have same identity\n"
     ]
    }
   ],
   "source": [
    "a = 20\n",
    " \n",
    "b = 21\n",
    " \n",
    "if a is b:\n",
    " \n",
    "    print(\"a and b have same identity\")\n",
    "else:\n",
    " \n",
    "    print(\"a and b do not have same identity\")"
   ]
  },
  {
   "cell_type": "code",
   "execution_count": 30,
   "id": "c9a80589",
   "metadata": {},
   "outputs": [
    {
     "name": "stdout",
     "output_type": "stream",
     "text": [
      "2792292772752\n",
      "2792292772784\n"
     ]
    }
   ],
   "source": [
    "a = 20\n",
    " \n",
    "b = 21\n",
    " \n",
    "print(id(a))\n",
    " \n",
    "print(id(b))"
   ]
  },
  {
   "cell_type": "markdown",
   "id": "d0fdf147",
   "metadata": {},
   "source": [
    "# Precedence"
   ]
  },
  {
   "cell_type": "code",
   "execution_count": 31,
   "id": "1560269f",
   "metadata": {},
   "outputs": [
    {
     "name": "stdout",
     "output_type": "stream",
     "text": [
      "Lunch being delivered\n"
     ]
    }
   ],
   "source": [
    "# Precedence of or & and\n",
    "meal = \"fruit\"\n",
    "\n",
    "money = 0\n",
    "\n",
    "if meal == \"fruit\" or meal == \"sandwich\" and money >= 2:\n",
    "    print(\"Lunch being delivered\")\n",
    "else:\n",
    "    print(\"Can't deliver lunch\")"
   ]
  },
  {
   "cell_type": "code",
   "execution_count": 41,
   "id": "828a22c5",
   "metadata": {},
   "outputs": [
    {
     "name": "stdout",
     "output_type": "stream",
     "text": [
      "Can't deliver lunch\n"
     ]
    }
   ],
   "source": [
    "# Precedence of or & and\n",
    "meal = \"fruit\"\n",
    "\n",
    "money = 0\n",
    "\n",
    "if (meal == \"fruit\" or meal == \"sandwich\") and money >= 2:\n",
    "    print(\"Lunch being delivered\")\n",
    "else:\n",
    "    print(\"Can't deliver lunch\")"
   ]
  },
  {
   "cell_type": "code",
   "execution_count": 42,
   "id": "adac1709",
   "metadata": {},
   "outputs": [
    {
     "name": "stdout",
     "output_type": "stream",
     "text": [
      "3\n",
      "0\n"
     ]
    }
   ],
   "source": [
    "# Left-right associativity\n",
    "# Output: 3\n",
    "print(5 * 2 // 3)\n",
    "\n",
    "# Shows left-right associativity\n",
    "# Output: 0\n",
    "print(5 * (2 // 3))"
   ]
  },
  {
   "cell_type": "code",
   "execution_count": 43,
   "id": "993b8c81",
   "metadata": {},
   "outputs": [
    {
     "name": "stdout",
     "output_type": "stream",
     "text": [
      "512\n",
      "64\n"
     ]
    }
   ],
   "source": [
    "# Shows the right-left associativity of **\n",
    "# Output: 512, Since 2**(3**2) = 2**9\n",
    "print(2 ** 3 ** 2)\n",
    "\n",
    "# If 2 needs to be exponated fisrt, need to use ()\n",
    "# Output: 64\n",
    "print((2 ** 3) ** 2)"
   ]
  },
  {
   "cell_type": "code",
   "execution_count": null,
   "id": "5a2bee9b",
   "metadata": {},
   "outputs": [],
   "source": []
  }
 ],
 "metadata": {
  "kernelspec": {
   "display_name": "Python 3 (ipykernel)",
   "language": "python",
   "name": "python3"
  },
  "language_info": {
   "codemirror_mode": {
    "name": "ipython",
    "version": 3
   },
   "file_extension": ".py",
   "mimetype": "text/x-python",
   "name": "python",
   "nbconvert_exporter": "python",
   "pygments_lexer": "ipython3",
   "version": "3.9.7"
  }
 },
 "nbformat": 4,
 "nbformat_minor": 5
}
